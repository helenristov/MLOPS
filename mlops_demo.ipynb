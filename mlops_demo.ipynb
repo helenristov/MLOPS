{
 "cells": [
  {
   "cell_type": "markdown",
   "metadata": {},
   "source": [
    "## Kubeflow pipelines\n",
    "\n",
    "This notebook goes through the steps of using Kubeflow pipelines using the Python3 interpreter (command-line) to preprocess, train, tune and deploy the taxi model.\n"
   ]
  },
  {
   "cell_type": "markdown",
   "metadata": {},
   "source": [
    "### 1. Start Hosted Pipelines and Notebook\n",
    "\n",
    "To try out this notebook, first launch Kubeflow Hosted Pipelines and an AI Platform Notebooks instance.\n",
    "Follow the instructions in this [README.md](README.md) file."
   ]
  },
  {
   "cell_type": "markdown",
   "metadata": {},
   "source": [
    "### 2. Install necessary packages"
   ]
  },
  {
   "cell_type": "code",
   "execution_count": null,
   "metadata": {},
   "outputs": [],
   "source": [
    "# Install tfx and kfp Python packages.\n",
    "import sys\n",
    "print(\"Install tfx and kfp Python packages\")\n",
    "!{sys.executable} -m pip install --user --upgrade -q tfx==0.25.0\n",
    "!{sys.executable} -m pip install --user --upgrade -q kfp==1.2.0\n",
    "# Download skaffold and set it executable.\n",
    "!curl -Lo skaffold https://storage.googleapis.com/skaffold/releases/latest/skaffold-linux-amd64 && chmod +x skaffold && mv skaffold /home/jupyter/.local/bin/\n"
   ]
  },
  {
   "cell_type": "code",
   "execution_count": null,
   "metadata": {},
   "outputs": [],
   "source": []
  },
  {
   "cell_type": "code",
   "execution_count": 1,
   "metadata": {},
   "outputs": [
    {
     "name": "stdout",
     "output_type": "stream",
     "text": [
      "env: PATH=/usr/local/cuda/bin:/opt/conda/bin:/opt/conda/condabin:/usr/local/bin:/usr/bin:/bin:/usr/local/games:/usr/games:/home/jupyter/.local/bin\n",
      "TFX version: 0.28.0\n"
     ]
    }
   ],
   "source": [
    "# Set PATH to include user python binary directory and directory containing skaffold\n",
    "PATH=%env PATH\n",
    "%env PATH={PATH}:/home/jupyter/.local/bin\n",
    "    \n",
    "# Check the version of TFX\n",
    "!python3 -c \"import tfx; print('TFX version: {}'.format(tfx.__version__))\""
   ]
  },
  {
   "cell_type": "markdown",
   "metadata": {},
   "source": [
    "### 3. Connect to the Hosted Pipelines\n",
    "\n",
    "Visit https://console.cloud.google.com/ai-platform/pipelines/clusters\n",
    "and get the hostname for your cluster.  You can get it by clicking on the Settings icon.\n",
    "Alternately, click on the Open Pipelines Dashboard link and look at the URL.\n",
    "Change the settings in the following cell"
   ]
  },
  {
   "cell_type": "code",
   "execution_count": 2,
   "metadata": {},
   "outputs": [
    {
     "name": "stdout",
     "output_type": "stream",
     "text": [
      "27fb1c8073599e32-dot-us-central1.pipelines.googleusercontent.com\n",
      "taxi-mlops-demo\n",
      "taxi-mlops-demo-kubeflowpipelines-default\n"
     ]
    }
   ],
   "source": [
    "# Set variables\n",
    "PIPELINES_HOST='27fb1c8073599e32-dot-us-central1.pipelines.googleusercontent.com'\n",
    "PROJECT='taxi-mlops-demo'\n",
    "BUCKET='taxi-mlops-demo-kubeflowpipelines-default'\n",
    "!echo $PIPELINES_HOST  \n",
    "!echo $PROJECT \n",
    "!echo $BUCKET"
   ]
  },
  {
   "cell_type": "code",
   "execution_count": 5,
   "metadata": {},
   "outputs": [
    {
     "name": "stdout",
     "output_type": "stream",
     "text": [
      "Process is terminated.\n"
     ]
    }
   ],
   "source": [
    "%%bash\n",
    "cd ~/mlops-demo/containers\n",
    "bash build_all.sh"
   ]
  },
  {
   "cell_type": "markdown",
   "metadata": {},
   "source": [
    "Pull the latest image and run the container to check that the Docker image work properly."
   ]
  },
  {
   "cell_type": "code",
   "execution_count": 8,
   "metadata": {},
   "outputs": [
    {
     "name": "stdout",
     "output_type": "stream",
     "text": [
      "latest: Pulling from taxi-mlops-demo/mlops-demo-train\n",
      "Digest: sha256:bc15f30a021ac2d56e5561acd94c3ac07126c797a50f7a4ca466178180ebf9c8\n",
      "Status: Image is up to date for gcr.io/taxi-mlops-demo/mlops-demo-train:latest\n",
      "gcr.io/taxi-mlops-demo/mlops-demo-train:latest\n",
      "latest: Pulling from taxi-mlops-demo/mlops-demo-deploy\n",
      "\n",
      "\u001b[1B726af2be: Already exists \n",
      "\u001b[1Beae5572c: Already exists \n",
      "\u001b[1Bde71df0f: Already exists \n",
      "\u001b[1Bbcaacc09: Already exists \n",
      "\u001b[1B2e432faf: Already exists \n",
      "\u001b[1B8d103e31: Already exists \n",
      "\u001b[1B95cf70fa: Already exists \n",
      "\u001b[1B22eb2a5d: Already exists \n",
      "\u001b[1Bc7511cef: Pulling fs layer \n",
      "\u001b[1B3e36d11c: Pulling fs layer \n",
      "\u001b[1BDigest: sha256:943890f1ef9b4d825b56e07d17c168e9181d31cbc05363927df241dbba981537\n",
      "Status: Downloaded newer image for gcr.io/taxi-mlops-demo/mlops-demo-deploy:latest\n",
      "gcr.io/taxi-mlops-demo/mlops-demo-deploy:latest\n",
      "REPOSITORY                                 TAG       IMAGE ID       CREATED          SIZE\n",
      "gcr.io/taxi-mlops-demo/mlops-demo-train    latest    b2b89588f811   6 minutes ago    2.72GB\n",
      "gcr.io/taxi-mlops-demo/mlops-demo-deploy   latest    c4b183ba5555   12 minutes ago   2.51GB\n",
      "gcr.io/taxi-mlops-demo/mlops-demo-deploy   <none>    560309887814   24 hours ago     2.51GB\n",
      "gcr.io/taxi-mlops-demo/mlops-demo-train    <none>    bb74b5accac6   24 hours ago     2.71GB\n",
      "gcr.io/taxi-mlops-demo/mlops-demo-train    <none>    d521dc4b45bd   24 hours ago     2.71GB\n",
      "gcr.io/taxi-mlops-demo/mlops-demo-deploy   <none>    83dfd40b1087   24 hours ago     2.51GB\n",
      "gcr.io/taxi-mlops-demo/mlops-demo-deploy   <none>    7081fc0095fc   25 hours ago     2.51GB\n",
      "gcr.io/taxi-mlops-demo/mlops-demo-deploy   <none>    c53b7bec5932   26 hours ago     2.51GB\n",
      "gcr.io/taxi-mlops-demo/mlops-demo-train    <none>    402e437352e6   26 hours ago     2.71GB\n",
      "gcr.io/inverting-proxy/agent               <none>    fe507176d0e6   2 months ago     1.73GB\n"
     ]
    }
   ],
   "source": [
    "!docker pull gcr.io/taxi-mlops-demo/mlops-demo-train:latest\n",
    "!docker pull gcr.io/taxi-mlops-demo/mlops-demo-deploy:latest\n",
    "!docker images"
   ]
  },
  {
   "cell_type": "markdown",
   "metadata": {},
   "source": [
    "### 4. Execute the Pipeline\n",
    "Upload to the Kubeflow pipeline cluster and run the pipeline"
   ]
  },
  {
   "cell_type": "code",
   "execution_count": 9,
   "metadata": {},
   "outputs": [],
   "source": [
    "import kfp\n",
    "import os\n",
    "client = kfp.Client(host=PIPELINES_HOST)\n",
    "#client.list_pipelines()"
   ]
  },
  {
   "cell_type": "code",
   "execution_count": 10,
   "metadata": {},
   "outputs": [
    {
     "data": {
      "text/html": [
       "<a href=\"http://27fb1c8073599e32-dot-us-central1.pipelines.googleusercontent.com/#/experiments/details/351b858c-2d01-4dfb-b3ae-2ffd9ec7a1ed\" target=\"_blank\" >Experiment details</a>."
      ],
      "text/plain": [
       "<IPython.core.display.HTML object>"
      ]
     },
     "metadata": {},
     "output_type": "display_data"
    },
    {
     "data": {
      "text/html": [
       "<a href=\"http://27fb1c8073599e32-dot-us-central1.pipelines.googleusercontent.com/#/runs/details/89867796-b4f8-4141-93b6-2e2f58aa5666\" target=\"_blank\" >Run details</a>."
      ],
      "text/plain": [
       "<IPython.core.display.HTML object>"
      ]
     },
     "metadata": {},
     "output_type": "display_data"
    }
   ],
   "source": [
    "from containers.pipeline import mlops_demo\n",
    "\n",
    "# Invoked from a Cloud Run, it launches a Pipeline on kfp (see containers/pipeline/cloudrunapp.py )\n",
    "args = {\n",
    "    'project' : PROJECT, \n",
    "    'bucket' : BUCKET\n",
    "}\n",
    "\n",
    "pipeline = client.create_run_from_pipeline_func(mlops_demo.train_and_deploy, args)"
   ]
  },
  {
   "cell_type": "markdown",
   "metadata": {},
   "source": [
    "### Compile KFP"
   ]
  },
  {
   "cell_type": "code",
   "execution_count": 11,
   "metadata": {},
   "outputs": [],
   "source": [
    "%%bash\n",
    "cd ~/mlops-demo/containers\n",
    "dsl-compile --py ./pipeline/mlops_demo.py --function train_and_deploy --output mlops-demo-pipeline.tar.gz "
   ]
  },
  {
   "cell_type": "markdown",
   "metadata": {},
   "source": [
    "### Model Monitoring and Drift Proposal\n",
    "Model drift mitigation is achieved by retraining the model with newer data. \n",
    "The retraining strategy could rely on a comparison between the training dataset target average value and the predictions mean value. \n",
    "A retraining would be automatically triggered by the Kubeflow pipeline if the difference between those two values is high.\n",
    "\n",
    "## Overview\n",
    "- Define 2 pipelines:\n",
    "    - The first pipeline (train/deploy) trains the ML model and serves it for prediction.\n",
    "    - The second pipeline (retrain/check) runs every now and then and checks if the model has become obsolete. If so, it triggers the first pipeline if the model outperforms the live version of the model.\n",
    "- Set up a database instance hosted in a Google Cloud SQL (Postgresql) to store training jobs metrics and prediction results. \n",
    "    - Deploy the database proxy in the Kubeflow cluster as a service to provide an encrypted connection to the database.\n",
    "- When the model is trained, it exports its metrics in a csv file in Google Cloud Storage. The goal here is not only to retrain a model, but also to serve it for predictions if that newly retrained model is better than the live one.\n",
    "- Automate the execution of the retraining pipeline: Check whether the model has already drifted or not and launch the retraining pipeline accordingly.\n",
    "- Set up another process responsible for fetching new data and storing it in the same repository/bucket where we read our training and evaluation data from.\n"
   ]
  },
  {
   "cell_type": "markdown",
   "metadata": {},
   "source": [
    "### Create a Cloud SQL Postgres instance 'mlops-demo-postgres'"
   ]
  },
  {
   "cell_type": "code",
   "execution_count": null,
   "metadata": {},
   "outputs": [],
   "source": [
    "!gcloud sql instances create mlops-demo-postgres --tier db-f1-micro --database-version=POSTGRES_12 --zone=us-central1-c -q"
   ]
  },
  {
   "cell_type": "markdown",
   "metadata": {},
   "source": [
    "### Create a database in the postgres instance and name it 'retraining-db"
   ]
  },
  {
   "cell_type": "code",
   "execution_count": null,
   "metadata": {},
   "outputs": [],
   "source": [
    "!gcloud sql databases create retraining-db --instance=mlops-demo-postgres"
   ]
  },
  {
   "cell_type": "markdown",
   "metadata": {},
   "source": [
    "### Create a service to expose a Cloud SQL proxy to your Cloud instance"
   ]
  },
  {
   "cell_type": "code",
   "execution_count": null,
   "metadata": {},
   "outputs": [],
   "source": [
    "!cd ~/mlops-demo\n",
    "!gcloud container clusters get-credentials cluster-mlpos-demo --zone us-central1-c"
   ]
  },
  {
   "cell_type": "code",
   "execution_count": null,
   "metadata": {},
   "outputs": [],
   "source": [
    "!kubectl apply -f manifests/namespace.yaml\n",
    "!kubectl apply -f manifests/pod.yaml\n",
    "#!kubectl apply -f service/yaml"
   ]
  },
  {
   "cell_type": "markdown",
   "metadata": {},
   "source": [
    "### Create a secret using the Postgres user created above credentials"
   ]
  },
  {
   "cell_type": "code",
   "execution_count": null,
   "metadata": {},
   "outputs": [],
   "source": [
    "!kubectl apply -f manifests/secret.yaml"
   ]
  },
  {
   "cell_type": "code",
   "execution_count": null,
   "metadata": {},
   "outputs": [],
   "source": []
  },
  {
   "cell_type": "code",
   "execution_count": null,
   "metadata": {},
   "outputs": [],
   "source": []
  }
 ],
 "metadata": {
  "environment": {
   "name": "tf2-gpu.2-4.m69",
   "type": "gcloud",
   "uri": "gcr.io/deeplearning-platform-release/tf2-gpu.2-4:m69"
  },
  "kernelspec": {
   "display_name": "Python 3",
   "language": "python",
   "name": "python3"
  },
  "language_info": {
   "codemirror_mode": {
    "name": "ipython",
    "version": 3
   },
   "file_extension": ".py",
   "mimetype": "text/x-python",
   "name": "python",
   "nbconvert_exporter": "python",
   "pygments_lexer": "ipython3",
   "version": "3.7.10"
  }
 },
 "nbformat": 4,
 "nbformat_minor": 4
}
