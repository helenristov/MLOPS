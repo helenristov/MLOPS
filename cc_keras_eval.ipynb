{
 "cells": [
  {
   "cell_type": "markdown",
   "id": "c313f3db",
   "metadata": {},
   "source": [
    "# Sample Model to Predict Taxi Cab Trip Time"
   ]
  },
  {
   "cell_type": "markdown",
   "id": "753ba9a6",
   "metadata": {},
   "source": [
    "##### This notebook will contain the model script to generate predictions for trip time to be used with the Kubeflow pipelines established. Any model can replace this one to illustrate the functionality of the MLOPS environment."
   ]
  },
  {
   "cell_type": "code",
   "execution_count": 1,
   "id": "ff5cf43a",
   "metadata": {},
   "outputs": [],
   "source": [
    "##load libraries\n",
    "import pandas as pd\n",
    "import matplotlib.pyplot as plt\n",
    "import seaborn as sns\n",
    "%matplotlib inline\n",
    "from io import BytesIO\n",
    "from google.cloud import storage\n",
    "import tensorflow as tf"
   ]
  },
  {
   "cell_type": "code",
   "execution_count": 2,
   "id": "66d9ce9b",
   "metadata": {},
   "outputs": [],
   "source": [
    "import numpy as np\n",
    "import json"
   ]
  },
  {
   "cell_type": "code",
   "execution_count": 8,
   "id": "4f304a6a",
   "metadata": {},
   "outputs": [],
   "source": [
    "storage_client = storage.Client()\n",
    "bk = storage_client.get_bucket('taxi-mlops-demo-kubeflowpipelines-default')\n",
    "blob = bk.get_blob('mlops_demo/model_metrics.json') \n",
    "fileData = json.loads(blob.download_as_string())   \n",
    "new_mae = fileData['curr_mae']"
   ]
  },
  {
   "cell_type": "code",
   "execution_count": 9,
   "id": "f1f37ae5",
   "metadata": {},
   "outputs": [
    {
     "data": {
      "text/plain": [
       "1000000"
      ]
     },
     "execution_count": 9,
     "metadata": {},
     "output_type": "execute_result"
    }
   ],
   "source": [
    "int(1e6)"
   ]
  },
  {
   "cell_type": "code",
   "execution_count": 11,
   "id": "6b150a93",
   "metadata": {},
   "outputs": [],
   "source": [
    "file1 = open(\"output.txt\",\"a\")"
   ]
  },
  {
   "cell_type": "code",
   "execution_count": 12,
   "id": "b63aed2c",
   "metadata": {},
   "outputs": [
    {
     "data": {
      "text/plain": [
       "7"
      ]
     },
     "execution_count": 12,
     "metadata": {},
     "output_type": "execute_result"
    }
   ],
   "source": [
    "file1.write(\"Hello \\n\")"
   ]
  },
  {
   "cell_type": "code",
   "execution_count": 13,
   "id": "50dac74e",
   "metadata": {},
   "outputs": [],
   "source": [
    "file1.close()"
   ]
  },
  {
   "cell_type": "code",
   "execution_count": 14,
   "id": "d5ee8d23",
   "metadata": {},
   "outputs": [],
   "source": [
    "file1 = open(\"output.txt\",\"r+\")"
   ]
  },
  {
   "cell_type": "code",
   "execution_count": 15,
   "id": "919083ea",
   "metadata": {},
   "outputs": [
    {
     "data": {
      "text/plain": [
       "'Hello \\n'"
      ]
     },
     "execution_count": 15,
     "metadata": {},
     "output_type": "execute_result"
    }
   ],
   "source": [
    "file1.read()"
   ]
  },
  {
   "cell_type": "code",
   "execution_count": 7,
   "id": "9170306c",
   "metadata": {},
   "outputs": [
    {
     "ename": "AttributeError",
     "evalue": "'NoneType' object has no attribute 'download_as_string'",
     "output_type": "error",
     "traceback": [
      "\u001b[0;31m---------------------------------------------------------------------------\u001b[0m",
      "\u001b[0;31mAttributeError\u001b[0m                            Traceback (most recent call last)",
      "\u001b[0;32m<ipython-input-7-abb71161b4e3>\u001b[0m in \u001b[0;36m<module>\u001b[0;34m\u001b[0m\n\u001b[1;32m      4\u001b[0m     \u001b[0;31m# Get the file we want\u001b[0m\u001b[0;34m\u001b[0m\u001b[0;34m\u001b[0m\u001b[0;34m\u001b[0m\u001b[0m\n\u001b[1;32m      5\u001b[0m \u001b[0mblob\u001b[0m \u001b[0;34m=\u001b[0m \u001b[0mbucket\u001b[0m\u001b[0;34m.\u001b[0m\u001b[0mget_blob\u001b[0m\u001b[0;34m(\u001b[0m\u001b[0;34m'mlops_demo/eval/model_metrics.json'\u001b[0m\u001b[0;34m)\u001b[0m\u001b[0;34m\u001b[0m\u001b[0;34m\u001b[0m\u001b[0m\n\u001b[0;32m----> 6\u001b[0;31m \u001b[0mfileData\u001b[0m \u001b[0;34m=\u001b[0m \u001b[0mjson\u001b[0m\u001b[0;34m.\u001b[0m\u001b[0mloads\u001b[0m\u001b[0;34m(\u001b[0m\u001b[0mblob\u001b[0m\u001b[0;34m.\u001b[0m\u001b[0mdownload_as_string\u001b[0m\u001b[0;34m(\u001b[0m\u001b[0;34m)\u001b[0m\u001b[0;34m)\u001b[0m\u001b[0;34m\u001b[0m\u001b[0;34m\u001b[0m\u001b[0m\n\u001b[0m\u001b[1;32m      7\u001b[0m \u001b[0;34m\u001b[0m\u001b[0m\n\u001b[1;32m      8\u001b[0m \u001b[0;31m#with open(\"gs://taxi-mlops-demo-kubeflowpipelines-default/mlops_demo/eval/model_metrics.json\") as f:\u001b[0m\u001b[0;34m\u001b[0m\u001b[0;34m\u001b[0m\u001b[0;34m\u001b[0m\u001b[0m\n",
      "\u001b[0;31mAttributeError\u001b[0m: 'NoneType' object has no attribute 'download_as_string'"
     ]
    }
   ],
   "source": [
    "##connect to training dataset\n",
    "storage_client = storage.Client()\n",
    "bucket = storage_client.get_bucket('taxi-mlops-demo-kubeflowpipelines-default')\n",
    "    # Get the file we want\n",
    "blob = bucket.get_blob('mlops_demo/eval/model_metrics.json')\n",
    "fileData = json.loads(blob.download_as_string())\n",
    "\n",
    "#with open(\"gs://taxi-mlops-demo-kubeflowpipelines-default/mlops_demo/eval/model_metrics.json\") as f:\n",
    "   #   curr_mae = json.load(f)['curr_mae']"
   ]
  },
  {
   "cell_type": "code",
   "execution_count": 45,
   "id": "dd87527d",
   "metadata": {},
   "outputs": [
    {
     "data": {
      "text/plain": [
       "413708"
      ]
     },
     "execution_count": 45,
     "metadata": {},
     "output_type": "execute_result"
    }
   ],
   "source": [
    "fileData['new_mae']"
   ]
  },
  {
   "cell_type": "code",
   "execution_count": 3,
   "id": "c5769d1c",
   "metadata": {},
   "outputs": [
    {
     "name": "stderr",
     "output_type": "stream",
     "text": [
      "/opt/conda/lib/python3.7/site-packages/IPython/core/interactiveshell.py:3170: DtypeWarning: Columns (10,13) have mixed types.Specify dtype option on import or set low_memory=False.\n",
      "  interactivity=interactivity, compiler=compiler, result=result)\n"
     ]
    }
   ],
   "source": [
    "##connect to training dataset\n",
    "storage_client = storage.Client()\n",
    "bucket = storage_client.get_bucket('mlops_model_input')\n",
    "file = '/data_input/Taxi_Trips_3mo.csv'\n",
    "blob = bucket.blob(file)\n",
    "path = \"gs://mlops_model_input\" + file\n",
    "df = pd.read_csv(path)"
   ]
  },
  {
   "cell_type": "code",
   "execution_count": 5,
   "id": "c4db94ad",
   "metadata": {},
   "outputs": [
    {
     "data": {
      "text/plain": [
       "Trip ID                        object\n",
       "Taxi ID                        object\n",
       "Trip Start Timestamp           object\n",
       "Trip End Timestamp             object\n",
       "Trip Seconds                   object\n",
       "Trip Miles                    float64\n",
       "Pickup Census Tract           float64\n",
       "Dropoff Census Tract          float64\n",
       "Pickup Community Area         float64\n",
       "Dropoff Community Area        float64\n",
       "Fare                           object\n",
       "Tips                          float64\n",
       "Tolls                         float64\n",
       "Extras                         object\n",
       "Trip Total                     object\n",
       "Payment Type                   object\n",
       "Company                        object\n",
       "Pickup Centroid Latitude      float64\n",
       "Pickup Centroid Longitude     float64\n",
       "Pickup Centroid Location       object\n",
       "Dropoff Centroid Latitude     float64\n",
       "Dropoff Centroid Longitude    float64\n",
       "Dropoff Centroid  Location     object\n",
       "dtype: object"
      ]
     },
     "execution_count": 5,
     "metadata": {},
     "output_type": "execute_result"
    }
   ],
   "source": [
    "df.dtypes"
   ]
  },
  {
   "cell_type": "code",
   "execution_count": 6,
   "id": "3e5cb7de",
   "metadata": {},
   "outputs": [
    {
     "data": {
      "text/html": [
       "<div>\n",
       "<style scoped>\n",
       "    .dataframe tbody tr th:only-of-type {\n",
       "        vertical-align: middle;\n",
       "    }\n",
       "\n",
       "    .dataframe tbody tr th {\n",
       "        vertical-align: top;\n",
       "    }\n",
       "\n",
       "    .dataframe thead th {\n",
       "        text-align: right;\n",
       "    }\n",
       "</style>\n",
       "<table border=\"1\" class=\"dataframe\">\n",
       "  <thead>\n",
       "    <tr style=\"text-align: right;\">\n",
       "      <th></th>\n",
       "      <th>Trip ID</th>\n",
       "      <th>Taxi ID</th>\n",
       "      <th>Trip Start Timestamp</th>\n",
       "      <th>Trip End Timestamp</th>\n",
       "      <th>Trip Seconds</th>\n",
       "      <th>Trip Miles</th>\n",
       "      <th>Pickup Census Tract</th>\n",
       "      <th>Dropoff Census Tract</th>\n",
       "      <th>Pickup Community Area</th>\n",
       "      <th>Dropoff Community Area</th>\n",
       "      <th>...</th>\n",
       "      <th>Extras</th>\n",
       "      <th>Trip Total</th>\n",
       "      <th>Payment Type</th>\n",
       "      <th>Company</th>\n",
       "      <th>Pickup Centroid Latitude</th>\n",
       "      <th>Pickup Centroid Longitude</th>\n",
       "      <th>Pickup Centroid Location</th>\n",
       "      <th>Dropoff Centroid Latitude</th>\n",
       "      <th>Dropoff Centroid Longitude</th>\n",
       "      <th>Dropoff Centroid  Location</th>\n",
       "    </tr>\n",
       "  </thead>\n",
       "  <tbody>\n",
       "    <tr>\n",
       "      <th>0</th>\n",
       "      <td>3e1ac82501797e2e6cd020d2eb6a47774add503f</td>\n",
       "      <td>51e37146cd6467734e50a00ffe2ebbb77ee35e5f207817...</td>\n",
       "      <td>01/01/2021 12:15:00 AM</td>\n",
       "      <td>01/01/2021 12:30:00 AM</td>\n",
       "      <td>1,140</td>\n",
       "      <td>6.4</td>\n",
       "      <td>NaN</td>\n",
       "      <td>NaN</td>\n",
       "      <td>28.0</td>\n",
       "      <td>6.0</td>\n",
       "      <td>...</td>\n",
       "      <td>0.0</td>\n",
       "      <td>25.35</td>\n",
       "      <td>Credit Card</td>\n",
       "      <td>Medallion Leasin</td>\n",
       "      <td>41.874005</td>\n",
       "      <td>-87.663518</td>\n",
       "      <td>POINT (-87.6635175498 41.874005383)</td>\n",
       "      <td>41.944227</td>\n",
       "      <td>-87.655998</td>\n",
       "      <td>POINT (-87.6559981815 41.9442266014)</td>\n",
       "    </tr>\n",
       "    <tr>\n",
       "      <th>1</th>\n",
       "      <td>3adf277e43154ac0cd099c7bb7137f75dcfded95</td>\n",
       "      <td>d24314a66ebc6319a50cc335d6896612b845ca15f702ee...</td>\n",
       "      <td>01/01/2021 12:15:00 AM</td>\n",
       "      <td>01/01/2021 12:15:00 AM</td>\n",
       "      <td>420</td>\n",
       "      <td>1.3</td>\n",
       "      <td>NaN</td>\n",
       "      <td>NaN</td>\n",
       "      <td>8.0</td>\n",
       "      <td>8.0</td>\n",
       "      <td>...</td>\n",
       "      <td>0.0</td>\n",
       "      <td>7.00</td>\n",
       "      <td>Cash</td>\n",
       "      <td>Top Cab Affiliation</td>\n",
       "      <td>41.899602</td>\n",
       "      <td>-87.633308</td>\n",
       "      <td>POINT (-87.6333080367 41.899602111)</td>\n",
       "      <td>41.899602</td>\n",
       "      <td>-87.633308</td>\n",
       "      <td>POINT (-87.6333080367 41.899602111)</td>\n",
       "    </tr>\n",
       "    <tr>\n",
       "      <th>2</th>\n",
       "      <td>352e025da59c35567204a5025d0a7ebbb41e7e93</td>\n",
       "      <td>67d5ca2736337fa9f349db0f29887fe290c0cd84263055...</td>\n",
       "      <td>01/01/2021 12:15:00 AM</td>\n",
       "      <td>01/01/2021 12:30:00 AM</td>\n",
       "      <td>660</td>\n",
       "      <td>4.7</td>\n",
       "      <td>NaN</td>\n",
       "      <td>NaN</td>\n",
       "      <td>7.0</td>\n",
       "      <td>3.0</td>\n",
       "      <td>...</td>\n",
       "      <td>0.0</td>\n",
       "      <td>14.25</td>\n",
       "      <td>Cash</td>\n",
       "      <td>Medallion Leasin</td>\n",
       "      <td>41.922686</td>\n",
       "      <td>-87.649489</td>\n",
       "      <td>POINT (-87.6494887289 41.9226862843)</td>\n",
       "      <td>41.965812</td>\n",
       "      <td>-87.655879</td>\n",
       "      <td>POINT (-87.6558787862 41.96581197)</td>\n",
       "    </tr>\n",
       "    <tr>\n",
       "      <th>3</th>\n",
       "      <td>3276bc172c61ea58ce803d2f34611f6c074c14f1</td>\n",
       "      <td>35057a271731c5b976bda25efe85aa0c1901d0a5fc9ba2...</td>\n",
       "      <td>01/01/2021 12:15:00 AM</td>\n",
       "      <td>01/01/2021 12:15:00 AM</td>\n",
       "      <td>0</td>\n",
       "      <td>0.0</td>\n",
       "      <td>NaN</td>\n",
       "      <td>NaN</td>\n",
       "      <td>8.0</td>\n",
       "      <td>8.0</td>\n",
       "      <td>...</td>\n",
       "      <td>0.0</td>\n",
       "      <td>25.03</td>\n",
       "      <td>Credit Card</td>\n",
       "      <td>Chicago Independents</td>\n",
       "      <td>41.899602</td>\n",
       "      <td>-87.633308</td>\n",
       "      <td>POINT (-87.6333080367 41.899602111)</td>\n",
       "      <td>41.899602</td>\n",
       "      <td>-87.633308</td>\n",
       "      <td>POINT (-87.6333080367 41.899602111)</td>\n",
       "    </tr>\n",
       "    <tr>\n",
       "      <th>4</th>\n",
       "      <td>46e7d47c11aa83bc3488d7df84f901a92b961461</td>\n",
       "      <td>19e804a8eab9224b352e6a384007418b519864a3e7c2d9...</td>\n",
       "      <td>01/01/2021 12:15:00 AM</td>\n",
       "      <td>01/01/2021 12:15:00 AM</td>\n",
       "      <td>199</td>\n",
       "      <td>1.1</td>\n",
       "      <td>NaN</td>\n",
       "      <td>NaN</td>\n",
       "      <td>14.0</td>\n",
       "      <td>13.0</td>\n",
       "      <td>...</td>\n",
       "      <td>0.0</td>\n",
       "      <td>5.75</td>\n",
       "      <td>Cash</td>\n",
       "      <td>Medallion Leasin</td>\n",
       "      <td>41.968069</td>\n",
       "      <td>-87.721559</td>\n",
       "      <td>POINT (-87.7215590627 41.968069)</td>\n",
       "      <td>41.983636</td>\n",
       "      <td>-87.723583</td>\n",
       "      <td>POINT (-87.7235831853 41.9836363072)</td>\n",
       "    </tr>\n",
       "  </tbody>\n",
       "</table>\n",
       "<p>5 rows × 23 columns</p>\n",
       "</div>"
      ],
      "text/plain": [
       "                                    Trip ID  \\\n",
       "0  3e1ac82501797e2e6cd020d2eb6a47774add503f   \n",
       "1  3adf277e43154ac0cd099c7bb7137f75dcfded95   \n",
       "2  352e025da59c35567204a5025d0a7ebbb41e7e93   \n",
       "3  3276bc172c61ea58ce803d2f34611f6c074c14f1   \n",
       "4  46e7d47c11aa83bc3488d7df84f901a92b961461   \n",
       "\n",
       "                                             Taxi ID    Trip Start Timestamp  \\\n",
       "0  51e37146cd6467734e50a00ffe2ebbb77ee35e5f207817...  01/01/2021 12:15:00 AM   \n",
       "1  d24314a66ebc6319a50cc335d6896612b845ca15f702ee...  01/01/2021 12:15:00 AM   \n",
       "2  67d5ca2736337fa9f349db0f29887fe290c0cd84263055...  01/01/2021 12:15:00 AM   \n",
       "3  35057a271731c5b976bda25efe85aa0c1901d0a5fc9ba2...  01/01/2021 12:15:00 AM   \n",
       "4  19e804a8eab9224b352e6a384007418b519864a3e7c2d9...  01/01/2021 12:15:00 AM   \n",
       "\n",
       "       Trip End Timestamp Trip Seconds  Trip Miles  Pickup Census Tract  \\\n",
       "0  01/01/2021 12:30:00 AM        1,140         6.4                  NaN   \n",
       "1  01/01/2021 12:15:00 AM          420         1.3                  NaN   \n",
       "2  01/01/2021 12:30:00 AM          660         4.7                  NaN   \n",
       "3  01/01/2021 12:15:00 AM            0         0.0                  NaN   \n",
       "4  01/01/2021 12:15:00 AM          199         1.1                  NaN   \n",
       "\n",
       "   Dropoff Census Tract  Pickup Community Area  Dropoff Community Area  ...  \\\n",
       "0                   NaN                   28.0                     6.0  ...   \n",
       "1                   NaN                    8.0                     8.0  ...   \n",
       "2                   NaN                    7.0                     3.0  ...   \n",
       "3                   NaN                    8.0                     8.0  ...   \n",
       "4                   NaN                   14.0                    13.0  ...   \n",
       "\n",
       "  Extras  Trip Total  Payment Type               Company  \\\n",
       "0    0.0       25.35   Credit Card      Medallion Leasin   \n",
       "1    0.0        7.00          Cash   Top Cab Affiliation   \n",
       "2    0.0       14.25          Cash      Medallion Leasin   \n",
       "3    0.0       25.03   Credit Card  Chicago Independents   \n",
       "4    0.0        5.75          Cash      Medallion Leasin   \n",
       "\n",
       "  Pickup Centroid Latitude Pickup Centroid Longitude  \\\n",
       "0                41.874005                -87.663518   \n",
       "1                41.899602                -87.633308   \n",
       "2                41.922686                -87.649489   \n",
       "3                41.899602                -87.633308   \n",
       "4                41.968069                -87.721559   \n",
       "\n",
       "               Pickup Centroid Location  Dropoff Centroid Latitude  \\\n",
       "0   POINT (-87.6635175498 41.874005383)                  41.944227   \n",
       "1   POINT (-87.6333080367 41.899602111)                  41.899602   \n",
       "2  POINT (-87.6494887289 41.9226862843)                  41.965812   \n",
       "3   POINT (-87.6333080367 41.899602111)                  41.899602   \n",
       "4      POINT (-87.7215590627 41.968069)                  41.983636   \n",
       "\n",
       "   Dropoff Centroid Longitude            Dropoff Centroid  Location  \n",
       "0                  -87.655998  POINT (-87.6559981815 41.9442266014)  \n",
       "1                  -87.633308   POINT (-87.6333080367 41.899602111)  \n",
       "2                  -87.655879    POINT (-87.6558787862 41.96581197)  \n",
       "3                  -87.633308   POINT (-87.6333080367 41.899602111)  \n",
       "4                  -87.723583  POINT (-87.7235831853 41.9836363072)  \n",
       "\n",
       "[5 rows x 23 columns]"
      ]
     },
     "execution_count": 6,
     "metadata": {},
     "output_type": "execute_result"
    }
   ],
   "source": [
    "df.head()"
   ]
  },
  {
   "cell_type": "code",
   "execution_count": 4,
   "id": "95a8f97b",
   "metadata": {},
   "outputs": [],
   "source": [
    "df['Trip Start Timestamp'] = pd.to_datetime(df['Trip Start Timestamp'])"
   ]
  },
  {
   "cell_type": "code",
   "execution_count": 5,
   "id": "3fdaf107",
   "metadata": {},
   "outputs": [],
   "source": [
    "df['start_hr'] = df['Trip Start Timestamp'].dt.hour"
   ]
  },
  {
   "cell_type": "code",
   "execution_count": 6,
   "id": "74273e19",
   "metadata": {},
   "outputs": [],
   "source": [
    "df['start_dow'] = df['Trip Start Timestamp'].dt.day_name()"
   ]
  },
  {
   "cell_type": "markdown",
   "id": "93958546",
   "metadata": {},
   "source": [
    "#### Our Model will use and try to predict the total number of Trip Seconds and we will set that to be the dependent variable"
   ]
  },
  {
   "cell_type": "code",
   "execution_count": 7,
   "id": "100e35af",
   "metadata": {},
   "outputs": [],
   "source": [
    "x_cols = [\"Pickup Centroid Latitude\",\"Pickup Centroid Longitude\", \"Dropoff Centroid Longitude\", \n",
    "          \"Dropoff Centroid Latitude\",'start_hr',\n",
    "    'start_dow','Trip Miles']"
   ]
  },
  {
   "cell_type": "code",
   "execution_count": 8,
   "id": "760c3e8d",
   "metadata": {},
   "outputs": [],
   "source": [
    "df = df.dropna(subset=x_cols+['Trip Seconds'])"
   ]
  },
  {
   "cell_type": "code",
   "execution_count": 9,
   "id": "e8ea000d",
   "metadata": {},
   "outputs": [],
   "source": [
    "df['Trip Seconds'] = df['Trip Seconds'].str.replace(',','').astype(int)"
   ]
  },
  {
   "cell_type": "code",
   "execution_count": 10,
   "id": "302508b9",
   "metadata": {},
   "outputs": [],
   "source": [
    "df['Trip Seconds'] = df['Trip Seconds'].astype(int)"
   ]
  },
  {
   "cell_type": "code",
   "execution_count": 11,
   "id": "87fe26ab",
   "metadata": {},
   "outputs": [],
   "source": [
    "df = df.loc[df['Trip Seconds'] < 5000,:]"
   ]
  },
  {
   "cell_type": "code",
   "execution_count": 12,
   "id": "34709814",
   "metadata": {},
   "outputs": [],
   "source": [
    "df = df[df['Trip Seconds'] > 300]"
   ]
  },
  {
   "cell_type": "markdown",
   "id": "53f8b0ea",
   "metadata": {},
   "source": [
    "### Subset to main columns & get train_df"
   ]
  },
  {
   "cell_type": "code",
   "execution_count": 13,
   "id": "8c217d92",
   "metadata": {},
   "outputs": [],
   "source": [
    "train_df = df.loc[:,x_cols+['Trip Seconds']]"
   ]
  },
  {
   "cell_type": "code",
   "execution_count": 14,
   "id": "d8d374e9",
   "metadata": {},
   "outputs": [],
   "source": [
    "categorical_columns = ['start_dow']\n",
    "numeric_columns = [\"Pickup Centroid Latitude\",\"Pickup Centroid Longitude\", \n",
    "                   \"Dropoff Centroid Longitude\", \n",
    "          \"Dropoff Centroid Latitude\",'start_hr','Trip Miles','Trip Seconds']"
   ]
  },
  {
   "cell_type": "code",
   "execution_count": 15,
   "id": "19ee2cfa",
   "metadata": {},
   "outputs": [],
   "source": [
    "def preprocess(dataframe, cat_columns,numeric_columns):\n",
    "    \"\"\"Converts categorical features to numeric. Removes unused columns.\n",
    "\n",
    "    Args:\n",
    "      dataframe: Pandas dataframe with raw data\n",
    "\n",
    "    Returns:\n",
    "      Dataframe with preprocessed data\n",
    "    \"\"\"\n",
    "\n",
    "    \n",
    "    \n",
    "    #1h-encode\n",
    "    for col in cat_columns:\n",
    "        dataframe = dataframe.join(pd.get_dummies(dataframe[col]))\n",
    "        dataframe = dataframe.drop(columns=[col])\n",
    "    \n",
    "    # Convert integer valued (numeric) columns to floating point\n",
    "    dataframe = dataframe.astype('float32')\n",
    "    \n",
    "        \n",
    "    return dataframe"
   ]
  },
  {
   "cell_type": "code",
   "execution_count": 16,
   "id": "62a6dfa0",
   "metadata": {},
   "outputs": [],
   "source": [
    "random_seed = 42\n",
    "tf.random.set_seed(random_seed)\n",
    "np.random.seed(random_seed)"
   ]
  },
  {
   "cell_type": "code",
   "execution_count": 17,
   "id": "cb8f2648",
   "metadata": {},
   "outputs": [],
   "source": [
    "prepped_train_df = preprocess(train_df,categorical_columns,numeric_columns)"
   ]
  },
  {
   "cell_type": "code",
   "execution_count": 19,
   "id": "a85ed032",
   "metadata": {},
   "outputs": [],
   "source": [
    "_LABEL_COLUMN = 'Trip Seconds'"
   ]
  },
  {
   "cell_type": "code",
   "execution_count": 20,
   "id": "4a707c4e",
   "metadata": {},
   "outputs": [],
   "source": [
    "# Split train and test data with labels.\n",
    "# The pop() method will extract (copy) and remove the label column from the dataframe\n",
    "train_x, train_y = prepped_train_df, prepped_train_df.pop(_LABEL_COLUMN)\n",
    "\n",
    "# Reshape label columns for use with tf.data.Dataset\n",
    "train_y = np.asarray(train_y).astype('float32').reshape((-1, 1))"
   ]
  },
  {
   "cell_type": "code",
   "execution_count": 21,
   "id": "dc401db4",
   "metadata": {},
   "outputs": [],
   "source": [
    "def standardize(dataframe):\n",
    "  \"\"\"Scales numerical columns using their means and standard deviation to get\n",
    "  z-scores: the mean of each numerical column becomes 0, and the standard\n",
    "  deviation becomes 1. This can help the model converge during training.\n",
    "\n",
    "  Args:\n",
    "    dataframe: Pandas dataframe\n",
    "\n",
    "  Returns:\n",
    "    Input dataframe with the numerical columns scaled to z-scores\n",
    "  \"\"\"\n",
    "  dtypes = list(zip(dataframe.dtypes.index, map(str, dataframe.dtypes)))\n",
    "  # Normalize numeric columns.\n",
    "  for column, dtype in dtypes:\n",
    "      if dtype == 'float32':\n",
    "          dataframe[column] -= dataframe[column].mean()\n",
    "          dataframe[column] /= dataframe[column].std()\n",
    "  return dataframe\n",
    "\n",
    "\n",
    "# Join train_x and eval_x to normalize on overall means and standard\n",
    "# deviations. Then separate them again.\n",
    "train_x = standardize(train_x)"
   ]
  },
  {
   "cell_type": "code",
   "execution_count": 22,
   "id": "2b3b15b1",
   "metadata": {},
   "outputs": [
    {
     "data": {
      "text/html": [
       "<div>\n",
       "<style scoped>\n",
       "    .dataframe tbody tr th:only-of-type {\n",
       "        vertical-align: middle;\n",
       "    }\n",
       "\n",
       "    .dataframe tbody tr th {\n",
       "        vertical-align: top;\n",
       "    }\n",
       "\n",
       "    .dataframe thead th {\n",
       "        text-align: right;\n",
       "    }\n",
       "</style>\n",
       "<table border=\"1\" class=\"dataframe\">\n",
       "  <thead>\n",
       "    <tr style=\"text-align: right;\">\n",
       "      <th></th>\n",
       "      <th>Pickup Centroid Latitude</th>\n",
       "      <th>Pickup Centroid Longitude</th>\n",
       "      <th>Dropoff Centroid Longitude</th>\n",
       "      <th>Dropoff Centroid Latitude</th>\n",
       "      <th>start_hr</th>\n",
       "      <th>Trip Miles</th>\n",
       "      <th>Friday</th>\n",
       "      <th>Monday</th>\n",
       "      <th>Saturday</th>\n",
       "      <th>Sunday</th>\n",
       "      <th>Thursday</th>\n",
       "      <th>Tuesday</th>\n",
       "      <th>Wednesday</th>\n",
       "    </tr>\n",
       "  </thead>\n",
       "  <tbody>\n",
       "    <tr>\n",
       "      <th>0</th>\n",
       "      <td>-1.160408</td>\n",
       "      <td>2.806463</td>\n",
       "      <td>4.199026</td>\n",
       "      <td>-0.203595</td>\n",
       "      <td>-2.898304</td>\n",
       "      <td>0.130545</td>\n",
       "      <td>2.265493</td>\n",
       "      <td>-0.429313</td>\n",
       "      <td>-0.374679</td>\n",
       "      <td>-0.323708</td>\n",
       "      <td>-0.422757</td>\n",
       "      <td>-0.423209</td>\n",
       "      <td>-0.435342</td>\n",
       "    </tr>\n",
       "    <tr>\n",
       "      <th>1</th>\n",
       "      <td>-0.819246</td>\n",
       "      <td>3.166057</td>\n",
       "      <td>4.601823</td>\n",
       "      <td>-0.807461</td>\n",
       "      <td>-2.898304</td>\n",
       "      <td>-0.754448</td>\n",
       "      <td>2.265493</td>\n",
       "      <td>-0.429313</td>\n",
       "      <td>-0.374679</td>\n",
       "      <td>-0.323708</td>\n",
       "      <td>-0.422757</td>\n",
       "      <td>-0.423209</td>\n",
       "      <td>-0.435342</td>\n",
       "    </tr>\n",
       "    <tr>\n",
       "      <th>2</th>\n",
       "      <td>-0.511540</td>\n",
       "      <td>2.973456</td>\n",
       "      <td>4.201193</td>\n",
       "      <td>0.088531</td>\n",
       "      <td>-2.898304</td>\n",
       "      <td>-0.164452</td>\n",
       "      <td>2.265493</td>\n",
       "      <td>-0.429313</td>\n",
       "      <td>-0.374679</td>\n",
       "      <td>-0.323708</td>\n",
       "      <td>-0.422757</td>\n",
       "      <td>-0.423209</td>\n",
       "      <td>-0.435342</td>\n",
       "    </tr>\n",
       "  </tbody>\n",
       "</table>\n",
       "</div>"
      ],
      "text/plain": [
       "   Pickup Centroid Latitude  Pickup Centroid Longitude  \\\n",
       "0                 -1.160408                   2.806463   \n",
       "1                 -0.819246                   3.166057   \n",
       "2                 -0.511540                   2.973456   \n",
       "\n",
       "   Dropoff Centroid Longitude  Dropoff Centroid Latitude  start_hr  \\\n",
       "0                    4.199026                  -0.203595 -2.898304   \n",
       "1                    4.601823                  -0.807461 -2.898304   \n",
       "2                    4.201193                   0.088531 -2.898304   \n",
       "\n",
       "   Trip Miles    Friday    Monday  Saturday    Sunday  Thursday   Tuesday  \\\n",
       "0    0.130545  2.265493 -0.429313 -0.374679 -0.323708 -0.422757 -0.423209   \n",
       "1   -0.754448  2.265493 -0.429313 -0.374679 -0.323708 -0.422757 -0.423209   \n",
       "2   -0.164452  2.265493 -0.429313 -0.374679 -0.323708 -0.422757 -0.423209   \n",
       "\n",
       "   Wednesday  \n",
       "0  -0.435342  \n",
       "1  -0.435342  \n",
       "2  -0.435342  "
      ]
     },
     "execution_count": 22,
     "metadata": {},
     "output_type": "execute_result"
    }
   ],
   "source": [
    "train_x.head(3)"
   ]
  },
  {
   "cell_type": "code",
   "execution_count": 23,
   "id": "852c3421",
   "metadata": {},
   "outputs": [
    {
     "data": {
      "text/plain": [
       "array([[-1.1604081 ,  2.8064632 ,  4.199026  , -0.20359468, -2.8983045 ,\n",
       "         0.13054544,  2.2654932 , -0.4293134 , -0.37467915, -0.32370767,\n",
       "        -0.42275685, -0.42320913, -0.43534166]], dtype=float32)"
      ]
     },
     "execution_count": 23,
     "metadata": {},
     "output_type": "execute_result"
    }
   ],
   "source": [
    "train_x.head(1).values"
   ]
  },
  {
   "cell_type": "code",
   "execution_count": 25,
   "id": "dded3ae3",
   "metadata": {},
   "outputs": [],
   "source": [
    "model = tf.keras.models.load_model('mlops_demo/')"
   ]
  },
  {
   "cell_type": "code",
   "execution_count": 28,
   "id": "9dc705c7",
   "metadata": {},
   "outputs": [
    {
     "name": "stdout",
     "output_type": "stream",
     "text": [
      "11091/11091 [==============================] - 17s 1ms/step - loss: 488964.4375\n"
     ]
    },
    {
     "data": {
      "text/plain": [
       "488964.4375"
      ]
     },
     "execution_count": 28,
     "metadata": {},
     "output_type": "execute_result"
    }
   ],
   "source": [
    "model.evaluate(train_x,train_y)"
   ]
  },
  {
   "cell_type": "code",
   "execution_count": null,
   "id": "945297c9",
   "metadata": {},
   "outputs": [],
   "source": []
  },
  {
   "cell_type": "code",
   "execution_count": null,
   "id": "a7ab8066",
   "metadata": {},
   "outputs": [],
   "source": [
    "keras_model.summary()"
   ]
  },
  {
   "cell_type": "code",
   "execution_count": null,
   "id": "2892582e",
   "metadata": {},
   "outputs": [],
   "source": [
    "mae = round(keras_model.evaluate(train_x,train_y),0)"
   ]
  },
  {
   "cell_type": "code",
   "execution_count": null,
   "id": "f4952f71",
   "metadata": {},
   "outputs": [],
   "source": [
    "mae = int(mae)"
   ]
  },
  {
   "cell_type": "code",
   "execution_count": null,
   "id": "9f5e609d",
   "metadata": {},
   "outputs": [],
   "source": [
    "mae"
   ]
  },
  {
   "cell_type": "code",
   "execution_count": null,
   "id": "1c2b46e4",
   "metadata": {},
   "outputs": [],
   "source": [
    "import json\n",
    "with open('my_model/model_metrics.json', 'w') as json_file:\n",
    "    mae_dict = {'curr_mae':mae}\n",
    "    json.dump(mae_dict, json_file)"
   ]
  },
  {
   "cell_type": "code",
   "execution_count": null,
   "id": "008cc8e6",
   "metadata": {},
   "outputs": [],
   "source": [
    "CATEGORICAL_COLUMNS+NUMERIC_COLUMNS"
   ]
  },
  {
   "cell_type": "code",
   "execution_count": null,
   "id": "d13bd112",
   "metadata": {},
   "outputs": [],
   "source": [
    "xt_ordered = x_train[CATEGORICAL_COLUMNS+NUMERIC_COLUMNS]"
   ]
  },
  {
   "cell_type": "code",
   "execution_count": null,
   "id": "cea97d08",
   "metadata": {},
   "outputs": [],
   "source": [
    "train_y[:10]"
   ]
  },
  {
   "cell_type": "code",
   "execution_count": null,
   "id": "d72c3bff",
   "metadata": {},
   "outputs": [],
   "source": [
    "xt_ordered.head(1).T.to_dict()[0]"
   ]
  },
  {
   "cell_type": "code",
   "execution_count": null,
   "id": "ff77ebd4",
   "metadata": {},
   "outputs": [],
   "source": [
    "import json\n",
    "\n",
    "with open('prediction_input.json', 'w') as json_file:\n",
    "  for row in train_x.head(10).values.tolist():\n",
    "    json.dump(row, json_file)\n",
    "    json_file.write('\\n')"
   ]
  },
  {
   "cell_type": "code",
   "execution_count": null,
   "id": "bc1f0a31",
   "metadata": {},
   "outputs": [],
   "source": [
    "import json\n",
    "\n",
    "jdict = {}\n",
    "#with open('prediction_input.json', 'w') as json_file:\n",
    "inst_ls = []\n",
    "ct = 1\n",
    "#inst_ls.append(xt_ordered.head(1).T.to_dict()[0])\n",
    "#with open('prediction_input.json', 'w') as json_file:\n",
    "    #for row in xt_ordered.head(1).values.tolist():\n",
    "    #   json.dump(row, json_file)\n",
    "    #    json_file.write('\\n')\n",
    "    \n",
    "         #inst_ls.append(row)\n",
    "\n",
    "#inst_ls.append(xt_ordered.head(1).T.to_dict()[0])#,\"key\":ct})    \n",
    "inst_ls = [-0.1721081 ,  0.06131365, -0.01878417,  0.84623253, -2.8942175 ,\n",
    "         0.27650514,  2.262631  , -0.4293633 , -0.37099934, -0.31818122,\n",
    "        -0.42654246, -0.4253335 , -0.43786868]\n",
    "    #ct+=1\n",
    "    #json.dump(row, json_file)\n",
    "    #json_file.write('\\n')\n",
    "    \n",
    "jdict = {'instances': inst_ls}\n",
    "\n",
    "with open('prediction_input.json', 'w') as json_file:\n",
    "  json.dump(jdict, json_file)"
   ]
  },
  {
   "cell_type": "code",
   "execution_count": null,
   "id": "44ed78ff",
   "metadata": {},
   "outputs": [],
   "source": [
    "jdict"
   ]
  },
  {
   "cell_type": "code",
   "execution_count": null,
   "id": "233078ab",
   "metadata": {},
   "outputs": [],
   "source": [
    "xt_ordered.head(1).T.to_dict()[0]"
   ]
  },
  {
   "cell_type": "code",
   "execution_count": null,
   "id": "5fbe1f1d",
   "metadata": {},
   "outputs": [],
   "source": [
    "xt_ordered.head(1).values"
   ]
  },
  {
   "cell_type": "code",
   "execution_count": null,
   "id": "344d4cb2",
   "metadata": {},
   "outputs": [],
   "source": [
    "feature_spec = tf.feature_column.make_parse_example_spec(feature_columns)\n",
    "print(feature_spec)\n",
    "serving_input_receiver_fn = tf.estimator.export.build_parsing_serving_input_receiver_fn(feature_spec)"
   ]
  },
  {
   "cell_type": "code",
   "execution_count": null,
   "id": "b4a4bd3b",
   "metadata": {},
   "outputs": [],
   "source": [
    "tf.saved_model.load(\"gs://taxi-mlops-demo-kubeflowpipelines-default/mlops-demo/model/1620678644/saved_model.pb\")"
   ]
  },
  {
   "cell_type": "code",
   "execution_count": null,
   "id": "24950c08",
   "metadata": {},
   "outputs": [],
   "source": [
    "xt_ordered.head(1).values.tolist()[0]"
   ]
  },
  {
   "cell_type": "code",
   "execution_count": null,
   "id": "33c5eb3c",
   "metadata": {},
   "outputs": [],
   "source": [
    "jdict"
   ]
  },
  {
   "cell_type": "code",
   "execution_count": null,
   "id": "a4ea9d7c",
   "metadata": {},
   "outputs": [],
   "source": [
    "xt_ordered.head(1).T.to_dict()[0]"
   ]
  },
  {
   "cell_type": "code",
   "execution_count": null,
   "id": "85ca72a8",
   "metadata": {},
   "outputs": [],
   "source": [
    "jdict"
   ]
  },
  {
   "cell_type": "code",
   "execution_count": null,
   "id": "2ba78d56",
   "metadata": {},
   "outputs": [],
   "source": [
    "## Train the model\n",
    "linear_est = tf.estimator.LinearRegressor(feature_columns=feature_columns)\n",
    "linear_est.train(train_input_fn)\n",
    "#result = linear_est.evaluate(eval_input_fn)\n",
    "##remove null values, the error is related to that."
   ]
  },
  {
   "cell_type": "code",
   "execution_count": null,
   "id": "bda67979",
   "metadata": {},
   "outputs": [],
   "source": [
    "inputFn = tf.estimator.export.build_parsing_serving_input_receiver_fn(tf.feature_column.make_parse_example_spec(feature_columns))\n",
    "\n",
    "modelPath = linear_est.export_saved_model('md', inputFn)"
   ]
  },
  {
   "cell_type": "code",
   "execution_count": null,
   "id": "b982c0a0",
   "metadata": {},
   "outputs": [],
   "source": [
    "importedModel = tf.saved_model.load('md/1620831681')"
   ]
  },
  {
   "cell_type": "code",
   "execution_count": null,
   "id": "37e78da8",
   "metadata": {},
   "outputs": [],
   "source": [
    "importedModel.__dict__.keys()"
   ]
  },
  {
   "cell_type": "code",
   "execution_count": null,
   "id": "ac711795",
   "metadata": {},
   "outputs": [],
   "source": [
    "importedModel.variables"
   ]
  },
  {
   "cell_type": "code",
   "execution_count": null,
   "id": "fbf915cc",
   "metadata": {},
   "outputs": [],
   "source": []
  }
 ],
 "metadata": {
  "environment": {
   "name": "tf2-gpu.2-4.m69",
   "type": "gcloud",
   "uri": "gcr.io/deeplearning-platform-release/tf2-gpu.2-4:m69"
  },
  "kernelspec": {
   "display_name": "Python [conda env:root] *",
   "language": "python",
   "name": "conda-root-py"
  },
  "language_info": {
   "codemirror_mode": {
    "name": "ipython",
    "version": 3
   },
   "file_extension": ".py",
   "mimetype": "text/x-python",
   "name": "python",
   "nbconvert_exporter": "python",
   "pygments_lexer": "ipython3",
   "version": "3.7.10"
  }
 },
 "nbformat": 4,
 "nbformat_minor": 5
}
