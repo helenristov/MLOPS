{
 "cells": [
  {
   "cell_type": "markdown",
   "id": "f6ba92fd",
   "metadata": {},
   "source": [
    "# Sample Model to Predict Taxi Cab Trip Time"
   ]
  },
  {
   "cell_type": "markdown",
   "id": "f82cd914",
   "metadata": {},
   "source": [
    "##### This notebook will contain the model script to generate predictions for trip time to be used with the Kubeflow pipelines established. Any model can replace this one to illustrate the functionality of the MLOPS environment."
   ]
  },
  {
   "cell_type": "code",
   "execution_count": 1,
   "id": "769290d6",
   "metadata": {},
   "outputs": [],
   "source": [
    "##load libraries\n",
    "import pandas as pd\n",
    "import matplotlib.pyplot as plt\n",
    "import seaborn as sns\n",
    "%matplotlib inline\n",
    "from io import BytesIO\n",
    "from google.cloud import storage"
   ]
  },
  {
   "cell_type": "code",
   "execution_count": 2,
   "id": "160e1658",
   "metadata": {},
   "outputs": [
    {
     "name": "stderr",
     "output_type": "stream",
     "text": [
      "/opt/conda/lib/python3.7/site-packages/IPython/core/interactiveshell.py:3166: DtypeWarning: Columns (10,13) have mixed types.Specify dtype option on import or set low_memory=False.\n",
      "  interactivity=interactivity, compiler=compiler, result=result)\n"
     ]
    }
   ],
   "source": [
    "##connect to training dataset\n",
    "storage_client = storage.Client()\n",
    "bucket = storage_client.get_bucket('mlops_model_input')\n",
    "file = '/data_input/Taxi_Trips_3mo.csv'\n",
    "blob = bucket.blob(file)\n",
    "path = \"gs://mlops_model_input\" + file\n",
    "df = pd.read_csv(path)"
   ]
  },
  {
   "cell_type": "code",
   "execution_count": 3,
   "id": "4d4f746b",
   "metadata": {},
   "outputs": [
    {
     "data": {
      "text/html": [
       "<div>\n",
       "<style scoped>\n",
       "    .dataframe tbody tr th:only-of-type {\n",
       "        vertical-align: middle;\n",
       "    }\n",
       "\n",
       "    .dataframe tbody tr th {\n",
       "        vertical-align: top;\n",
       "    }\n",
       "\n",
       "    .dataframe thead th {\n",
       "        text-align: right;\n",
       "    }\n",
       "</style>\n",
       "<table border=\"1\" class=\"dataframe\">\n",
       "  <thead>\n",
       "    <tr style=\"text-align: right;\">\n",
       "      <th></th>\n",
       "      <th>Trip ID</th>\n",
       "      <th>Taxi ID</th>\n",
       "      <th>Trip Start Timestamp</th>\n",
       "      <th>Trip End Timestamp</th>\n",
       "      <th>Trip Seconds</th>\n",
       "      <th>Trip Miles</th>\n",
       "      <th>Pickup Census Tract</th>\n",
       "      <th>Dropoff Census Tract</th>\n",
       "      <th>Pickup Community Area</th>\n",
       "      <th>Dropoff Community Area</th>\n",
       "      <th>...</th>\n",
       "      <th>Extras</th>\n",
       "      <th>Trip Total</th>\n",
       "      <th>Payment Type</th>\n",
       "      <th>Company</th>\n",
       "      <th>Pickup Centroid Latitude</th>\n",
       "      <th>Pickup Centroid Longitude</th>\n",
       "      <th>Pickup Centroid Location</th>\n",
       "      <th>Dropoff Centroid Latitude</th>\n",
       "      <th>Dropoff Centroid Longitude</th>\n",
       "      <th>Dropoff Centroid  Location</th>\n",
       "    </tr>\n",
       "  </thead>\n",
       "  <tbody>\n",
       "    <tr>\n",
       "      <th>0</th>\n",
       "      <td>3e1ac82501797e2e6cd020d2eb6a47774add503f</td>\n",
       "      <td>51e37146cd6467734e50a00ffe2ebbb77ee35e5f207817...</td>\n",
       "      <td>01/01/2021 12:15:00 AM</td>\n",
       "      <td>01/01/2021 12:30:00 AM</td>\n",
       "      <td>1,140</td>\n",
       "      <td>6.4</td>\n",
       "      <td>NaN</td>\n",
       "      <td>NaN</td>\n",
       "      <td>28.0</td>\n",
       "      <td>6.0</td>\n",
       "      <td>...</td>\n",
       "      <td>0.0</td>\n",
       "      <td>25.35</td>\n",
       "      <td>Credit Card</td>\n",
       "      <td>Medallion Leasin</td>\n",
       "      <td>41.874005</td>\n",
       "      <td>-87.663518</td>\n",
       "      <td>POINT (-87.6635175498 41.874005383)</td>\n",
       "      <td>41.944227</td>\n",
       "      <td>-87.655998</td>\n",
       "      <td>POINT (-87.6559981815 41.9442266014)</td>\n",
       "    </tr>\n",
       "    <tr>\n",
       "      <th>1</th>\n",
       "      <td>3adf277e43154ac0cd099c7bb7137f75dcfded95</td>\n",
       "      <td>d24314a66ebc6319a50cc335d6896612b845ca15f702ee...</td>\n",
       "      <td>01/01/2021 12:15:00 AM</td>\n",
       "      <td>01/01/2021 12:15:00 AM</td>\n",
       "      <td>420</td>\n",
       "      <td>1.3</td>\n",
       "      <td>NaN</td>\n",
       "      <td>NaN</td>\n",
       "      <td>8.0</td>\n",
       "      <td>8.0</td>\n",
       "      <td>...</td>\n",
       "      <td>0.0</td>\n",
       "      <td>7.00</td>\n",
       "      <td>Cash</td>\n",
       "      <td>Top Cab Affiliation</td>\n",
       "      <td>41.899602</td>\n",
       "      <td>-87.633308</td>\n",
       "      <td>POINT (-87.6333080367 41.899602111)</td>\n",
       "      <td>41.899602</td>\n",
       "      <td>-87.633308</td>\n",
       "      <td>POINT (-87.6333080367 41.899602111)</td>\n",
       "    </tr>\n",
       "  </tbody>\n",
       "</table>\n",
       "<p>2 rows × 23 columns</p>\n",
       "</div>"
      ],
      "text/plain": [
       "                                    Trip ID  \\\n",
       "0  3e1ac82501797e2e6cd020d2eb6a47774add503f   \n",
       "1  3adf277e43154ac0cd099c7bb7137f75dcfded95   \n",
       "\n",
       "                                             Taxi ID    Trip Start Timestamp  \\\n",
       "0  51e37146cd6467734e50a00ffe2ebbb77ee35e5f207817...  01/01/2021 12:15:00 AM   \n",
       "1  d24314a66ebc6319a50cc335d6896612b845ca15f702ee...  01/01/2021 12:15:00 AM   \n",
       "\n",
       "       Trip End Timestamp Trip Seconds  Trip Miles  Pickup Census Tract  \\\n",
       "0  01/01/2021 12:30:00 AM        1,140         6.4                  NaN   \n",
       "1  01/01/2021 12:15:00 AM          420         1.3                  NaN   \n",
       "\n",
       "   Dropoff Census Tract  Pickup Community Area  Dropoff Community Area  ...  \\\n",
       "0                   NaN                   28.0                     6.0  ...   \n",
       "1                   NaN                    8.0                     8.0  ...   \n",
       "\n",
       "  Extras  Trip Total  Payment Type              Company  \\\n",
       "0    0.0       25.35   Credit Card     Medallion Leasin   \n",
       "1    0.0        7.00          Cash  Top Cab Affiliation   \n",
       "\n",
       "  Pickup Centroid Latitude Pickup Centroid Longitude  \\\n",
       "0                41.874005                -87.663518   \n",
       "1                41.899602                -87.633308   \n",
       "\n",
       "              Pickup Centroid Location  Dropoff Centroid Latitude  \\\n",
       "0  POINT (-87.6635175498 41.874005383)                  41.944227   \n",
       "1  POINT (-87.6333080367 41.899602111)                  41.899602   \n",
       "\n",
       "   Dropoff Centroid Longitude            Dropoff Centroid  Location  \n",
       "0                  -87.655998  POINT (-87.6559981815 41.9442266014)  \n",
       "1                  -87.633308   POINT (-87.6333080367 41.899602111)  \n",
       "\n",
       "[2 rows x 23 columns]"
      ]
     },
     "execution_count": 3,
     "metadata": {},
     "output_type": "execute_result"
    }
   ],
   "source": [
    "##print the top 5 records of imported dataset\n",
    "df.head(2)\n"
   ]
  },
  {
   "cell_type": "code",
   "execution_count": 4,
   "id": "23b9eaf6",
   "metadata": {},
   "outputs": [
    {
     "data": {
      "text/plain": [
       "0"
      ]
     },
     "execution_count": 4,
     "metadata": {},
     "output_type": "execute_result"
    }
   ],
   "source": [
    "df['Trip Start Timestamp'].isna().sum()"
   ]
  },
  {
   "cell_type": "code",
   "execution_count": 5,
   "id": "04145a95",
   "metadata": {},
   "outputs": [],
   "source": [
    "df['Trip Start Timestamp'] = pd.to_datetime(df['Trip Start Timestamp'])"
   ]
  },
  {
   "cell_type": "code",
   "execution_count": 6,
   "id": "d864302b",
   "metadata": {},
   "outputs": [],
   "source": [
    "df['Trip End Timestamp'] = pd.to_datetime(df['Trip End Timestamp'])"
   ]
  },
  {
   "cell_type": "code",
   "execution_count": 7,
   "id": "6ddcc420",
   "metadata": {},
   "outputs": [],
   "source": [
    "df['start_dow'] = df['Trip Start Timestamp'].dt.day_name()"
   ]
  },
  {
   "cell_type": "code",
   "execution_count": 8,
   "id": "b7cca090",
   "metadata": {},
   "outputs": [],
   "source": [
    "from datetime import datetime, date, time, timedelta"
   ]
  },
  {
   "cell_type": "code",
   "execution_count": 9,
   "id": "1279ee1a",
   "metadata": {},
   "outputs": [],
   "source": [
    "df['start_time_seconds'] = (pd.to_timedelta(df['Trip Start Timestamp'].dt.time.astype(str)) -pd.Timedelta(\"0 days\")).dt.total_seconds()"
   ]
  },
  {
   "cell_type": "code",
   "execution_count": null,
   "id": "e43dfbec",
   "metadata": {},
   "outputs": [],
   "source": []
  },
  {
   "cell_type": "code",
   "execution_count": 10,
   "id": "0414fcea",
   "metadata": {},
   "outputs": [
    {
     "data": {
      "text/html": [
       "<div>\n",
       "<style scoped>\n",
       "    .dataframe tbody tr th:only-of-type {\n",
       "        vertical-align: middle;\n",
       "    }\n",
       "\n",
       "    .dataframe tbody tr th {\n",
       "        vertical-align: top;\n",
       "    }\n",
       "\n",
       "    .dataframe thead th {\n",
       "        text-align: right;\n",
       "    }\n",
       "</style>\n",
       "<table border=\"1\" class=\"dataframe\">\n",
       "  <thead>\n",
       "    <tr style=\"text-align: right;\">\n",
       "      <th></th>\n",
       "      <th>Trip Start Timestamp</th>\n",
       "      <th>start_time_seconds</th>\n",
       "    </tr>\n",
       "  </thead>\n",
       "  <tbody>\n",
       "    <tr>\n",
       "      <th>279895</th>\n",
       "      <td>2021-02-24 18:30:00</td>\n",
       "      <td>66600.0</td>\n",
       "    </tr>\n",
       "    <tr>\n",
       "      <th>466781</th>\n",
       "      <td>2021-03-25 18:45:00</td>\n",
       "      <td>67500.0</td>\n",
       "    </tr>\n",
       "    <tr>\n",
       "      <th>128702</th>\n",
       "      <td>2021-01-28 05:15:00</td>\n",
       "      <td>18900.0</td>\n",
       "    </tr>\n",
       "  </tbody>\n",
       "</table>\n",
       "</div>"
      ],
      "text/plain": [
       "       Trip Start Timestamp  start_time_seconds\n",
       "279895  2021-02-24 18:30:00             66600.0\n",
       "466781  2021-03-25 18:45:00             67500.0\n",
       "128702  2021-01-28 05:15:00             18900.0"
      ]
     },
     "execution_count": 10,
     "metadata": {},
     "output_type": "execute_result"
    }
   ],
   "source": [
    "df[['Trip Start Timestamp','start_time_seconds']].sample(3)"
   ]
  },
  {
   "cell_type": "markdown",
   "id": "78b25ea0",
   "metadata": {},
   "source": [
    "Try and make pickup/dropoff string --> numeric makes no sense?"
   ]
  },
  {
   "cell_type": "code",
   "execution_count": 11,
   "id": "972a09bf",
   "metadata": {},
   "outputs": [
    {
     "data": {
      "text/html": [
       "<div>\n",
       "<style scoped>\n",
       "    .dataframe tbody tr th:only-of-type {\n",
       "        vertical-align: middle;\n",
       "    }\n",
       "\n",
       "    .dataframe tbody tr th {\n",
       "        vertical-align: top;\n",
       "    }\n",
       "\n",
       "    .dataframe thead th {\n",
       "        text-align: right;\n",
       "    }\n",
       "</style>\n",
       "<table border=\"1\" class=\"dataframe\">\n",
       "  <thead>\n",
       "    <tr style=\"text-align: right;\">\n",
       "      <th></th>\n",
       "      <th>0</th>\n",
       "    </tr>\n",
       "  </thead>\n",
       "  <tbody>\n",
       "    <tr>\n",
       "      <th>Trip ID</th>\n",
       "      <td>3e1ac82501797e2e6cd020d2eb6a47774add503f</td>\n",
       "    </tr>\n",
       "    <tr>\n",
       "      <th>Taxi ID</th>\n",
       "      <td>51e37146cd6467734e50a00ffe2ebbb77ee35e5f207817...</td>\n",
       "    </tr>\n",
       "    <tr>\n",
       "      <th>Trip Start Timestamp</th>\n",
       "      <td>2021-01-01 00:15:00</td>\n",
       "    </tr>\n",
       "    <tr>\n",
       "      <th>Trip End Timestamp</th>\n",
       "      <td>2021-01-01 00:30:00</td>\n",
       "    </tr>\n",
       "    <tr>\n",
       "      <th>Trip Seconds</th>\n",
       "      <td>1,140</td>\n",
       "    </tr>\n",
       "    <tr>\n",
       "      <th>Trip Miles</th>\n",
       "      <td>6.4</td>\n",
       "    </tr>\n",
       "    <tr>\n",
       "      <th>Pickup Census Tract</th>\n",
       "      <td>NaN</td>\n",
       "    </tr>\n",
       "    <tr>\n",
       "      <th>Dropoff Census Tract</th>\n",
       "      <td>NaN</td>\n",
       "    </tr>\n",
       "    <tr>\n",
       "      <th>Pickup Community Area</th>\n",
       "      <td>28.0</td>\n",
       "    </tr>\n",
       "    <tr>\n",
       "      <th>Dropoff Community Area</th>\n",
       "      <td>6.0</td>\n",
       "    </tr>\n",
       "    <tr>\n",
       "      <th>Fare</th>\n",
       "      <td>19.00</td>\n",
       "    </tr>\n",
       "    <tr>\n",
       "      <th>Tips</th>\n",
       "      <td>5.85</td>\n",
       "    </tr>\n",
       "    <tr>\n",
       "      <th>Tolls</th>\n",
       "      <td>0.0</td>\n",
       "    </tr>\n",
       "    <tr>\n",
       "      <th>Extras</th>\n",
       "      <td>0.0</td>\n",
       "    </tr>\n",
       "    <tr>\n",
       "      <th>Trip Total</th>\n",
       "      <td>25.35</td>\n",
       "    </tr>\n",
       "    <tr>\n",
       "      <th>Payment Type</th>\n",
       "      <td>Credit Card</td>\n",
       "    </tr>\n",
       "    <tr>\n",
       "      <th>Company</th>\n",
       "      <td>Medallion Leasin</td>\n",
       "    </tr>\n",
       "    <tr>\n",
       "      <th>Pickup Centroid Latitude</th>\n",
       "      <td>41.874005</td>\n",
       "    </tr>\n",
       "    <tr>\n",
       "      <th>Pickup Centroid Longitude</th>\n",
       "      <td>-87.663518</td>\n",
       "    </tr>\n",
       "    <tr>\n",
       "      <th>Pickup Centroid Location</th>\n",
       "      <td>POINT (-87.6635175498 41.874005383)</td>\n",
       "    </tr>\n",
       "    <tr>\n",
       "      <th>Dropoff Centroid Latitude</th>\n",
       "      <td>41.944227</td>\n",
       "    </tr>\n",
       "    <tr>\n",
       "      <th>Dropoff Centroid Longitude</th>\n",
       "      <td>-87.655998</td>\n",
       "    </tr>\n",
       "    <tr>\n",
       "      <th>Dropoff Centroid  Location</th>\n",
       "      <td>POINT (-87.6559981815 41.9442266014)</td>\n",
       "    </tr>\n",
       "    <tr>\n",
       "      <th>start_dow</th>\n",
       "      <td>Friday</td>\n",
       "    </tr>\n",
       "    <tr>\n",
       "      <th>start_time_seconds</th>\n",
       "      <td>900.0</td>\n",
       "    </tr>\n",
       "  </tbody>\n",
       "</table>\n",
       "</div>"
      ],
      "text/plain": [
       "                                                                            0\n",
       "Trip ID                              3e1ac82501797e2e6cd020d2eb6a47774add503f\n",
       "Taxi ID                     51e37146cd6467734e50a00ffe2ebbb77ee35e5f207817...\n",
       "Trip Start Timestamp                                      2021-01-01 00:15:00\n",
       "Trip End Timestamp                                        2021-01-01 00:30:00\n",
       "Trip Seconds                                                            1,140\n",
       "Trip Miles                                                                6.4\n",
       "Pickup Census Tract                                                       NaN\n",
       "Dropoff Census Tract                                                      NaN\n",
       "Pickup Community Area                                                    28.0\n",
       "Dropoff Community Area                                                    6.0\n",
       "Fare                                                                    19.00\n",
       "Tips                                                                     5.85\n",
       "Tolls                                                                     0.0\n",
       "Extras                                                                    0.0\n",
       "Trip Total                                                              25.35\n",
       "Payment Type                                                      Credit Card\n",
       "Company                                                      Medallion Leasin\n",
       "Pickup Centroid Latitude                                            41.874005\n",
       "Pickup Centroid Longitude                                          -87.663518\n",
       "Pickup Centroid Location                  POINT (-87.6635175498 41.874005383)\n",
       "Dropoff Centroid Latitude                                           41.944227\n",
       "Dropoff Centroid Longitude                                         -87.655998\n",
       "Dropoff Centroid  Location               POINT (-87.6559981815 41.9442266014)\n",
       "start_dow                                                              Friday\n",
       "start_time_seconds                                                      900.0"
      ]
     },
     "execution_count": 11,
     "metadata": {},
     "output_type": "execute_result"
    }
   ],
   "source": [
    "df.head(1).T"
   ]
  },
  {
   "cell_type": "code",
   "execution_count": 12,
   "id": "642a66ab",
   "metadata": {},
   "outputs": [
    {
     "name": "stdout",
     "output_type": "stream",
     "text": [
      "511131\n",
      "25\n"
     ]
    }
   ],
   "source": [
    "##check dimensions of imported file\n",
    "rows = df.shape[0]\n",
    "cols = df.shape[1]\n",
    "print(rows)\n",
    "print(cols)"
   ]
  },
  {
   "cell_type": "markdown",
   "id": "991f581c",
   "metadata": {},
   "source": [
    "#### Our Model will use and try to predict the total number of Trip Seconds and we will set that to be the dependent variable"
   ]
  },
  {
   "cell_type": "code",
   "execution_count": 13,
   "id": "eb46f361",
   "metadata": {},
   "outputs": [],
   "source": [
    "#TO-DO remove any records with 0 Trip Seconds!\n",
    "##remove null values!"
   ]
  },
  {
   "cell_type": "code",
   "execution_count": 14,
   "id": "859be42c",
   "metadata": {},
   "outputs": [],
   "source": [
    "x_cols = [\"Pickup Centroid Latitude\",\"Pickup Centroid Longitude\", \"Dropoff Centroid Longitude\", \n",
    "          \"Dropoff Centroid Latitude\", \"Company\",'start_time_seconds',\n",
    "    'start_dow','Trip Miles']"
   ]
  },
  {
   "cell_type": "code",
   "execution_count": 15,
   "id": "e3b5e928",
   "metadata": {},
   "outputs": [
    {
     "data": {
      "text/plain": [
       "511131"
      ]
     },
     "execution_count": 15,
     "metadata": {},
     "output_type": "execute_result"
    }
   ],
   "source": [
    "len(df)"
   ]
  },
  {
   "cell_type": "code",
   "execution_count": 16,
   "id": "cb1ef189",
   "metadata": {},
   "outputs": [
    {
     "data": {
      "text/plain": [
       "Pickup Centroid Latitude      36571\n",
       "Pickup Centroid Longitude     36571\n",
       "Dropoff Centroid Longitude    59493\n",
       "Dropoff Centroid Latitude     59493\n",
       "Company                           0\n",
       "start_time_seconds                0\n",
       "start_dow                         0\n",
       "Trip Miles                        2\n",
       "Trip Seconds                    274\n",
       "dtype: int64"
      ]
     },
     "execution_count": 16,
     "metadata": {},
     "output_type": "execute_result"
    }
   ],
   "source": [
    "df[x_cols+['Trip Seconds']].isna().sum()"
   ]
  },
  {
   "cell_type": "code",
   "execution_count": null,
   "id": "1e794ca8",
   "metadata": {},
   "outputs": [],
   "source": []
  },
  {
   "cell_type": "code",
   "execution_count": 17,
   "id": "56b78520",
   "metadata": {},
   "outputs": [
    {
     "data": {
      "text/plain": [
       "Friday       82467\n",
       "Wednesday    81155\n",
       "Monday       80523\n",
       "Tuesday      77692\n",
       "Thursday     77345\n",
       "Saturday     62032\n",
       "Sunday       49917\n",
       "Name: start_dow, dtype: int64"
      ]
     },
     "execution_count": 17,
     "metadata": {},
     "output_type": "execute_result"
    }
   ],
   "source": [
    "df['start_dow'].value_counts()"
   ]
  },
  {
   "cell_type": "code",
   "execution_count": 18,
   "id": "4be28e1f",
   "metadata": {},
   "outputs": [
    {
     "data": {
      "text/plain": [
       "511131"
      ]
     },
     "execution_count": 18,
     "metadata": {},
     "output_type": "execute_result"
    }
   ],
   "source": [
    "len(df)"
   ]
  },
  {
   "cell_type": "code",
   "execution_count": 19,
   "id": "bdeec948",
   "metadata": {},
   "outputs": [],
   "source": [
    "df = df.dropna(subset=x_cols+['Trip Seconds'])"
   ]
  },
  {
   "cell_type": "code",
   "execution_count": 20,
   "id": "36b2cd35",
   "metadata": {},
   "outputs": [
    {
     "data": {
      "text/plain": [
       "array([False, False, False, False,  True, False, False, False, False,\n",
       "       False, False, False, False, False, False, False, False, False,\n",
       "       False, False, False, False, False, False, False])"
      ]
     },
     "execution_count": 20,
     "metadata": {},
     "output_type": "execute_result"
    }
   ],
   "source": [
    "df.columns.str.contains(\"trip seconds\", case = False)"
   ]
  },
  {
   "cell_type": "code",
   "execution_count": 21,
   "id": "334462e5",
   "metadata": {},
   "outputs": [
    {
     "data": {
      "text/plain": [
       "0         12786\n",
       "360       11600\n",
       "300       11490\n",
       "420       11476\n",
       "480       10777\n",
       "          ...  \n",
       "4,191         1\n",
       "39,198        1\n",
       "3,637         1\n",
       "4,820         1\n",
       "13,644        1\n",
       "Name: Trip Seconds, Length: 6179, dtype: int64"
      ]
     },
     "execution_count": 21,
     "metadata": {},
     "output_type": "execute_result"
    }
   ],
   "source": [
    "df['Trip Seconds'].value_counts()"
   ]
  },
  {
   "cell_type": "code",
   "execution_count": 22,
   "id": "3794275f",
   "metadata": {},
   "outputs": [],
   "source": [
    "df['Trip Seconds'] = df['Trip Seconds'].str.replace(',','').astype(int)"
   ]
  },
  {
   "cell_type": "code",
   "execution_count": 23,
   "id": "af9b3d80",
   "metadata": {},
   "outputs": [
    {
     "data": {
      "text/plain": [
       "<AxesSubplot:ylabel='Frequency'>"
      ]
     },
     "execution_count": 23,
     "metadata": {},
     "output_type": "execute_result"
    },
    {
     "data": {
      "image/png": "[encoded data removed]",
      "text/plain": [
       "<Figure size 432x288 with 1 Axes>"
      ]
     },
     "metadata": {
      "needs_background": "light"
     },
     "output_type": "display_data"
    }
   ],
   "source": [
    "df['Trip Seconds'].plot.hist()"
   ]
  },
  {
   "cell_type": "code",
   "execution_count": 24,
   "id": "f64f0194",
   "metadata": {},
   "outputs": [],
   "source": [
    "df = df[df['Trip Seconds'] > 0]"
   ]
  },
  {
   "cell_type": "code",
   "execution_count": 25,
   "id": "da0cd815",
   "metadata": {},
   "outputs": [
    {
     "name": "stdout",
     "output_type": "stream",
     "text": [
      "[False, False, False, False, False, True, False, False, False, False, False, False, False, False, False, False, True, True, True, False, True, True, False, True, True]\n",
      "[False False False False  True False False False False False False False\n",
      " False False False False False False False False False False False False\n",
      " False]\n",
      "   Trip Miles              Company  Pickup Centroid Latitude  \\\n",
      "0        6.40     Medallion Leasin                 41.874005   \n",
      "1        1.30  Top Cab Affiliation                 41.899602   \n",
      "2        4.70     Medallion Leasin                 41.922686   \n",
      "4        1.10     Medallion Leasin                 41.968069   \n",
      "5        1.85            Flash Cab                 42.001571   \n",
      "\n",
      "   Pickup Centroid Longitude  Dropoff Centroid Latitude  \\\n",
      "0                 -87.663518                  41.944227   \n",
      "1                 -87.633308                  41.899602   \n",
      "2                 -87.649489                  41.965812   \n",
      "4                 -87.721559                  41.983636   \n",
      "5                 -87.695013                  42.009623   \n",
      "\n",
      "   Dropoff Centroid Longitude start_dow  start_time_seconds  \n",
      "0                  -87.655998    Friday               900.0  \n",
      "1                  -87.633308    Friday               900.0  \n",
      "2                  -87.655879    Friday               900.0  \n",
      "4                  -87.723583    Friday               900.0  \n",
      "5                  -87.670167    Friday               900.0  \n",
      "   Trip Seconds\n",
      "0          1140\n",
      "1           420\n",
      "2           660\n",
      "4           199\n",
      "5           741\n"
     ]
    }
   ],
   "source": [
    "## create our training data sets with the independent vars. \n",
    "## X = Independent Vars: taxi cab company, pickup community area, and drop off community \n",
    "## Y = Var we are trying to predict : trip time in seconds\n",
    "\n",
    "X_run_cols = [x in x_cols for x in df.columns]\n",
    "Y_col = df.columns.str.contains(\"trip seconds\", case = False)\n",
    "print(X_run_cols)\n",
    "print(Y_col)\n",
    "X = df.iloc[:, X_run_cols]\n",
    "Y = df.iloc[:, Y_col]\n",
    "print(X.head())\n",
    "print(Y.head())\n"
   ]
  },
  {
   "cell_type": "code",
   "execution_count": 26,
   "id": "89372cbc",
   "metadata": {},
   "outputs": [
    {
     "data": {
      "text/html": [
       "<div>\n",
       "<style scoped>\n",
       "    .dataframe tbody tr th:only-of-type {\n",
       "        vertical-align: middle;\n",
       "    }\n",
       "\n",
       "    .dataframe tbody tr th {\n",
       "        vertical-align: top;\n",
       "    }\n",
       "\n",
       "    .dataframe thead th {\n",
       "        text-align: right;\n",
       "    }\n",
       "</style>\n",
       "<table border=\"1\" class=\"dataframe\">\n",
       "  <thead>\n",
       "    <tr style=\"text-align: right;\">\n",
       "      <th></th>\n",
       "      <th>Trip Miles</th>\n",
       "      <th>Company</th>\n",
       "      <th>Pickup Centroid Latitude</th>\n",
       "      <th>Pickup Centroid Longitude</th>\n",
       "      <th>Dropoff Centroid Latitude</th>\n",
       "      <th>Dropoff Centroid Longitude</th>\n",
       "      <th>start_dow</th>\n",
       "      <th>start_time_seconds</th>\n",
       "    </tr>\n",
       "  </thead>\n",
       "  <tbody>\n",
       "    <tr>\n",
       "      <th>0</th>\n",
       "      <td>6.40</td>\n",
       "      <td>Medallion Leasin</td>\n",
       "      <td>41.874005</td>\n",
       "      <td>-87.663518</td>\n",
       "      <td>41.944227</td>\n",
       "      <td>-87.655998</td>\n",
       "      <td>Friday</td>\n",
       "      <td>900.0</td>\n",
       "    </tr>\n",
       "    <tr>\n",
       "      <th>1</th>\n",
       "      <td>1.30</td>\n",
       "      <td>Top Cab Affiliation</td>\n",
       "      <td>41.899602</td>\n",
       "      <td>-87.633308</td>\n",
       "      <td>41.899602</td>\n",
       "      <td>-87.633308</td>\n",
       "      <td>Friday</td>\n",
       "      <td>900.0</td>\n",
       "    </tr>\n",
       "    <tr>\n",
       "      <th>2</th>\n",
       "      <td>4.70</td>\n",
       "      <td>Medallion Leasin</td>\n",
       "      <td>41.922686</td>\n",
       "      <td>-87.649489</td>\n",
       "      <td>41.965812</td>\n",
       "      <td>-87.655879</td>\n",
       "      <td>Friday</td>\n",
       "      <td>900.0</td>\n",
       "    </tr>\n",
       "    <tr>\n",
       "      <th>4</th>\n",
       "      <td>1.10</td>\n",
       "      <td>Medallion Leasin</td>\n",
       "      <td>41.968069</td>\n",
       "      <td>-87.721559</td>\n",
       "      <td>41.983636</td>\n",
       "      <td>-87.723583</td>\n",
       "      <td>Friday</td>\n",
       "      <td>900.0</td>\n",
       "    </tr>\n",
       "    <tr>\n",
       "      <th>5</th>\n",
       "      <td>1.85</td>\n",
       "      <td>Flash Cab</td>\n",
       "      <td>42.001571</td>\n",
       "      <td>-87.695013</td>\n",
       "      <td>42.009623</td>\n",
       "      <td>-87.670167</td>\n",
       "      <td>Friday</td>\n",
       "      <td>900.0</td>\n",
       "    </tr>\n",
       "  </tbody>\n",
       "</table>\n",
       "</div>"
      ],
      "text/plain": [
       "   Trip Miles              Company  Pickup Centroid Latitude  \\\n",
       "0        6.40     Medallion Leasin                 41.874005   \n",
       "1        1.30  Top Cab Affiliation                 41.899602   \n",
       "2        4.70     Medallion Leasin                 41.922686   \n",
       "4        1.10     Medallion Leasin                 41.968069   \n",
       "5        1.85            Flash Cab                 42.001571   \n",
       "\n",
       "   Pickup Centroid Longitude  Dropoff Centroid Latitude  \\\n",
       "0                 -87.663518                  41.944227   \n",
       "1                 -87.633308                  41.899602   \n",
       "2                 -87.649489                  41.965812   \n",
       "4                 -87.721559                  41.983636   \n",
       "5                 -87.695013                  42.009623   \n",
       "\n",
       "   Dropoff Centroid Longitude start_dow  start_time_seconds  \n",
       "0                  -87.655998    Friday               900.0  \n",
       "1                  -87.633308    Friday               900.0  \n",
       "2                  -87.655879    Friday               900.0  \n",
       "4                  -87.723583    Friday               900.0  \n",
       "5                  -87.670167    Friday               900.0  "
      ]
     },
     "execution_count": 26,
     "metadata": {},
     "output_type": "execute_result"
    }
   ],
   "source": [
    "X.head()"
   ]
  },
  {
   "cell_type": "markdown",
   "id": "2a6b7e2f",
   "metadata": {},
   "source": [
    "## Model Development Using Tensorflow"
   ]
  },
  {
   "cell_type": "code",
   "execution_count": 27,
   "id": "6e70f08b",
   "metadata": {},
   "outputs": [
    {
     "name": "stderr",
     "output_type": "stream",
     "text": [
      "Using TensorFlow backend.\n"
     ]
    }
   ],
   "source": [
    "from pathlib import Path\n",
    "import keras\n",
    "import numpy\n",
    "import tensorflow as tf\n",
    "\n",
    "random_seed = 123\n",
    "tf.random.set_seed(random_seed)\n",
    "numpy.random.seed(random_seed)\n",
    "\n",
    "x_train = X\n",
    "y_train = Y\n"
   ]
  },
  {
   "cell_type": "code",
   "execution_count": 28,
   "id": "5e10af4e",
   "metadata": {},
   "outputs": [],
   "source": [
    "## The TF linear estimator uses both numeric and categorical features. \n",
    "## Feature columns work with all TensorFlow estimators and their purpose is to define the features used for modeling. \n",
    "## Additionally, they provide some feature engineering capabilities like one-hot-encoding, normalization, and bucketization.\n",
    "## See tutorial : https://www.tensorflow.org/tutorials/estimator/linear"
   ]
  },
  {
   "cell_type": "code",
   "execution_count": 29,
   "id": "36192e38",
   "metadata": {},
   "outputs": [],
   "source": [
    "CATEGORICAL_COLUMNS = ['Company','start_dow']\n",
    "NUMERIC_COLUMNS = [\"Pickup Centroid Latitude\",\"Pickup Centroid Longitude\", \"Dropoff Centroid Longitude\", \n",
    "          \"Dropoff Centroid Latitude\",'start_time_seconds','Trip Miles']\n",
    "\n",
    "feature_columns = []\n",
    "for feature_name in CATEGORICAL_COLUMNS:\n",
    "  vocabulary = x_train[feature_name].unique()\n",
    "  feature_columns.append(tf.feature_column.categorical_column_with_vocabulary_list(feature_name, vocabulary))\n",
    "\n",
    "for feature_name in NUMERIC_COLUMNS:\n",
    "  feature_columns.append(tf.feature_column.numeric_column(feature_name, dtype=tf.float32))"
   ]
  },
  {
   "cell_type": "code",
   "execution_count": 30,
   "id": "5834ca27",
   "metadata": {},
   "outputs": [
    {
     "data": {
      "text/plain": [
       "[VocabularyListCategoricalColumn(key='Company', vocabulary_list=('Medallion Leasin', 'Top Cab Affiliation', 'Flash Cab', 'City Service', 'Star North Management LLC', '312 Medallion Management Corp', '24 Seven Taxi', 'Taxi Affiliation Services', 'Globe Taxi', 'Patriot Taxi Dba Peace Taxi Associat', 'U Taxicab', 'Sun Taxi', 'Taxicab Insurance Agency, LLC', '3011 - 66308 JBL Cab Inc.', 'Chicago Taxicab', 'Setare Inc', 'Blue Ribbon Taxi Association Inc.', 'Choice Taxi Association', 'Chicago Independents', 'Metro Jet Cab Association Inc.', 'KOAM Taxi Association', '3620 - 52292 David K. Cab Corp.', '5062 - 34841 Sam Mestas', '2733 - 74600 Benny Jona', '3591 - 63480 Chuks Cab', '3556 - 36214 RC Andrews Cab', '6743 - 78771 Luhak Corp', 'Metro Jet Taxi Ass', '4523 - 79481 Hazel Transit Inc'), dtype=tf.string, default_value=-1, num_oov_buckets=0),\n",
       " VocabularyListCategoricalColumn(key='start_dow', vocabulary_list=('Friday', 'Saturday', 'Sunday', 'Monday', 'Tuesday', 'Wednesday', 'Thursday'), dtype=tf.string, default_value=-1, num_oov_buckets=0),\n",
       " NumericColumn(key='Pickup Centroid Latitude', shape=(1,), default_value=None, dtype=tf.float32, normalizer_fn=None),\n",
       " NumericColumn(key='Pickup Centroid Longitude', shape=(1,), default_value=None, dtype=tf.float32, normalizer_fn=None),\n",
       " NumericColumn(key='Dropoff Centroid Longitude', shape=(1,), default_value=None, dtype=tf.float32, normalizer_fn=None),\n",
       " NumericColumn(key='Dropoff Centroid Latitude', shape=(1,), default_value=None, dtype=tf.float32, normalizer_fn=None),\n",
       " NumericColumn(key='start_time_seconds', shape=(1,), default_value=None, dtype=tf.float32, normalizer_fn=None),\n",
       " NumericColumn(key='Trip Miles', shape=(1,), default_value=None, dtype=tf.float32, normalizer_fn=None)]"
      ]
     },
     "execution_count": 30,
     "metadata": {},
     "output_type": "execute_result"
    }
   ],
   "source": [
    "feature_columns"
   ]
  },
  {
   "cell_type": "code",
   "execution_count": 31,
   "id": "b390a8d5",
   "metadata": {},
   "outputs": [],
   "source": [
    "NUM_EXAMPLES=1000\n",
    "def make_input_fn(X, y, n_epochs=None, shuffle=True):\n",
    "  def input_fn():\n",
    "    dataset = tf.data.Dataset.from_tensor_slices((dict(X), y))\n",
    "    if shuffle:\n",
    "      dataset = dataset.shuffle(NUM_EXAMPLES)\n",
    "    # For training, cycle thru dataset as many times as need (n_epochs=None).\n",
    "    dataset = dataset.repeat(n_epochs)\n",
    "    # In memory training doesn't use batching.\n",
    "    dataset = dataset.batch(NUM_EXAMPLES)\n",
    "    return dataset\n",
    "  return input_fn\n",
    "##eval_input_fn = make_input_fn(dfeval, y_eval, num_epochs=1, shuffle=False) ## no evaluation dataset ok add later"
   ]
  },
  {
   "cell_type": "code",
   "execution_count": 51,
   "id": "7f6387e1",
   "metadata": {},
   "outputs": [],
   "source": [
    "def make_input_fn(data_df, label_df, num_epochs=1, shuffle=True, batch_size=32):\n",
    "  def input_function():\n",
    "    ds = tf.data.Dataset.from_tensor_slices((dict(data_df), label_df))\n",
    "    if shuffle:\n",
    "      ds = ds.shuffle(1000)\n",
    "    ds = ds.batch(batch_size).repeat(num_epochs)\n",
    "    return ds\n",
    "  return input_function\n",
    "\n",
    "train_input_fn = make_input_fn(x_train, y_train)\n",
    "##eval_input_fn = make_input_fn(dfeval, y_eval, num_epochs=1, shuffle=False) ## no evaluation dataset ok add later"
   ]
  },
  {
   "cell_type": "code",
   "execution_count": 33,
   "id": "452aa3a7",
   "metadata": {},
   "outputs": [
    {
     "data": {
      "text/plain": [
       "[VocabularyListCategoricalColumn(key='Company', vocabulary_list=('Medallion Leasin', 'Top Cab Affiliation', 'Flash Cab', 'City Service', 'Star North Management LLC', '312 Medallion Management Corp', '24 Seven Taxi', 'Taxi Affiliation Services', 'Globe Taxi', 'Patriot Taxi Dba Peace Taxi Associat', 'U Taxicab', 'Sun Taxi', 'Taxicab Insurance Agency, LLC', '3011 - 66308 JBL Cab Inc.', 'Chicago Taxicab', 'Setare Inc', 'Blue Ribbon Taxi Association Inc.', 'Choice Taxi Association', 'Chicago Independents', 'Metro Jet Cab Association Inc.', 'KOAM Taxi Association', '3620 - 52292 David K. Cab Corp.', '5062 - 34841 Sam Mestas', '2733 - 74600 Benny Jona', '3591 - 63480 Chuks Cab', '3556 - 36214 RC Andrews Cab', '6743 - 78771 Luhak Corp', 'Metro Jet Taxi Ass', '4523 - 79481 Hazel Transit Inc'), dtype=tf.string, default_value=-1, num_oov_buckets=0),\n",
       " VocabularyListCategoricalColumn(key='start_dow', vocabulary_list=('Friday', 'Saturday', 'Sunday', 'Monday', 'Tuesday', 'Wednesday', 'Thursday'), dtype=tf.string, default_value=-1, num_oov_buckets=0),\n",
       " NumericColumn(key='Pickup Centroid Latitude', shape=(1,), default_value=None, dtype=tf.float32, normalizer_fn=None),\n",
       " NumericColumn(key='Pickup Centroid Longitude', shape=(1,), default_value=None, dtype=tf.float32, normalizer_fn=None),\n",
       " NumericColumn(key='Dropoff Centroid Longitude', shape=(1,), default_value=None, dtype=tf.float32, normalizer_fn=None),\n",
       " NumericColumn(key='Dropoff Centroid Latitude', shape=(1,), default_value=None, dtype=tf.float32, normalizer_fn=None),\n",
       " NumericColumn(key='start_time_seconds', shape=(1,), default_value=None, dtype=tf.float32, normalizer_fn=None),\n",
       " NumericColumn(key='Trip Miles', shape=(1,), default_value=None, dtype=tf.float32, normalizer_fn=None)]"
      ]
     },
     "execution_count": 33,
     "metadata": {},
     "output_type": "execute_result"
    }
   ],
   "source": [
    "feature_columns"
   ]
  },
  {
   "cell_type": "code",
   "execution_count": 34,
   "id": "626ffb3c",
   "metadata": {},
   "outputs": [
    {
     "data": {
      "text/plain": [
       "['Company',\n",
       " 'start_dow',\n",
       " 'Pickup Centroid Latitude',\n",
       " 'Pickup Centroid Longitude',\n",
       " 'Dropoff Centroid Longitude',\n",
       " 'Dropoff Centroid Latitude',\n",
       " 'start_time_seconds',\n",
       " 'Trip Miles']"
      ]
     },
     "execution_count": 34,
     "metadata": {},
     "output_type": "execute_result"
    }
   ],
   "source": [
    "CATEGORICAL_COLUMNS+NUMERIC_COLUMNS"
   ]
  },
  {
   "cell_type": "code",
   "execution_count": 35,
   "id": "21e0db64",
   "metadata": {},
   "outputs": [],
   "source": [
    "xt_ordered = x_train[CATEGORICAL_COLUMNS+NUMERIC_COLUMNS]"
   ]
  },
  {
   "cell_type": "code",
   "execution_count": 36,
   "id": "75ff6569",
   "metadata": {},
   "outputs": [
    {
     "data": {
      "text/plain": [
       "{'Company': 'Medallion Leasin',\n",
       " 'start_dow': 'Friday',\n",
       " 'Pickup Centroid Latitude': 41.874005383,\n",
       " 'Pickup Centroid Longitude': -87.66351755,\n",
       " 'Dropoff Centroid Longitude': -87.655998182,\n",
       " 'Dropoff Centroid Latitude': 41.944226601,\n",
       " 'start_time_seconds': 900.0,\n",
       " 'Trip Miles': 6.4}"
      ]
     },
     "execution_count": 36,
     "metadata": {},
     "output_type": "execute_result"
    }
   ],
   "source": [
    "xt_ordered.head(1).T.to_dict()[0]"
   ]
  },
  {
   "cell_type": "code",
   "execution_count": 96,
   "id": "87bf6bde",
   "metadata": {},
   "outputs": [],
   "source": [
    "import json\n",
    "\n",
    "jdict = {}\n",
    "#with open('prediction_input.json', 'w') as json_file:\n",
    "inst_ls = []\n",
    "ct = 1\n",
    "#inst_ls.append(xt_ordered.head(1).T.to_dict()[0])\n",
    "#with open('prediction_input.json', 'w') as json_file:\n",
    "    #for row in xt_ordered.head(1).values.tolist():\n",
    "    #   json.dump(row, json_file)\n",
    "    #    json_file.write('\\n')\n",
    "    \n",
    "         #inst_ls.append(row)\n",
    "\n",
    "#inst_ls.append(xt_ordered.head(1).T.to_dict()[0])#,\"key\":ct})    \n",
    "inst_ls = [[1.0],[1.0]] + [[x] for x in xt_ordered.head(1).values.tolist()[0]]\n",
    "    #ct+=1\n",
    "    #json.dump(row, json_file)\n",
    "    #json_file.write('\\n')\n",
    "    \n",
    "jdict = {'instances': inst_ls}\n",
    "\n",
    "with open('prediction_input.json', 'w') as json_file:\n",
    "  json.dump(jdict, json_file)"
   ]
  },
  {
   "cell_type": "code",
   "execution_count": 97,
   "id": "1495b4a7",
   "metadata": {},
   "outputs": [
    {
     "data": {
      "text/plain": [
       "{'instances': [[1.0],\n",
       "  [1.0],\n",
       "  ['Medallion Leasin'],\n",
       "  ['Friday'],\n",
       "  [41.874005383],\n",
       "  [-87.66351755],\n",
       "  [-87.655998182],\n",
       "  [41.944226601],\n",
       "  [900.0],\n",
       "  [6.4]]}"
      ]
     },
     "execution_count": 97,
     "metadata": {},
     "output_type": "execute_result"
    }
   ],
   "source": [
    "jdict"
   ]
  },
  {
   "cell_type": "code",
   "execution_count": 85,
   "id": "032ec92a",
   "metadata": {},
   "outputs": [
    {
     "data": {
      "text/plain": [
       "{'Company': 'Medallion Leasin',\n",
       " 'start_dow': 'Friday',\n",
       " 'Pickup Centroid Latitude': 41.874005383,\n",
       " 'Pickup Centroid Longitude': -87.66351755,\n",
       " 'Dropoff Centroid Longitude': -87.655998182,\n",
       " 'Dropoff Centroid Latitude': 41.944226601,\n",
       " 'start_time_seconds': 900.0,\n",
       " 'Trip Miles': 6.4}"
      ]
     },
     "execution_count": 85,
     "metadata": {},
     "output_type": "execute_result"
    }
   ],
   "source": [
    "xt_ordered.head(1).T.to_dict()[0]"
   ]
  },
  {
   "cell_type": "code",
   "execution_count": 80,
   "id": "e8d75927",
   "metadata": {},
   "outputs": [
    {
     "data": {
      "text/plain": [
       "array([['Medallion Leasin', 'Friday', 41.874005383, -87.66351755,\n",
       "        -87.655998182, 41.944226601, 900.0, 6.4]], dtype=object)"
      ]
     },
     "execution_count": 80,
     "metadata": {},
     "output_type": "execute_result"
    }
   ],
   "source": [
    "xt_ordered.head(1).values"
   ]
  },
  {
   "cell_type": "code",
   "execution_count": 84,
   "id": "3bdbdcb5",
   "metadata": {},
   "outputs": [
    {
     "name": "stdout",
     "output_type": "stream",
     "text": [
      "{'Company': VarLenFeature(dtype=tf.string), 'start_dow': VarLenFeature(dtype=tf.string), 'Pickup Centroid Latitude': FixedLenFeature(shape=(1,), dtype=tf.float32, default_value=None), 'Pickup Centroid Longitude': FixedLenFeature(shape=(1,), dtype=tf.float32, default_value=None), 'Dropoff Centroid Longitude': FixedLenFeature(shape=(1,), dtype=tf.float32, default_value=None), 'Dropoff Centroid Latitude': FixedLenFeature(shape=(1,), dtype=tf.float32, default_value=None), 'start_time_seconds': FixedLenFeature(shape=(1,), dtype=tf.float32, default_value=None), 'Trip Miles': FixedLenFeature(shape=(1,), dtype=tf.float32, default_value=None)}\n"
     ]
    }
   ],
   "source": [
    "feature_spec = tf.feature_column.make_parse_example_spec(feature_columns)\n",
    "print(feature_spec)\n",
    "serving_input_receiver_fn = tf.estimator.export.build_parsing_serving_input_receiver_fn(feature_spec)"
   ]
  },
  {
   "cell_type": "code",
   "execution_count": 81,
   "id": "e5d09f41",
   "metadata": {},
   "outputs": [
    {
     "ename": "OSError",
     "evalue": "SavedModel file does not exist at: gs://taxi-mlops-demo-kubeflowpipelines-default/mlops-demo/model/1620678644/saved_model.pb/{saved_model.pbtxt|saved_model.pb}",
     "output_type": "error",
     "traceback": [
      "\u001b[0;31m---------------------------------------------------------------------------\u001b[0m",
      "\u001b[0;31mOSError\u001b[0m                                   Traceback (most recent call last)",
      "\u001b[0;32m<ipython-input-81-d6eb52a7ee38>\u001b[0m in \u001b[0;36m<module>\u001b[0;34m\u001b[0m\n\u001b[0;32m----> 1\u001b[0;31m \u001b[0mtf\u001b[0m\u001b[0;34m.\u001b[0m\u001b[0msaved_model\u001b[0m\u001b[0;34m.\u001b[0m\u001b[0mload\u001b[0m\u001b[0;34m(\u001b[0m\u001b[0;34m\"gs://taxi-mlops-demo-kubeflowpipelines-default/mlops-demo/model/1620678644/saved_model.pb\"\u001b[0m\u001b[0;34m)\u001b[0m\u001b[0;34m\u001b[0m\u001b[0;34m\u001b[0m\u001b[0m\n\u001b[0m",
      "\u001b[0;32m~/.local/lib/python3.7/site-packages/tensorflow/python/saved_model/load.py\u001b[0m in \u001b[0;36mload\u001b[0;34m(export_dir, tags, options)\u001b[0m\n\u001b[1;32m    601\u001b[0m     \u001b[0mValueError\u001b[0m\u001b[0;34m:\u001b[0m \u001b[0mIf\u001b[0m\u001b[0;31m \u001b[0m\u001b[0;31m`\u001b[0m\u001b[0mtags\u001b[0m\u001b[0;31m`\u001b[0m \u001b[0mdon\u001b[0m\u001b[0;31m'\u001b[0m\u001b[0mt\u001b[0m \u001b[0mmatch\u001b[0m \u001b[0ma\u001b[0m \u001b[0mMetaGraph\u001b[0m \u001b[0;32min\u001b[0m \u001b[0mthe\u001b[0m \u001b[0mSavedModel\u001b[0m\u001b[0;34m.\u001b[0m\u001b[0;34m\u001b[0m\u001b[0;34m\u001b[0m\u001b[0m\n\u001b[1;32m    602\u001b[0m   \"\"\"\n\u001b[0;32m--> 603\u001b[0;31m   \u001b[0;32mreturn\u001b[0m \u001b[0mload_internal\u001b[0m\u001b[0;34m(\u001b[0m\u001b[0mexport_dir\u001b[0m\u001b[0;34m,\u001b[0m \u001b[0mtags\u001b[0m\u001b[0;34m,\u001b[0m \u001b[0moptions\u001b[0m\u001b[0;34m)\u001b[0m\u001b[0;34m\u001b[0m\u001b[0;34m\u001b[0m\u001b[0m\n\u001b[0m\u001b[1;32m    604\u001b[0m \u001b[0;34m\u001b[0m\u001b[0m\n\u001b[1;32m    605\u001b[0m \u001b[0;34m\u001b[0m\u001b[0m\n",
      "\u001b[0;32m~/.local/lib/python3.7/site-packages/tensorflow/python/saved_model/load.py\u001b[0m in \u001b[0;36mload_internal\u001b[0;34m(export_dir, tags, options, loader_cls)\u001b[0m\n\u001b[1;32m    612\u001b[0m     \u001b[0mtags\u001b[0m \u001b[0;34m=\u001b[0m \u001b[0mnest\u001b[0m\u001b[0;34m.\u001b[0m\u001b[0mflatten\u001b[0m\u001b[0;34m(\u001b[0m\u001b[0mtags\u001b[0m\u001b[0;34m)\u001b[0m\u001b[0;34m\u001b[0m\u001b[0;34m\u001b[0m\u001b[0m\n\u001b[1;32m    613\u001b[0m   saved_model_proto, debug_info = (\n\u001b[0;32m--> 614\u001b[0;31m       loader_impl.parse_saved_model_with_debug_info(export_dir))\n\u001b[0m\u001b[1;32m    615\u001b[0m \u001b[0;34m\u001b[0m\u001b[0m\n\u001b[1;32m    616\u001b[0m   if (len(saved_model_proto.meta_graphs) == 1 and\n",
      "\u001b[0;32m~/.local/lib/python3.7/site-packages/tensorflow/python/saved_model/loader_impl.py\u001b[0m in \u001b[0;36mparse_saved_model_with_debug_info\u001b[0;34m(export_dir)\u001b[0m\n\u001b[1;32m     54\u001b[0m     \u001b[0mparsed\u001b[0m\u001b[0;34m.\u001b[0m \u001b[0mMissing\u001b[0m \u001b[0mgraph\u001b[0m \u001b[0mdebug\u001b[0m \u001b[0minfo\u001b[0m \u001b[0mfile\u001b[0m \u001b[0;32mis\u001b[0m \u001b[0mfine\u001b[0m\u001b[0;34m.\u001b[0m\u001b[0;34m\u001b[0m\u001b[0;34m\u001b[0m\u001b[0m\n\u001b[1;32m     55\u001b[0m   \"\"\"\n\u001b[0;32m---> 56\u001b[0;31m   \u001b[0msaved_model\u001b[0m \u001b[0;34m=\u001b[0m \u001b[0m_parse_saved_model\u001b[0m\u001b[0;34m(\u001b[0m\u001b[0mexport_dir\u001b[0m\u001b[0;34m)\u001b[0m\u001b[0;34m\u001b[0m\u001b[0;34m\u001b[0m\u001b[0m\n\u001b[0m\u001b[1;32m     57\u001b[0m \u001b[0;34m\u001b[0m\u001b[0m\n\u001b[1;32m     58\u001b[0m   debug_info_path = os.path.join(\n",
      "\u001b[0;32m~/.local/lib/python3.7/site-packages/tensorflow/python/saved_model/loader_impl.py\u001b[0m in \u001b[0;36mparse_saved_model\u001b[0;34m(export_dir)\u001b[0m\n\u001b[1;32m    111\u001b[0m                   (export_dir,\n\u001b[1;32m    112\u001b[0m                    \u001b[0mconstants\u001b[0m\u001b[0;34m.\u001b[0m\u001b[0mSAVED_MODEL_FILENAME_PBTXT\u001b[0m\u001b[0;34m,\u001b[0m\u001b[0;34m\u001b[0m\u001b[0;34m\u001b[0m\u001b[0m\n\u001b[0;32m--> 113\u001b[0;31m                    constants.SAVED_MODEL_FILENAME_PB))\n\u001b[0m\u001b[1;32m    114\u001b[0m \u001b[0;34m\u001b[0m\u001b[0m\n\u001b[1;32m    115\u001b[0m \u001b[0;34m\u001b[0m\u001b[0m\n",
      "\u001b[0;31mOSError\u001b[0m: SavedModel file does not exist at: gs://taxi-mlops-demo-kubeflowpipelines-default/mlops-demo/model/1620678644/saved_model.pb/{saved_model.pbtxt|saved_model.pb}"
     ]
    }
   ],
   "source": [
    "tf.saved_model.load(\"gs://taxi-mlops-demo-kubeflowpipelines-default/mlops-demo/model/1620678644/saved_model.pb\")"
   ]
  },
  {
   "cell_type": "code",
   "execution_count": 82,
   "id": "9f1d7142",
   "metadata": {},
   "outputs": [
    {
     "data": {
      "text/plain": [
       "['Medallion Leasin',\n",
       " 'Friday',\n",
       " 41.874005383,\n",
       " -87.66351755,\n",
       " -87.655998182,\n",
       " 41.944226601,\n",
       " 900.0,\n",
       " 6.4]"
      ]
     },
     "execution_count": 82,
     "metadata": {},
     "output_type": "execute_result"
    }
   ],
   "source": [
    "xt_ordered.head(1).values.tolist()[0]"
   ]
  },
  {
   "cell_type": "code",
   "execution_count": 70,
   "id": "8fb5e9b7",
   "metadata": {},
   "outputs": [
    {
     "data": {
      "text/plain": [
       "{'instances': [{'values': ['Medallion Leasin',\n",
       "    'Friday',\n",
       "    41.874005383,\n",
       "    -87.66351755,\n",
       "    -87.655998182,\n",
       "    41.944226601,\n",
       "    900.0,\n",
       "    6.4],\n",
       "   'key': 1}]}"
      ]
     },
     "execution_count": 70,
     "metadata": {},
     "output_type": "execute_result"
    }
   ],
   "source": [
    "jdict"
   ]
  },
  {
   "cell_type": "code",
   "execution_count": 40,
   "id": "698db12d",
   "metadata": {},
   "outputs": [
    {
     "data": {
      "text/plain": [
       "{'Company': 'Medallion Leasin',\n",
       " 'start_dow': 'Friday',\n",
       " 'Pickup Centroid Latitude': 41.874005383,\n",
       " 'Pickup Centroid Longitude': -87.66351755,\n",
       " 'Dropoff Centroid Longitude': -87.655998182,\n",
       " 'Dropoff Centroid Latitude': 41.944226601,\n",
       " 'start_time_seconds': 900.0,\n",
       " 'Trip Miles': 6.4}"
      ]
     },
     "execution_count": 40,
     "metadata": {},
     "output_type": "execute_result"
    }
   ],
   "source": [
    "xt_ordered.head(1).T.to_dict()[0]"
   ]
  },
  {
   "cell_type": "code",
   "execution_count": null,
   "id": "aa7225e6",
   "metadata": {},
   "outputs": [],
   "source": [
    "jdict"
   ]
  },
  {
   "cell_type": "code",
   "execution_count": 52,
   "id": "8220cc6c",
   "metadata": {},
   "outputs": [
    {
     "name": "stdout",
     "output_type": "stream",
     "text": [
      "INFO:tensorflow:Using default config.\n",
      "WARNING:tensorflow:Using temporary folder as model directory: /tmp/tmpu2q9y7w6\n",
      "INFO:tensorflow:Using config: {'_model_dir': '/tmp/tmpu2q9y7w6', '_tf_random_seed': None, '_save_summary_steps': 100, '_save_checkpoints_steps': None, '_save_checkpoints_secs': 600, '_session_config': allow_soft_placement: true\n",
      "graph_options {\n",
      "  rewrite_options {\n",
      "    meta_optimizer_iterations: ONE\n",
      "  }\n",
      "}\n",
      ", '_keep_checkpoint_max': 5, '_keep_checkpoint_every_n_hours': 10000, '_log_step_count_steps': 100, '_train_distribute': None, '_device_fn': None, '_protocol': None, '_eval_distribute': None, '_experimental_distribute': None, '_experimental_max_worker_delay_secs': None, '_session_creation_timeout_secs': 7200, '_service': None, '_cluster_spec': ClusterSpec({}), '_task_type': 'worker', '_task_id': 0, '_global_id_in_cluster': 0, '_master': '', '_evaluation_master': '', '_is_chief': True, '_num_ps_replicas': 0, '_num_worker_replicas': 1}\n",
      "WARNING:tensorflow:From /home/jupyter/.local/lib/python3.7/site-packages/tensorflow/python/training/training_util.py:236: Variable.initialized_value (from tensorflow.python.ops.variables) is deprecated and will be removed in a future version.\n",
      "Instructions for updating:\n",
      "Use Variable.read_value. Variables in 2.X are initialized automatically both in eager and graph (inside tf.defun) contexts.\n",
      "INFO:tensorflow:Calling model_fn.\n",
      "WARNING:tensorflow:Layer linear/linear_model is casting an input tensor from dtype float64 to the layer's dtype of float32, which is new behavior in TensorFlow 2.  The layer has dtype float32 because its dtype defaults to floatx.\n",
      "\n",
      "If you intended to run this layer in float32, you can safely ignore this warning. If in doubt, this warning is likely only an issue if you are porting a TensorFlow 1.X model to TensorFlow 2.\n",
      "\n",
      "To change all layers to have dtype float64 by default, call `tf.keras.backend.set_floatx('float64')`. To change just this layer, pass dtype='float64' to the layer constructor. If you are the author of this layer, you can disable autocasting by passing autocast=False to the base Layer constructor.\n",
      "\n",
      "WARNING:tensorflow:From /home/jupyter/.local/lib/python3.7/site-packages/tensorflow_estimator/python/estimator/canned/linear.py:1481: Layer.add_variable (from tensorflow.python.keras.engine.base_layer_v1) is deprecated and will be removed in a future version.\n",
      "Instructions for updating:\n",
      "Please use `layer.add_weight` method instead.\n",
      "WARNING:tensorflow:From /home/jupyter/.local/lib/python3.7/site-packages/tensorflow/python/keras/optimizer_v2/ftrl.py:112: calling Constant.__init__ (from tensorflow.python.ops.init_ops) with dtype is deprecated and will be removed in a future version.\n",
      "Instructions for updating:\n",
      "Call initializer instance with the dtype argument instead of passing it to the constructor\n",
      "INFO:tensorflow:Done calling model_fn.\n",
      "INFO:tensorflow:Create CheckpointSaverHook.\n",
      "INFO:tensorflow:Graph was finalized.\n",
      "INFO:tensorflow:Running local_init_op.\n",
      "INFO:tensorflow:Done running local_init_op.\n",
      "INFO:tensorflow:Calling checkpoint listeners before saving checkpoint 0...\n",
      "INFO:tensorflow:Saving checkpoints for 0 into /tmp/tmpu2q9y7w6/model.ckpt.\n",
      "INFO:tensorflow:Calling checkpoint listeners after saving checkpoint 0...\n",
      "INFO:tensorflow:loss = 1052763.9, step = 0\n",
      "INFO:tensorflow:global_step/sec: 336.318\n",
      "INFO:tensorflow:loss = 697484.6, step = 100 (0.299 sec)\n",
      "INFO:tensorflow:global_step/sec: 802.874\n",
      "INFO:tensorflow:loss = 741672.6, step = 200 (0.127 sec)\n",
      "INFO:tensorflow:global_step/sec: 796.459\n",
      "INFO:tensorflow:loss = 387458.88, step = 300 (0.126 sec)\n",
      "INFO:tensorflow:global_step/sec: 796.459\n",
      "INFO:tensorflow:loss = 488938.75, step = 400 (0.126 sec)\n",
      "INFO:tensorflow:global_step/sec: 797.977\n",
      "INFO:tensorflow:loss = 604519.94, step = 500 (0.124 sec)\n",
      "INFO:tensorflow:global_step/sec: 809.86\n",
      "INFO:tensorflow:loss = 226445150.0, step = 600 (0.122 sec)\n",
      "INFO:tensorflow:global_step/sec: 798.959\n",
      "INFO:tensorflow:loss = 1113249.6, step = 700 (0.125 sec)\n",
      "INFO:tensorflow:global_step/sec: 784.451\n",
      "INFO:tensorflow:loss = 847856.7, step = 800 (0.128 sec)\n",
      "INFO:tensorflow:global_step/sec: 765.703\n",
      "INFO:tensorflow:loss = 402771.94, step = 900 (0.131 sec)\n",
      "INFO:tensorflow:global_step/sec: 769.14\n",
      "INFO:tensorflow:loss = 1135670.5, step = 1000 (0.130 sec)\n",
      "INFO:tensorflow:global_step/sec: 778.394\n",
      "INFO:tensorflow:loss = 473170.88, step = 1100 (0.129 sec)\n",
      "INFO:tensorflow:global_step/sec: 752.038\n",
      "INFO:tensorflow:loss = 531270.94, step = 1200 (0.136 sec)\n",
      "INFO:tensorflow:global_step/sec: 745.694\n",
      "INFO:tensorflow:loss = 367373.12, step = 1300 (0.131 sec)\n",
      "INFO:tensorflow:global_step/sec: 741.42\n",
      "INFO:tensorflow:loss = 1601058.1, step = 1400 (0.134 sec)\n",
      "INFO:tensorflow:global_step/sec: 831.141\n",
      "INFO:tensorflow:loss = 609224.1, step = 1500 (0.120 sec)\n",
      "INFO:tensorflow:global_step/sec: 805.299\n",
      "INFO:tensorflow:loss = 280711.66, step = 1600 (0.124 sec)\n",
      "INFO:tensorflow:global_step/sec: 829.048\n",
      "INFO:tensorflow:loss = 2827241.0, step = 1700 (0.121 sec)\n",
      "INFO:tensorflow:global_step/sec: 790.211\n",
      "INFO:tensorflow:loss = 816374.0, step = 1800 (0.127 sec)\n",
      "INFO:tensorflow:global_step/sec: 723.017\n",
      "INFO:tensorflow:loss = 105103550.0, step = 1900 (0.138 sec)\n",
      "INFO:tensorflow:global_step/sec: 795.376\n",
      "INFO:tensorflow:loss = 499988.34, step = 2000 (0.126 sec)\n",
      "INFO:tensorflow:global_step/sec: 845.266\n",
      "INFO:tensorflow:loss = 494517.4, step = 2100 (0.119 sec)\n",
      "INFO:tensorflow:global_step/sec: 782.668\n",
      "INFO:tensorflow:loss = 1727803.0, step = 2200 (0.128 sec)\n",
      "INFO:tensorflow:global_step/sec: 735.14\n",
      "INFO:tensorflow:loss = 1307723.8, step = 2300 (0.138 sec)\n",
      "INFO:tensorflow:global_step/sec: 809.027\n",
      "INFO:tensorflow:loss = 633391.56, step = 2400 (0.124 sec)\n",
      "INFO:tensorflow:global_step/sec: 792.997\n",
      "INFO:tensorflow:loss = 816329.2, step = 2500 (0.126 sec)\n",
      "INFO:tensorflow:global_step/sec: 784.924\n",
      "INFO:tensorflow:loss = 735593.6, step = 2600 (0.127 sec)\n",
      "INFO:tensorflow:global_step/sec: 783.871\n",
      "INFO:tensorflow:loss = 382861.12, step = 2700 (0.125 sec)\n",
      "INFO:tensorflow:global_step/sec: 814.297\n",
      "INFO:tensorflow:loss = 397048.56, step = 2800 (0.126 sec)\n",
      "INFO:tensorflow:global_step/sec: 787.777\n",
      "INFO:tensorflow:loss = 647154.0, step = 2900 (0.126 sec)\n",
      "INFO:tensorflow:global_step/sec: 808.123\n",
      "INFO:tensorflow:loss = 540400.4, step = 3000 (0.124 sec)\n",
      "INFO:tensorflow:global_step/sec: 771.264\n",
      "INFO:tensorflow:loss = 62345692.0, step = 3100 (0.130 sec)\n",
      "INFO:tensorflow:global_step/sec: 771.451\n",
      "INFO:tensorflow:loss = 675509.6, step = 3200 (0.130 sec)\n",
      "INFO:tensorflow:global_step/sec: 802.814\n",
      "INFO:tensorflow:loss = 883304.6, step = 3300 (0.122 sec)\n",
      "INFO:tensorflow:global_step/sec: 795.331\n",
      "INFO:tensorflow:loss = 623802.3, step = 3400 (0.128 sec)\n",
      "INFO:tensorflow:global_step/sec: 787.228\n",
      "INFO:tensorflow:loss = 578490.7, step = 3500 (0.125 sec)\n",
      "INFO:tensorflow:global_step/sec: 771.674\n",
      "INFO:tensorflow:loss = 566933.2, step = 3600 (0.130 sec)\n",
      "INFO:tensorflow:global_step/sec: 749.242\n",
      "INFO:tensorflow:loss = 478650.8, step = 3700 (0.134 sec)\n",
      "INFO:tensorflow:global_step/sec: 754.428\n",
      "INFO:tensorflow:loss = 845981.9, step = 3800 (0.132 sec)\n",
      "INFO:tensorflow:global_step/sec: 770.365\n",
      "INFO:tensorflow:loss = 525671.1, step = 3900 (0.132 sec)\n",
      "INFO:tensorflow:global_step/sec: 786.281\n",
      "INFO:tensorflow:loss = 224694.4, step = 4000 (0.125 sec)\n",
      "INFO:tensorflow:global_step/sec: 803.89\n",
      "INFO:tensorflow:loss = 608164.8, step = 4100 (0.128 sec)\n",
      "INFO:tensorflow:global_step/sec: 784.789\n",
      "INFO:tensorflow:loss = 385589.2, step = 4200 (0.124 sec)\n",
      "INFO:tensorflow:global_step/sec: 775.832\n",
      "INFO:tensorflow:loss = 1108174.0, step = 4300 (0.129 sec)\n",
      "INFO:tensorflow:global_step/sec: 773.815\n",
      "INFO:tensorflow:loss = 676741.0, step = 4400 (0.133 sec)\n",
      "INFO:tensorflow:global_step/sec: 734.792\n",
      "INFO:tensorflow:loss = 542090.4, step = 4500 (0.135 sec)\n",
      "INFO:tensorflow:global_step/sec: 694.404\n",
      "INFO:tensorflow:loss = 1244476.5, step = 4600 (0.144 sec)\n",
      "INFO:tensorflow:global_step/sec: 793.396\n",
      "INFO:tensorflow:loss = 694695.4, step = 4700 (0.124 sec)\n",
      "INFO:tensorflow:global_step/sec: 802.773\n",
      "INFO:tensorflow:loss = 425986.62, step = 4800 (0.124 sec)\n",
      "INFO:tensorflow:global_step/sec: 779.479\n",
      "INFO:tensorflow:loss = 710793.4, step = 4900 (0.128 sec)\n",
      "INFO:tensorflow:global_step/sec: 793.689\n",
      "INFO:tensorflow:loss = 365094.22, step = 5000 (0.128 sec)\n",
      "INFO:tensorflow:global_step/sec: 778.842\n",
      "INFO:tensorflow:loss = 137977800.0, step = 5100 (0.126 sec)\n",
      "INFO:tensorflow:global_step/sec: 797.333\n",
      "INFO:tensorflow:loss = 416877.62, step = 5200 (0.128 sec)\n",
      "INFO:tensorflow:global_step/sec: 815.766\n",
      "INFO:tensorflow:loss = 1155463.5, step = 5300 (0.121 sec)\n",
      "INFO:tensorflow:global_step/sec: 840.811\n",
      "INFO:tensorflow:loss = 881300.0, step = 5400 (0.119 sec)\n",
      "INFO:tensorflow:global_step/sec: 820.107\n",
      "INFO:tensorflow:loss = 390446.75, step = 5500 (0.122 sec)\n",
      "INFO:tensorflow:global_step/sec: 819.651\n",
      "INFO:tensorflow:loss = 994910.3, step = 5600 (0.122 sec)\n",
      "INFO:tensorflow:global_step/sec: 763.188\n",
      "INFO:tensorflow:loss = 579146.25, step = 5700 (0.134 sec)\n",
      "INFO:tensorflow:global_step/sec: 797.213\n",
      "INFO:tensorflow:loss = 204822.9, step = 5800 (0.125 sec)\n",
      "INFO:tensorflow:global_step/sec: 784.617\n",
      "INFO:tensorflow:loss = 426553.62, step = 5900 (0.126 sec)\n",
      "INFO:tensorflow:global_step/sec: 780.707\n",
      "INFO:tensorflow:loss = 1498030.5, step = 6000 (0.127 sec)\n",
      "INFO:tensorflow:global_step/sec: 807.224\n",
      "INFO:tensorflow:loss = 425886.25, step = 6100 (0.126 sec)\n",
      "INFO:tensorflow:global_step/sec: 772.853\n",
      "INFO:tensorflow:loss = 417260.4, step = 6200 (0.130 sec)\n",
      "INFO:tensorflow:global_step/sec: 787.805\n",
      "INFO:tensorflow:loss = 520210.62, step = 6300 (0.128 sec)\n",
      "INFO:tensorflow:global_step/sec: 792.885\n",
      "INFO:tensorflow:loss = 1367580.5, step = 6400 (0.126 sec)\n",
      "INFO:tensorflow:global_step/sec: 802.661\n",
      "INFO:tensorflow:loss = 175930.53, step = 6500 (0.124 sec)\n",
      "INFO:tensorflow:global_step/sec: 783.272\n",
      "INFO:tensorflow:loss = 786660.4, step = 6600 (0.128 sec)\n",
      "INFO:tensorflow:global_step/sec: 773.735\n",
      "INFO:tensorflow:loss = 653282.56, step = 6700 (0.127 sec)\n",
      "INFO:tensorflow:global_step/sec: 802.52\n",
      "INFO:tensorflow:loss = 483322.62, step = 6800 (0.124 sec)\n",
      "INFO:tensorflow:global_step/sec: 814.026\n",
      "INFO:tensorflow:loss = 289920.12, step = 6900 (0.123 sec)\n",
      "INFO:tensorflow:global_step/sec: 746.844\n",
      "INFO:tensorflow:loss = 690137.25, step = 7000 (0.134 sec)\n",
      "INFO:tensorflow:global_step/sec: 811.116\n",
      "INFO:tensorflow:loss = 451689.12, step = 7100 (0.125 sec)\n",
      "INFO:tensorflow:global_step/sec: 795.032\n",
      "INFO:tensorflow:loss = 615225.1, step = 7200 (0.126 sec)\n",
      "INFO:tensorflow:global_step/sec: 798.883\n",
      "INFO:tensorflow:loss = 437222.44, step = 7300 (0.125 sec)\n",
      "INFO:tensorflow:global_step/sec: 759.861\n",
      "INFO:tensorflow:loss = 711255.25, step = 7400 (0.131 sec)\n",
      "INFO:tensorflow:global_step/sec: 703.485\n",
      "INFO:tensorflow:loss = 801683.1, step = 7500 (0.142 sec)\n",
      "INFO:tensorflow:global_step/sec: 807.801\n",
      "INFO:tensorflow:loss = 534816.06, step = 7600 (0.124 sec)\n",
      "INFO:tensorflow:global_step/sec: 787.553\n",
      "INFO:tensorflow:loss = 973404.4, step = 7700 (0.127 sec)\n",
      "INFO:tensorflow:global_step/sec: 809.921\n",
      "INFO:tensorflow:loss = 835107.3, step = 7800 (0.123 sec)\n",
      "INFO:tensorflow:global_step/sec: 781.875\n",
      "INFO:tensorflow:loss = 48820628.0, step = 7900 (0.128 sec)\n",
      "INFO:tensorflow:global_step/sec: 818.648\n",
      "INFO:tensorflow:loss = 341393.75, step = 8000 (0.122 sec)\n",
      "INFO:tensorflow:global_step/sec: 796.37\n",
      "INFO:tensorflow:loss = 297642.12, step = 8100 (0.127 sec)\n",
      "INFO:tensorflow:global_step/sec: 801.786\n",
      "INFO:tensorflow:loss = 1148047.8, step = 8200 (0.123 sec)\n",
      "INFO:tensorflow:global_step/sec: 827.895\n",
      "INFO:tensorflow:loss = 233275.27, step = 8300 (0.120 sec)\n",
      "INFO:tensorflow:global_step/sec: 805.262\n",
      "INFO:tensorflow:loss = 337608.7, step = 8400 (0.124 sec)\n",
      "INFO:tensorflow:global_step/sec: 838.442\n",
      "INFO:tensorflow:loss = 606025.2, step = 8500 (0.119 sec)\n",
      "INFO:tensorflow:global_step/sec: 812.67\n",
      "INFO:tensorflow:loss = 665014.4, step = 8600 (0.123 sec)\n",
      "INFO:tensorflow:global_step/sec: 763.357\n",
      "INFO:tensorflow:loss = 418749.78, step = 8700 (0.133 sec)\n",
      "INFO:tensorflow:global_step/sec: 814.687\n",
      "INFO:tensorflow:loss = 5926643.0, step = 8800 (0.123 sec)\n",
      "INFO:tensorflow:global_step/sec: 790.425\n",
      "INFO:tensorflow:loss = 677370.44, step = 8900 (0.124 sec)\n",
      "INFO:tensorflow:global_step/sec: 798.008\n",
      "INFO:tensorflow:loss = 568456.8, step = 9000 (0.129 sec)\n",
      "INFO:tensorflow:global_step/sec: 795.488\n",
      "INFO:tensorflow:loss = 627065.25, step = 9100 (0.124 sec)\n",
      "INFO:tensorflow:global_step/sec: 834.251\n",
      "INFO:tensorflow:loss = 632536.6, step = 9200 (0.118 sec)\n",
      "INFO:tensorflow:global_step/sec: 825.649\n",
      "INFO:tensorflow:loss = 1187223.6, step = 9300 (0.121 sec)\n",
      "INFO:tensorflow:global_step/sec: 789.223\n",
      "INFO:tensorflow:loss = 252364.4, step = 9400 (0.127 sec)\n",
      "INFO:tensorflow:global_step/sec: 748.181\n",
      "INFO:tensorflow:loss = 747126.9, step = 9500 (0.134 sec)\n",
      "INFO:tensorflow:global_step/sec: 768.503\n",
      "INFO:tensorflow:loss = 255754.78, step = 9600 (0.130 sec)\n",
      "INFO:tensorflow:global_step/sec: 767.259\n",
      "INFO:tensorflow:loss = 438509.34, step = 9700 (0.131 sec)\n",
      "INFO:tensorflow:global_step/sec: 736.675\n",
      "INFO:tensorflow:loss = 656976.3, step = 9800 (0.137 sec)\n",
      "INFO:tensorflow:global_step/sec: 800.907\n",
      "INFO:tensorflow:loss = 428934.88, step = 9900 (0.125 sec)\n",
      "INFO:tensorflow:global_step/sec: 776.092\n",
      "INFO:tensorflow:loss = 528983.9, step = 10000 (0.129 sec)\n",
      "INFO:tensorflow:global_step/sec: 805.474\n",
      "INFO:tensorflow:loss = 306183.66, step = 10100 (0.121 sec)\n",
      "INFO:tensorflow:global_step/sec: 769.423\n",
      "INFO:tensorflow:loss = 375050.3, step = 10200 (0.130 sec)\n",
      "INFO:tensorflow:global_step/sec: 805.072\n",
      "INFO:tensorflow:loss = 1214116.5, step = 10300 (0.127 sec)\n",
      "INFO:tensorflow:global_step/sec: 783.584\n",
      "INFO:tensorflow:loss = 108939710.0, step = 10400 (0.127 sec)\n",
      "INFO:tensorflow:global_step/sec: 803.305\n",
      "INFO:tensorflow:loss = 841504.06, step = 10500 (0.123 sec)\n",
      "INFO:tensorflow:global_step/sec: 783.178\n",
      "INFO:tensorflow:loss = 475035.34, step = 10600 (0.130 sec)\n",
      "INFO:tensorflow:global_step/sec: 771.423\n",
      "INFO:tensorflow:loss = 1082598.1, step = 10700 (0.127 sec)\n",
      "INFO:tensorflow:global_step/sec: 802.944\n",
      "INFO:tensorflow:loss = 728547.3, step = 10800 (0.125 sec)\n",
      "INFO:tensorflow:global_step/sec: 817.563\n",
      "INFO:tensorflow:loss = 2319038.8, step = 10900 (0.122 sec)\n",
      "INFO:tensorflow:global_step/sec: 806.361\n",
      "INFO:tensorflow:loss = 585251.06, step = 11000 (0.124 sec)\n",
      "INFO:tensorflow:global_step/sec: 777.051\n",
      "INFO:tensorflow:loss = 827859.6, step = 11100 (0.129 sec)\n",
      "INFO:tensorflow:global_step/sec: 763.521\n",
      "INFO:tensorflow:loss = 38330764.0, step = 11200 (0.134 sec)\n",
      "INFO:tensorflow:global_step/sec: 771.331\n",
      "INFO:tensorflow:loss = 352717.94, step = 11300 (0.129 sec)\n",
      "INFO:tensorflow:global_step/sec: 774.16\n",
      "INFO:tensorflow:loss = 447358.72, step = 11400 (0.130 sec)\n",
      "INFO:tensorflow:global_step/sec: 757.967\n",
      "INFO:tensorflow:loss = 385522.97, step = 11500 (0.129 sec)\n",
      "INFO:tensorflow:global_step/sec: 709.829\n",
      "INFO:tensorflow:loss = 453113.25, step = 11600 (0.143 sec)\n",
      "INFO:tensorflow:global_step/sec: 749.212\n",
      "INFO:tensorflow:loss = 221373.06, step = 11700 (0.134 sec)\n",
      "INFO:tensorflow:global_step/sec: 811.277\n",
      "INFO:tensorflow:loss = 820125.75, step = 11800 (0.123 sec)\n",
      "INFO:tensorflow:global_step/sec: 806.223\n",
      "INFO:tensorflow:loss = 365778.3, step = 11900 (0.122 sec)\n",
      "INFO:tensorflow:global_step/sec: 796.752\n",
      "INFO:tensorflow:loss = 4029018.5, step = 12000 (0.129 sec)\n",
      "INFO:tensorflow:global_step/sec: 749.627\n",
      "INFO:tensorflow:loss = 357123.6, step = 12100 (0.132 sec)\n",
      "INFO:tensorflow:global_step/sec: 773.977\n",
      "INFO:tensorflow:loss = 687640.0, step = 12200 (0.130 sec)\n",
      "INFO:tensorflow:global_step/sec: 669.737\n",
      "INFO:tensorflow:loss = 424137.34, step = 12300 (0.146 sec)\n",
      "INFO:tensorflow:global_step/sec: 818.463\n",
      "INFO:tensorflow:loss = 575599.75, step = 12400 (0.122 sec)\n",
      "INFO:tensorflow:global_step/sec: 824.334\n",
      "INFO:tensorflow:loss = 277398.34, step = 12500 (0.121 sec)\n",
      "INFO:tensorflow:global_step/sec: 816.917\n",
      "INFO:tensorflow:loss = 567714.25, step = 12600 (0.122 sec)\n",
      "INFO:tensorflow:global_step/sec: 782.801\n",
      "INFO:tensorflow:loss = 492231.7, step = 12700 (0.128 sec)\n",
      "INFO:tensorflow:global_step/sec: 778.999\n",
      "INFO:tensorflow:loss = 350809.3, step = 12800 (0.130 sec)\n",
      "INFO:tensorflow:global_step/sec: 807.386\n",
      "INFO:tensorflow:loss = 632566.9, step = 12900 (0.122 sec)\n",
      "INFO:tensorflow:global_step/sec: 809.127\n",
      "INFO:tensorflow:loss = 406824.75, step = 13000 (0.126 sec)\n",
      "INFO:tensorflow:global_step/sec: 793.986\n",
      "INFO:tensorflow:loss = 847870.6, step = 13100 (0.127 sec)\n",
      "INFO:tensorflow:global_step/sec: 778.194\n",
      "INFO:tensorflow:loss = 340288.28, step = 13200 (0.128 sec)\n",
      "INFO:tensorflow:global_step/sec: 797.534\n",
      "INFO:tensorflow:loss = 477241.94, step = 13300 (0.125 sec)\n",
      "INFO:tensorflow:Calling checkpoint listeners before saving checkpoint 13365...\n",
      "INFO:tensorflow:Saving checkpoints for 13365 into /tmp/tmpu2q9y7w6/model.ckpt.\n",
      "INFO:tensorflow:Calling checkpoint listeners after saving checkpoint 13365...\n",
      "INFO:tensorflow:Loss for final step: 564484.6.\n"
     ]
    },
    {
     "data": {
      "text/plain": [
       "<tensorflow_estimator.python.estimator.canned.linear.LinearRegressorV2 at 0x7fa225c1c7d0>"
      ]
     },
     "execution_count": 52,
     "metadata": {},
     "output_type": "execute_result"
    }
   ],
   "source": [
    "## Train the model\n",
    "linear_est = tf.estimator.LinearRegressor(feature_columns=feature_columns)\n",
    "linear_est.train(train_input_fn)\n",
    "#result = linear_est.evaluate(eval_input_fn)\n",
    "##remove null values, the error is related to that."
   ]
  },
  {
   "cell_type": "code",
   "execution_count": 56,
   "id": "ed330840",
   "metadata": {},
   "outputs": [
    {
     "name": "stdout",
     "output_type": "stream",
     "text": [
      "INFO:tensorflow:Calling model_fn.\n",
      "INFO:tensorflow:Done calling model_fn.\n",
      "INFO:tensorflow:Signatures INCLUDED in export for Classify: None\n",
      "INFO:tensorflow:Signatures INCLUDED in export for Regress: ['serving_default', 'regression']\n",
      "INFO:tensorflow:Signatures INCLUDED in export for Predict: ['predict']\n",
      "INFO:tensorflow:Signatures INCLUDED in export for Train: None\n",
      "INFO:tensorflow:Signatures INCLUDED in export for Eval: None\n",
      "INFO:tensorflow:Restoring parameters from /tmp/tmpu2q9y7w6/model.ckpt-13365\n",
      "INFO:tensorflow:Assets added to graph.\n",
      "INFO:tensorflow:No assets to write.\n",
      "INFO:tensorflow:SavedModel written to: md/temp-1620831681/saved_model.pb\n"
     ]
    }
   ],
   "source": [
    "inputFn = tf.estimator.export.build_parsing_serving_input_receiver_fn(tf.feature_column.make_parse_example_spec(feature_columns))\n",
    "\n",
    "modelPath = linear_est.export_saved_model('md', inputFn)"
   ]
  },
  {
   "cell_type": "code",
   "execution_count": 58,
   "id": "e06d8cf8",
   "metadata": {},
   "outputs": [],
   "source": [
    "importedModel = tf.saved_model.load('md/1620831681')"
   ]
  },
  {
   "cell_type": "code",
   "execution_count": 62,
   "id": "0a8b6329",
   "metadata": {},
   "outputs": [
    {
     "data": {
      "text/plain": [
       "dict_keys(['restore', '_self_setattr_tracking', '_self_unconditional_checkpoint_dependencies', '_self_unconditional_dependency_names', '_self_unconditional_deferred_dependencies', '_self_update_uid', '_self_name_based_restores', '_self_saveable_object_factories', 'initializer', 'asset_paths', 'signatures', 'variables', 'tensorflow_version', 'tensorflow_git_version', 'graph', 'prune', 'graph_debug_info'])"
      ]
     },
     "execution_count": 62,
     "metadata": {},
     "output_type": "execute_result"
    }
   ],
   "source": [
    "importedModel.__dict__.keys()"
   ]
  },
  {
   "cell_type": "code",
   "execution_count": 65,
   "id": "6d0c51c5",
   "metadata": {},
   "outputs": [
    {
     "data": {
      "text/plain": [
       "ListWrapper([<tf.Variable 'global_step:0' shape=() dtype=int64, numpy=13365>, <tf.Variable 'linear/linear_model/Company/weights:0' shape=(29, 1) dtype=float32, numpy=\n",
       "array([[ -4.444671  ],\n",
       "       [ -6.703826  ],\n",
       "       [  6.8080096 ],\n",
       "       [  0.4852768 ],\n",
       "       [  0.96310174],\n",
       "       [  1.5528984 ],\n",
       "       [  2.8931763 ],\n",
       "       [  0.02882997],\n",
       "       [ -1.0458459 ],\n",
       "       [  0.18717669],\n",
       "       [ -0.68690115],\n",
       "       [  2.394558  ],\n",
       "       [-10.360238  ],\n",
       "       [ -3.0440896 ],\n",
       "       [ -0.6574925 ],\n",
       "       [ -3.1899934 ],\n",
       "       [ -5.9314094 ],\n",
       "       [  2.0641448 ],\n",
       "       [  0.7486503 ],\n",
       "       [ -3.4737687 ],\n",
       "       [ -7.4421854 ],\n",
       "       [  3.6075122 ],\n",
       "       [ -6.046403  ],\n",
       "       [  1.7525128 ],\n",
       "       [ -6.406878  ],\n",
       "       [ -0.4219591 ],\n",
       "       [  0.09382103],\n",
       "       [ -3.2013845 ],\n",
       "       [ -0.26640004]], dtype=float32)>, <tf.Variable 'linear/linear_model/Dropoff_Centroid_Latitude/weights:0' shape=(1, 1) dtype=float32, numpy=array([[2.946644]], dtype=float32)>, <tf.Variable 'linear/linear_model/Dropoff_Centroid_Longitude/weights:0' shape=(1, 1) dtype=float32, numpy=array([[-2.964774]], dtype=float32)>, <tf.Variable 'linear/linear_model/Pickup_Centroid_Latitude/weights:0' shape=(1, 1) dtype=float32, numpy=array([[2.950716]], dtype=float32)>, <tf.Variable 'linear/linear_model/Pickup_Centroid_Longitude/weights:0' shape=(1, 1) dtype=float32, numpy=array([[-2.9713883]], dtype=float32)>, <tf.Variable 'linear/linear_model/Trip_Miles/weights:0' shape=(1, 1) dtype=float32, numpy=array([[18.744995]], dtype=float32)>, <tf.Variable 'linear/linear_model/start_dow/weights:0' shape=(7, 1) dtype=float32, numpy=\n",
       "array([[0.7270663],\n",
       "       [3.5596342],\n",
       "       [3.0822742],\n",
       "       [3.4842691],\n",
       "       [3.2243052],\n",
       "       [1.4946713],\n",
       "       [2.9714012]], dtype=float32)>, <tf.Variable 'linear/linear_model/start_time_seconds/weights:0' shape=(1, 1) dtype=float32, numpy=array([[0.00105728]], dtype=float32)>, <tf.Variable 'linear/linear_model/bias_weights:0' shape=(1,) dtype=float32, numpy=array([2.957505], dtype=float32)>])"
      ]
     },
     "execution_count": 65,
     "metadata": {},
     "output_type": "execute_result"
    }
   ],
   "source": [
    "importedModel.variables"
   ]
  },
  {
   "cell_type": "code",
   "execution_count": null,
   "id": "6a99151d",
   "metadata": {},
   "outputs": [],
   "source": []
  }
 ],
 "metadata": {
  "environment": {
   "name": "tf2-gpu.2-4.m65",
   "type": "gcloud",
   "uri": "gcr.io/deeplearning-platform-release/tf2-gpu.2-4:m65"
  },
  "kernelspec": {
   "display_name": "Python [conda env:root] *",
   "language": "python",
   "name": "conda-root-py"
  },
  "language_info": {
   "codemirror_mode": {
    "name": "ipython",
    "version": 3
   },
   "file_extension": ".py",
   "mimetype": "text/x-python",
   "name": "python",
   "nbconvert_exporter": "python",
   "pygments_lexer": "ipython3",
   "version": "3.7.10"
  }
 },
 "nbformat": 4,
 "nbformat_minor": 5
}
