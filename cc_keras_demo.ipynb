{
 "cells": [
  {
   "cell_type": "markdown",
   "id": "26b5e886",
   "metadata": {},
   "source": [
    "# Sample Model to Predict Taxi Cab Trip Time"
   ]
  },
  {
   "cell_type": "markdown",
   "id": "cf983e76",
   "metadata": {},
   "source": [
    "##### This notebook will contain the model script to generate predictions for trip time to be used with the Kubeflow pipelines established. Any model can replace this one to illustrate the functionality of the MLOPS environment."
   ]
  },
  {
   "cell_type": "code",
   "execution_count": 1,
   "id": "f5408ab1",
   "metadata": {},
   "outputs": [],
   "source": [
    "##load libraries\n",
    "import pandas as pd\n",
    "import matplotlib.pyplot as plt\n",
    "import seaborn as sns\n",
    "%matplotlib inline\n",
    "from io import BytesIO\n",
    "from google.cloud import storage\n",
    "import tensorflow as tf"
   ]
  },
  {
   "cell_type": "code",
   "execution_count": 2,
   "id": "d9ca53d9",
   "metadata": {},
   "outputs": [],
   "source": [
    "import numpy as np"
   ]
  },
  {
   "cell_type": "code",
   "execution_count": 3,
   "id": "c6c35d56",
   "metadata": {},
   "outputs": [
    {
     "name": "stderr",
     "output_type": "stream",
     "text": [
      "/opt/conda/lib/python3.7/site-packages/IPython/core/interactiveshell.py:3170: DtypeWarning: Columns (10,13) have mixed types.Specify dtype option on import or set low_memory=False.\n",
      "  interactivity=interactivity, compiler=compiler, result=result)\n"
     ]
    }
   ],
   "source": [
    "##connect to training dataset\n",
    "storage_client = storage.Client()\n",
    "bucket = storage_client.get_bucket('mlops_model_input')\n",
    "file = '/data_input/Taxi_Trips_3mo.csv'\n",
    "blob = bucket.blob(file)\n",
    "path = \"gs://mlops_model_input\" + file\n",
    "df = pd.read_csv(path)"
   ]
  },
  {
   "cell_type": "code",
   "execution_count": 4,
   "id": "57f8d0c9",
   "metadata": {},
   "outputs": [
    {
     "data": {
      "text/html": [
       "<div>\n",
       "<style scoped>\n",
       "    .dataframe tbody tr th:only-of-type {\n",
       "        vertical-align: middle;\n",
       "    }\n",
       "\n",
       "    .dataframe tbody tr th {\n",
       "        vertical-align: top;\n",
       "    }\n",
       "\n",
       "    .dataframe thead th {\n",
       "        text-align: right;\n",
       "    }\n",
       "</style>\n",
       "<table border=\"1\" class=\"dataframe\">\n",
       "  <thead>\n",
       "    <tr style=\"text-align: right;\">\n",
       "      <th></th>\n",
       "      <th>Trip ID</th>\n",
       "      <th>Taxi ID</th>\n",
       "      <th>Trip Start Timestamp</th>\n",
       "      <th>Trip End Timestamp</th>\n",
       "      <th>Trip Seconds</th>\n",
       "      <th>Trip Miles</th>\n",
       "      <th>Pickup Census Tract</th>\n",
       "      <th>Dropoff Census Tract</th>\n",
       "      <th>Pickup Community Area</th>\n",
       "      <th>Dropoff Community Area</th>\n",
       "      <th>...</th>\n",
       "      <th>Extras</th>\n",
       "      <th>Trip Total</th>\n",
       "      <th>Payment Type</th>\n",
       "      <th>Company</th>\n",
       "      <th>Pickup Centroid Latitude</th>\n",
       "      <th>Pickup Centroid Longitude</th>\n",
       "      <th>Pickup Centroid Location</th>\n",
       "      <th>Dropoff Centroid Latitude</th>\n",
       "      <th>Dropoff Centroid Longitude</th>\n",
       "      <th>Dropoff Centroid  Location</th>\n",
       "    </tr>\n",
       "  </thead>\n",
       "  <tbody>\n",
       "    <tr>\n",
       "      <th>0</th>\n",
       "      <td>3e1ac82501797e2e6cd020d2eb6a47774add503f</td>\n",
       "      <td>51e37146cd6467734e50a00ffe2ebbb77ee35e5f207817...</td>\n",
       "      <td>01/01/2021 12:15:00 AM</td>\n",
       "      <td>01/01/2021 12:30:00 AM</td>\n",
       "      <td>1,140</td>\n",
       "      <td>6.4</td>\n",
       "      <td>NaN</td>\n",
       "      <td>NaN</td>\n",
       "      <td>28.0</td>\n",
       "      <td>6.0</td>\n",
       "      <td>...</td>\n",
       "      <td>0.0</td>\n",
       "      <td>25.35</td>\n",
       "      <td>Credit Card</td>\n",
       "      <td>Medallion Leasin</td>\n",
       "      <td>41.874005</td>\n",
       "      <td>-87.663518</td>\n",
       "      <td>POINT (-87.6635175498 41.874005383)</td>\n",
       "      <td>41.944227</td>\n",
       "      <td>-87.655998</td>\n",
       "      <td>POINT (-87.6559981815 41.9442266014)</td>\n",
       "    </tr>\n",
       "    <tr>\n",
       "      <th>1</th>\n",
       "      <td>3adf277e43154ac0cd099c7bb7137f75dcfded95</td>\n",
       "      <td>d24314a66ebc6319a50cc335d6896612b845ca15f702ee...</td>\n",
       "      <td>01/01/2021 12:15:00 AM</td>\n",
       "      <td>01/01/2021 12:15:00 AM</td>\n",
       "      <td>420</td>\n",
       "      <td>1.3</td>\n",
       "      <td>NaN</td>\n",
       "      <td>NaN</td>\n",
       "      <td>8.0</td>\n",
       "      <td>8.0</td>\n",
       "      <td>...</td>\n",
       "      <td>0.0</td>\n",
       "      <td>7.00</td>\n",
       "      <td>Cash</td>\n",
       "      <td>Top Cab Affiliation</td>\n",
       "      <td>41.899602</td>\n",
       "      <td>-87.633308</td>\n",
       "      <td>POINT (-87.6333080367 41.899602111)</td>\n",
       "      <td>41.899602</td>\n",
       "      <td>-87.633308</td>\n",
       "      <td>POINT (-87.6333080367 41.899602111)</td>\n",
       "    </tr>\n",
       "  </tbody>\n",
       "</table>\n",
       "<p>2 rows × 23 columns</p>\n",
       "</div>"
      ],
      "text/plain": [
       "                                    Trip ID  \\\n",
       "0  3e1ac82501797e2e6cd020d2eb6a47774add503f   \n",
       "1  3adf277e43154ac0cd099c7bb7137f75dcfded95   \n",
       "\n",
       "                                             Taxi ID    Trip Start Timestamp  \\\n",
       "0  51e37146cd6467734e50a00ffe2ebbb77ee35e5f207817...  01/01/2021 12:15:00 AM   \n",
       "1  d24314a66ebc6319a50cc335d6896612b845ca15f702ee...  01/01/2021 12:15:00 AM   \n",
       "\n",
       "       Trip End Timestamp Trip Seconds  Trip Miles  Pickup Census Tract  \\\n",
       "0  01/01/2021 12:30:00 AM        1,140         6.4                  NaN   \n",
       "1  01/01/2021 12:15:00 AM          420         1.3                  NaN   \n",
       "\n",
       "   Dropoff Census Tract  Pickup Community Area  Dropoff Community Area  ...  \\\n",
       "0                   NaN                   28.0                     6.0  ...   \n",
       "1                   NaN                    8.0                     8.0  ...   \n",
       "\n",
       "  Extras  Trip Total  Payment Type              Company  \\\n",
       "0    0.0       25.35   Credit Card     Medallion Leasin   \n",
       "1    0.0        7.00          Cash  Top Cab Affiliation   \n",
       "\n",
       "  Pickup Centroid Latitude Pickup Centroid Longitude  \\\n",
       "0                41.874005                -87.663518   \n",
       "1                41.899602                -87.633308   \n",
       "\n",
       "              Pickup Centroid Location  Dropoff Centroid Latitude  \\\n",
       "0  POINT (-87.6635175498 41.874005383)                  41.944227   \n",
       "1  POINT (-87.6333080367 41.899602111)                  41.899602   \n",
       "\n",
       "   Dropoff Centroid Longitude            Dropoff Centroid  Location  \n",
       "0                  -87.655998  POINT (-87.6559981815 41.9442266014)  \n",
       "1                  -87.633308   POINT (-87.6333080367 41.899602111)  \n",
       "\n",
       "[2 rows x 23 columns]"
      ]
     },
     "execution_count": 4,
     "metadata": {},
     "output_type": "execute_result"
    }
   ],
   "source": [
    "##print the top 5 records of imported dataset\n",
    "df.head(2)\n"
   ]
  },
  {
   "cell_type": "code",
   "execution_count": 5,
   "id": "9349a768",
   "metadata": {},
   "outputs": [
    {
     "data": {
      "text/plain": [
       "0"
      ]
     },
     "execution_count": 5,
     "metadata": {},
     "output_type": "execute_result"
    }
   ],
   "source": [
    "df['Trip Start Timestamp'].isna().sum()"
   ]
  },
  {
   "cell_type": "code",
   "execution_count": 6,
   "id": "5297ab59",
   "metadata": {},
   "outputs": [],
   "source": [
    "df['Trip Start Timestamp'] = pd.to_datetime(df['Trip Start Timestamp'])"
   ]
  },
  {
   "cell_type": "code",
   "execution_count": 7,
   "id": "c6e53ed1",
   "metadata": {},
   "outputs": [],
   "source": [
    "df['start_hr'] = df['Trip Start Timestamp'].dt.hour"
   ]
  },
  {
   "cell_type": "code",
   "execution_count": 8,
   "id": "c423339c",
   "metadata": {},
   "outputs": [],
   "source": [
    "df['start_dow'] = df['Trip Start Timestamp'].dt.day_name()"
   ]
  },
  {
   "cell_type": "markdown",
   "id": "55685a7a",
   "metadata": {},
   "source": [
    "Try and make pickup/dropoff string --> numeric makes no sense?"
   ]
  },
  {
   "cell_type": "code",
   "execution_count": 9,
   "id": "2a3b037e",
   "metadata": {},
   "outputs": [
    {
     "data": {
      "text/html": [
       "<div>\n",
       "<style scoped>\n",
       "    .dataframe tbody tr th:only-of-type {\n",
       "        vertical-align: middle;\n",
       "    }\n",
       "\n",
       "    .dataframe tbody tr th {\n",
       "        vertical-align: top;\n",
       "    }\n",
       "\n",
       "    .dataframe thead th {\n",
       "        text-align: right;\n",
       "    }\n",
       "</style>\n",
       "<table border=\"1\" class=\"dataframe\">\n",
       "  <thead>\n",
       "    <tr style=\"text-align: right;\">\n",
       "      <th></th>\n",
       "      <th>0</th>\n",
       "    </tr>\n",
       "  </thead>\n",
       "  <tbody>\n",
       "    <tr>\n",
       "      <th>Trip ID</th>\n",
       "      <td>3e1ac82501797e2e6cd020d2eb6a47774add503f</td>\n",
       "    </tr>\n",
       "    <tr>\n",
       "      <th>Taxi ID</th>\n",
       "      <td>51e37146cd6467734e50a00ffe2ebbb77ee35e5f207817...</td>\n",
       "    </tr>\n",
       "    <tr>\n",
       "      <th>Trip Start Timestamp</th>\n",
       "      <td>2021-01-01 00:15:00</td>\n",
       "    </tr>\n",
       "    <tr>\n",
       "      <th>Trip End Timestamp</th>\n",
       "      <td>01/01/2021 12:30:00 AM</td>\n",
       "    </tr>\n",
       "    <tr>\n",
       "      <th>Trip Seconds</th>\n",
       "      <td>1,140</td>\n",
       "    </tr>\n",
       "    <tr>\n",
       "      <th>Trip Miles</th>\n",
       "      <td>6.4</td>\n",
       "    </tr>\n",
       "    <tr>\n",
       "      <th>Pickup Census Tract</th>\n",
       "      <td>NaN</td>\n",
       "    </tr>\n",
       "    <tr>\n",
       "      <th>Dropoff Census Tract</th>\n",
       "      <td>NaN</td>\n",
       "    </tr>\n",
       "    <tr>\n",
       "      <th>Pickup Community Area</th>\n",
       "      <td>28.0</td>\n",
       "    </tr>\n",
       "    <tr>\n",
       "      <th>Dropoff Community Area</th>\n",
       "      <td>6.0</td>\n",
       "    </tr>\n",
       "    <tr>\n",
       "      <th>Fare</th>\n",
       "      <td>19.00</td>\n",
       "    </tr>\n",
       "    <tr>\n",
       "      <th>Tips</th>\n",
       "      <td>5.85</td>\n",
       "    </tr>\n",
       "    <tr>\n",
       "      <th>Tolls</th>\n",
       "      <td>0.0</td>\n",
       "    </tr>\n",
       "    <tr>\n",
       "      <th>Extras</th>\n",
       "      <td>0.0</td>\n",
       "    </tr>\n",
       "    <tr>\n",
       "      <th>Trip Total</th>\n",
       "      <td>25.35</td>\n",
       "    </tr>\n",
       "    <tr>\n",
       "      <th>Payment Type</th>\n",
       "      <td>Credit Card</td>\n",
       "    </tr>\n",
       "    <tr>\n",
       "      <th>Company</th>\n",
       "      <td>Medallion Leasin</td>\n",
       "    </tr>\n",
       "    <tr>\n",
       "      <th>Pickup Centroid Latitude</th>\n",
       "      <td>41.874005</td>\n",
       "    </tr>\n",
       "    <tr>\n",
       "      <th>Pickup Centroid Longitude</th>\n",
       "      <td>-87.663518</td>\n",
       "    </tr>\n",
       "    <tr>\n",
       "      <th>Pickup Centroid Location</th>\n",
       "      <td>POINT (-87.6635175498 41.874005383)</td>\n",
       "    </tr>\n",
       "    <tr>\n",
       "      <th>Dropoff Centroid Latitude</th>\n",
       "      <td>41.944227</td>\n",
       "    </tr>\n",
       "    <tr>\n",
       "      <th>Dropoff Centroid Longitude</th>\n",
       "      <td>-87.655998</td>\n",
       "    </tr>\n",
       "    <tr>\n",
       "      <th>Dropoff Centroid  Location</th>\n",
       "      <td>POINT (-87.6559981815 41.9442266014)</td>\n",
       "    </tr>\n",
       "    <tr>\n",
       "      <th>start_hr</th>\n",
       "      <td>0</td>\n",
       "    </tr>\n",
       "    <tr>\n",
       "      <th>start_dow</th>\n",
       "      <td>Friday</td>\n",
       "    </tr>\n",
       "  </tbody>\n",
       "</table>\n",
       "</div>"
      ],
      "text/plain": [
       "                                                                            0\n",
       "Trip ID                              3e1ac82501797e2e6cd020d2eb6a47774add503f\n",
       "Taxi ID                     51e37146cd6467734e50a00ffe2ebbb77ee35e5f207817...\n",
       "Trip Start Timestamp                                      2021-01-01 00:15:00\n",
       "Trip End Timestamp                                     01/01/2021 12:30:00 AM\n",
       "Trip Seconds                                                            1,140\n",
       "Trip Miles                                                                6.4\n",
       "Pickup Census Tract                                                       NaN\n",
       "Dropoff Census Tract                                                      NaN\n",
       "Pickup Community Area                                                    28.0\n",
       "Dropoff Community Area                                                    6.0\n",
       "Fare                                                                    19.00\n",
       "Tips                                                                     5.85\n",
       "Tolls                                                                     0.0\n",
       "Extras                                                                    0.0\n",
       "Trip Total                                                              25.35\n",
       "Payment Type                                                      Credit Card\n",
       "Company                                                      Medallion Leasin\n",
       "Pickup Centroid Latitude                                            41.874005\n",
       "Pickup Centroid Longitude                                          -87.663518\n",
       "Pickup Centroid Location                  POINT (-87.6635175498 41.874005383)\n",
       "Dropoff Centroid Latitude                                           41.944227\n",
       "Dropoff Centroid Longitude                                         -87.655998\n",
       "Dropoff Centroid  Location               POINT (-87.6559981815 41.9442266014)\n",
       "start_hr                                                                    0\n",
       "start_dow                                                              Friday"
      ]
     },
     "execution_count": 9,
     "metadata": {},
     "output_type": "execute_result"
    }
   ],
   "source": [
    "df.head(1).T"
   ]
  },
  {
   "cell_type": "code",
   "execution_count": 10,
   "id": "6cd50b80",
   "metadata": {},
   "outputs": [
    {
     "name": "stdout",
     "output_type": "stream",
     "text": [
      "511131\n",
      "25\n"
     ]
    }
   ],
   "source": [
    "##check dimensions of imported file\n",
    "rows = df.shape[0]\n",
    "cols = df.shape[1]\n",
    "print(rows)\n",
    "print(cols)"
   ]
  },
  {
   "cell_type": "markdown",
   "id": "74de1c94",
   "metadata": {},
   "source": [
    "#### Our Model will use and try to predict the total number of Trip Seconds and we will set that to be the dependent variable"
   ]
  },
  {
   "cell_type": "code",
   "execution_count": 11,
   "id": "0c67409d",
   "metadata": {},
   "outputs": [],
   "source": [
    "#TO-DO remove any records with 0 Trip Seconds!\n",
    "##remove null values!"
   ]
  },
  {
   "cell_type": "code",
   "execution_count": 12,
   "id": "b21a81e8",
   "metadata": {},
   "outputs": [],
   "source": [
    "x_cols = [\"Pickup Centroid Latitude\",\"Pickup Centroid Longitude\", \"Dropoff Centroid Longitude\", \n",
    "          \"Dropoff Centroid Latitude\",'start_hr',\n",
    "    'start_dow','Trip Miles']"
   ]
  },
  {
   "cell_type": "code",
   "execution_count": 13,
   "id": "832f8fe2",
   "metadata": {},
   "outputs": [
    {
     "data": {
      "text/plain": [
       "Pickup Centroid Latitude      36571\n",
       "Pickup Centroid Longitude     36571\n",
       "Dropoff Centroid Longitude    59493\n",
       "Dropoff Centroid Latitude     59493\n",
       "start_hr                          0\n",
       "start_dow                         0\n",
       "Trip Miles                        2\n",
       "Trip Seconds                    274\n",
       "dtype: int64"
      ]
     },
     "execution_count": 13,
     "metadata": {},
     "output_type": "execute_result"
    }
   ],
   "source": [
    "df[x_cols+['Trip Seconds']].isna().sum()"
   ]
  },
  {
   "cell_type": "code",
   "execution_count": 14,
   "id": "a18c0123",
   "metadata": {},
   "outputs": [],
   "source": [
    "df = df.dropna(subset=x_cols+['Trip Seconds'])"
   ]
  },
  {
   "cell_type": "code",
   "execution_count": 15,
   "id": "af1bedb8",
   "metadata": {},
   "outputs": [],
   "source": [
    "df['Trip Seconds'] = df['Trip Seconds'].str.replace(',','').astype(int)"
   ]
  },
  {
   "cell_type": "code",
   "execution_count": 16,
   "id": "bd62acc4",
   "metadata": {},
   "outputs": [],
   "source": [
    "df['Trip Seconds'] = df['Trip Seconds'].astype(int)"
   ]
  },
  {
   "cell_type": "code",
   "execution_count": 17,
   "id": "c3cfa0a6",
   "metadata": {},
   "outputs": [],
   "source": [
    "df = df.loc[df['Trip Seconds'] < 5000,:]"
   ]
  },
  {
   "cell_type": "code",
   "execution_count": 18,
   "id": "82dd0e68",
   "metadata": {},
   "outputs": [],
   "source": [
    "df = df[df['Trip Seconds'] > 300]"
   ]
  },
  {
   "cell_type": "code",
   "execution_count": 19,
   "id": "ac46523b",
   "metadata": {},
   "outputs": [
    {
     "data": {
      "text/plain": [
       "<AxesSubplot:ylabel='Frequency'>"
      ]
     },
     "execution_count": 19,
     "metadata": {},
     "output_type": "execute_result"
    },
    {
     "data": {
      "image/png": "[encoded data removed]",
      "text/plain": [
       "<Figure size 432x288 with 1 Axes>"
      ]
     },
     "metadata": {
      "needs_background": "light"
     },
     "output_type": "display_data"
    }
   ],
   "source": [
    "df['Trip Seconds'].plot.hist()"
   ]
  },
  {
   "cell_type": "markdown",
   "id": "2bc93f4d",
   "metadata": {},
   "source": [
    "### Subset to main columns & get train_df"
   ]
  },
  {
   "cell_type": "code",
   "execution_count": 20,
   "id": "a8da2727",
   "metadata": {},
   "outputs": [],
   "source": [
    "train_df = df.loc[:,x_cols+['Trip Seconds']]"
   ]
  },
  {
   "cell_type": "code",
   "execution_count": 21,
   "id": "0f7491fc",
   "metadata": {},
   "outputs": [
    {
     "data": {
      "text/plain": [
       "Pickup Centroid Latitude      float64\n",
       "Pickup Centroid Longitude     float64\n",
       "Dropoff Centroid Longitude    float64\n",
       "Dropoff Centroid Latitude     float64\n",
       "start_hr                        int64\n",
       "start_dow                      object\n",
       "Trip Miles                    float64\n",
       "Trip Seconds                    int64\n",
       "dtype: object"
      ]
     },
     "execution_count": 21,
     "metadata": {},
     "output_type": "execute_result"
    }
   ],
   "source": [
    "train_df.dtypes"
   ]
  },
  {
   "cell_type": "code",
   "execution_count": 22,
   "id": "737cafb3",
   "metadata": {},
   "outputs": [
    {
     "data": {
      "text/plain": [
       "1"
      ]
     },
     "execution_count": 22,
     "metadata": {},
     "output_type": "execute_result"
    }
   ],
   "source": [
    "1"
   ]
  },
  {
   "cell_type": "code",
   "execution_count": 23,
   "id": "6817332a",
   "metadata": {},
   "outputs": [],
   "source": [
    "categorical_columns = ['start_dow']\n",
    "numeric_columns = [\"Pickup Centroid Latitude\",\"Pickup Centroid Longitude\", \n",
    "                   \"Dropoff Centroid Longitude\", \n",
    "          \"Dropoff Centroid Latitude\",'start_hr','Trip Miles','Trip Seconds']"
   ]
  },
  {
   "cell_type": "code",
   "execution_count": 24,
   "id": "b96e974a",
   "metadata": {},
   "outputs": [],
   "source": [
    "def preprocess(dataframe, cat_columns,numeric_columns):\n",
    "    \"\"\"Converts categorical features to numeric. Removes unused columns.\n",
    "\n",
    "    Args:\n",
    "      dataframe: Pandas dataframe with raw data\n",
    "\n",
    "    Returns:\n",
    "      Dataframe with preprocessed data\n",
    "    \"\"\"\n",
    "\n",
    "    \n",
    "    \n",
    "    #1h-encode\n",
    "    for col in cat_columns:\n",
    "        dataframe = dataframe.join(pd.get_dummies(dataframe[col]))\n",
    "        dataframe = dataframe.drop(columns=[col])\n",
    "    \n",
    "    # Convert integer valued (numeric) columns to floating point\n",
    "    dataframe = dataframe.astype('float32')\n",
    "    \n",
    "        \n",
    "    return dataframe"
   ]
  },
  {
   "cell_type": "code",
   "execution_count": 25,
   "id": "585983c2",
   "metadata": {},
   "outputs": [],
   "source": [
    "random_seed = 42\n",
    "tf.random.set_seed(random_seed)\n",
    "np.random.seed(random_seed)"
   ]
  },
  {
   "cell_type": "code",
   "execution_count": 26,
   "id": "6dd8751b",
   "metadata": {},
   "outputs": [],
   "source": [
    "prepped_train_df = preprocess(train_df,categorical_columns,numeric_columns)"
   ]
  },
  {
   "cell_type": "code",
   "execution_count": 27,
   "id": "ee1f3228",
   "metadata": {},
   "outputs": [
    {
     "data": {
      "text/plain": [
       "(354902, 14)"
      ]
     },
     "execution_count": 27,
     "metadata": {},
     "output_type": "execute_result"
    }
   ],
   "source": [
    "prepped_train_df.shape"
   ]
  },
  {
   "cell_type": "code",
   "execution_count": 28,
   "id": "1b011b04",
   "metadata": {},
   "outputs": [
    {
     "data": {
      "text/html": [
       "<div>\n",
       "<style scoped>\n",
       "    .dataframe tbody tr th:only-of-type {\n",
       "        vertical-align: middle;\n",
       "    }\n",
       "\n",
       "    .dataframe tbody tr th {\n",
       "        vertical-align: top;\n",
       "    }\n",
       "\n",
       "    .dataframe thead th {\n",
       "        text-align: right;\n",
       "    }\n",
       "</style>\n",
       "<table border=\"1\" class=\"dataframe\">\n",
       "  <thead>\n",
       "    <tr style=\"text-align: right;\">\n",
       "      <th></th>\n",
       "      <th>0</th>\n",
       "    </tr>\n",
       "  </thead>\n",
       "  <tbody>\n",
       "    <tr>\n",
       "      <th>Pickup Centroid Latitude</th>\n",
       "      <td>41.874004</td>\n",
       "    </tr>\n",
       "    <tr>\n",
       "      <th>Pickup Centroid Longitude</th>\n",
       "      <td>-87.663521</td>\n",
       "    </tr>\n",
       "    <tr>\n",
       "      <th>Dropoff Centroid Longitude</th>\n",
       "      <td>-87.655998</td>\n",
       "    </tr>\n",
       "    <tr>\n",
       "      <th>Dropoff Centroid Latitude</th>\n",
       "      <td>41.944225</td>\n",
       "    </tr>\n",
       "    <tr>\n",
       "      <th>start_hr</th>\n",
       "      <td>0.000000</td>\n",
       "    </tr>\n",
       "    <tr>\n",
       "      <th>Trip Miles</th>\n",
       "      <td>6.400000</td>\n",
       "    </tr>\n",
       "    <tr>\n",
       "      <th>Trip Seconds</th>\n",
       "      <td>1140.000000</td>\n",
       "    </tr>\n",
       "    <tr>\n",
       "      <th>Friday</th>\n",
       "      <td>1.000000</td>\n",
       "    </tr>\n",
       "    <tr>\n",
       "      <th>Monday</th>\n",
       "      <td>0.000000</td>\n",
       "    </tr>\n",
       "    <tr>\n",
       "      <th>Saturday</th>\n",
       "      <td>0.000000</td>\n",
       "    </tr>\n",
       "    <tr>\n",
       "      <th>Sunday</th>\n",
       "      <td>0.000000</td>\n",
       "    </tr>\n",
       "    <tr>\n",
       "      <th>Thursday</th>\n",
       "      <td>0.000000</td>\n",
       "    </tr>\n",
       "    <tr>\n",
       "      <th>Tuesday</th>\n",
       "      <td>0.000000</td>\n",
       "    </tr>\n",
       "    <tr>\n",
       "      <th>Wednesday</th>\n",
       "      <td>0.000000</td>\n",
       "    </tr>\n",
       "  </tbody>\n",
       "</table>\n",
       "</div>"
      ],
      "text/plain": [
       "                                      0\n",
       "Pickup Centroid Latitude      41.874004\n",
       "Pickup Centroid Longitude    -87.663521\n",
       "Dropoff Centroid Longitude   -87.655998\n",
       "Dropoff Centroid Latitude     41.944225\n",
       "start_hr                       0.000000\n",
       "Trip Miles                     6.400000\n",
       "Trip Seconds                1140.000000\n",
       "Friday                         1.000000\n",
       "Monday                         0.000000\n",
       "Saturday                       0.000000\n",
       "Sunday                         0.000000\n",
       "Thursday                       0.000000\n",
       "Tuesday                        0.000000\n",
       "Wednesday                      0.000000"
      ]
     },
     "execution_count": 28,
     "metadata": {},
     "output_type": "execute_result"
    }
   ],
   "source": [
    "prepped_train_df.head(1).T"
   ]
  },
  {
   "cell_type": "code",
   "execution_count": 29,
   "id": "3547779a",
   "metadata": {},
   "outputs": [],
   "source": [
    "_LABEL_COLUMN = 'Trip Seconds'\n",
    "\n",
    "### Hyperparameters for training ###\n",
    "\n",
    "# This the training batch size\n",
    "BATCH_SIZE = 32\n",
    "\n",
    "# This is the number of epochs (passes over the full training data)\n",
    "NUM_EPOCHS = 20\n",
    "\n",
    "# Define learning rate.\n",
    "LEARNING_RATE = .05"
   ]
  },
  {
   "cell_type": "markdown",
   "id": "16164c6b",
   "metadata": {},
   "source": [
    "## Model Development Using Tensorflow"
   ]
  },
  {
   "cell_type": "code",
   "execution_count": 30,
   "id": "84bc0fe5",
   "metadata": {},
   "outputs": [],
   "source": [
    "# Split train and test data with labels.\n",
    "# The pop() method will extract (copy) and remove the label column from the dataframe\n",
    "train_x, train_y = prepped_train_df, prepped_train_df.pop(_LABEL_COLUMN)\n",
    "\n",
    "# Reshape label columns for use with tf.data.Dataset\n",
    "train_y = np.asarray(train_y).astype('float32').reshape((-1, 1))"
   ]
  },
  {
   "cell_type": "code",
   "execution_count": 31,
   "id": "7570b210",
   "metadata": {},
   "outputs": [
    {
     "data": {
      "text/plain": [
       "Pickup Centroid Latitude      float32\n",
       "Pickup Centroid Longitude     float32\n",
       "Dropoff Centroid Longitude    float32\n",
       "Dropoff Centroid Latitude     float32\n",
       "start_hr                      float32\n",
       "Trip Miles                    float32\n",
       "Friday                        float32\n",
       "Monday                        float32\n",
       "Saturday                      float32\n",
       "Sunday                        float32\n",
       "Thursday                      float32\n",
       "Tuesday                       float32\n",
       "Wednesday                     float32\n",
       "dtype: object"
      ]
     },
     "execution_count": 31,
     "metadata": {},
     "output_type": "execute_result"
    }
   ],
   "source": [
    "train_x.dtypes"
   ]
  },
  {
   "cell_type": "code",
   "execution_count": 32,
   "id": "047de6e9",
   "metadata": {},
   "outputs": [],
   "source": [
    "def standardize(dataframe):\n",
    "  \"\"\"Scales numerical columns using their means and standard deviation to get\n",
    "  z-scores: the mean of each numerical column becomes 0, and the standard\n",
    "  deviation becomes 1. This can help the model converge during training.\n",
    "\n",
    "  Args:\n",
    "    dataframe: Pandas dataframe\n",
    "\n",
    "  Returns:\n",
    "    Input dataframe with the numerical columns scaled to z-scores\n",
    "  \"\"\"\n",
    "  dtypes = list(zip(dataframe.dtypes.index, map(str, dataframe.dtypes)))\n",
    "  # Normalize numeric columns.\n",
    "  for column, dtype in dtypes:\n",
    "      if dtype == 'float32':\n",
    "          dataframe[column] -= dataframe[column].mean()\n",
    "          dataframe[column] /= dataframe[column].std()\n",
    "  return dataframe\n",
    "\n",
    "\n",
    "# Join train_x and eval_x to normalize on overall means and standard\n",
    "# deviations. Then separate them again.\n",
    "train_x = standardize(train_x)"
   ]
  },
  {
   "cell_type": "code",
   "execution_count": 33,
   "id": "1f3032c8",
   "metadata": {},
   "outputs": [
    {
     "data": {
      "text/html": [
       "<div>\n",
       "<style scoped>\n",
       "    .dataframe tbody tr th:only-of-type {\n",
       "        vertical-align: middle;\n",
       "    }\n",
       "\n",
       "    .dataframe tbody tr th {\n",
       "        vertical-align: top;\n",
       "    }\n",
       "\n",
       "    .dataframe thead th {\n",
       "        text-align: right;\n",
       "    }\n",
       "</style>\n",
       "<table border=\"1\" class=\"dataframe\">\n",
       "  <thead>\n",
       "    <tr style=\"text-align: right;\">\n",
       "      <th></th>\n",
       "      <th>Pickup Centroid Latitude</th>\n",
       "      <th>Pickup Centroid Longitude</th>\n",
       "      <th>Dropoff Centroid Longitude</th>\n",
       "      <th>Dropoff Centroid Latitude</th>\n",
       "      <th>start_hr</th>\n",
       "      <th>Trip Miles</th>\n",
       "      <th>Friday</th>\n",
       "      <th>Monday</th>\n",
       "      <th>Saturday</th>\n",
       "      <th>Sunday</th>\n",
       "      <th>Thursday</th>\n",
       "      <th>Tuesday</th>\n",
       "      <th>Wednesday</th>\n",
       "    </tr>\n",
       "  </thead>\n",
       "  <tbody>\n",
       "    <tr>\n",
       "      <th>0</th>\n",
       "      <td>-1.160408</td>\n",
       "      <td>2.806463</td>\n",
       "      <td>4.199026</td>\n",
       "      <td>-0.203595</td>\n",
       "      <td>-2.898304</td>\n",
       "      <td>0.130545</td>\n",
       "      <td>2.265493</td>\n",
       "      <td>-0.429313</td>\n",
       "      <td>-0.374679</td>\n",
       "      <td>-0.323708</td>\n",
       "      <td>-0.422757</td>\n",
       "      <td>-0.423209</td>\n",
       "      <td>-0.435342</td>\n",
       "    </tr>\n",
       "    <tr>\n",
       "      <th>1</th>\n",
       "      <td>-0.819246</td>\n",
       "      <td>3.166057</td>\n",
       "      <td>4.601823</td>\n",
       "      <td>-0.807461</td>\n",
       "      <td>-2.898304</td>\n",
       "      <td>-0.754448</td>\n",
       "      <td>2.265493</td>\n",
       "      <td>-0.429313</td>\n",
       "      <td>-0.374679</td>\n",
       "      <td>-0.323708</td>\n",
       "      <td>-0.422757</td>\n",
       "      <td>-0.423209</td>\n",
       "      <td>-0.435342</td>\n",
       "    </tr>\n",
       "    <tr>\n",
       "      <th>2</th>\n",
       "      <td>-0.511540</td>\n",
       "      <td>2.973456</td>\n",
       "      <td>4.201193</td>\n",
       "      <td>0.088531</td>\n",
       "      <td>-2.898304</td>\n",
       "      <td>-0.164452</td>\n",
       "      <td>2.265493</td>\n",
       "      <td>-0.429313</td>\n",
       "      <td>-0.374679</td>\n",
       "      <td>-0.323708</td>\n",
       "      <td>-0.422757</td>\n",
       "      <td>-0.423209</td>\n",
       "      <td>-0.435342</td>\n",
       "    </tr>\n",
       "  </tbody>\n",
       "</table>\n",
       "</div>"
      ],
      "text/plain": [
       "   Pickup Centroid Latitude  Pickup Centroid Longitude  \\\n",
       "0                 -1.160408                   2.806463   \n",
       "1                 -0.819246                   3.166057   \n",
       "2                 -0.511540                   2.973456   \n",
       "\n",
       "   Dropoff Centroid Longitude  Dropoff Centroid Latitude  start_hr  \\\n",
       "0                    4.199026                  -0.203595 -2.898304   \n",
       "1                    4.601823                  -0.807461 -2.898304   \n",
       "2                    4.201193                   0.088531 -2.898304   \n",
       "\n",
       "   Trip Miles    Friday    Monday  Saturday    Sunday  Thursday   Tuesday  \\\n",
       "0    0.130545  2.265493 -0.429313 -0.374679 -0.323708 -0.422757 -0.423209   \n",
       "1   -0.754448  2.265493 -0.429313 -0.374679 -0.323708 -0.422757 -0.423209   \n",
       "2   -0.164452  2.265493 -0.429313 -0.374679 -0.323708 -0.422757 -0.423209   \n",
       "\n",
       "   Wednesday  \n",
       "0  -0.435342  \n",
       "1  -0.435342  \n",
       "2  -0.435342  "
      ]
     },
     "execution_count": 33,
     "metadata": {},
     "output_type": "execute_result"
    }
   ],
   "source": [
    "train_x.head(3)"
   ]
  },
  {
   "cell_type": "code",
   "execution_count": 34,
   "id": "08a47c8e",
   "metadata": {},
   "outputs": [],
   "source": [
    "def input_fn(features, labels, shuffle, num_epochs, batch_size):\n",
    "  \"\"\"Generates an input function to be used for model training.\n",
    "\n",
    "  Args:\n",
    "    features: numpy array of features used for training or inference\n",
    "    labels: numpy array of labels for each example\n",
    "    shuffle: boolean for whether to shuffle the data or not (set True for\n",
    "      training, False for evaluation)\n",
    "    num_epochs: number of epochs to provide the data for\n",
    "    batch_size: batch size for training\n",
    "\n",
    "  Returns:\n",
    "    A tf.data.Dataset that can provide data to the Keras model for training or\n",
    "      evaluation\n",
    "  \"\"\"\n",
    "  if labels is None:\n",
    "    inputs = features\n",
    "  else:\n",
    "    inputs = (features, labels)\n",
    "  dataset = tf.data.Dataset.from_tensor_slices(inputs)\n",
    "\n",
    "  if shuffle:\n",
    "    dataset = dataset.shuffle(buffer_size=len(features))\n",
    "\n",
    "  # We call repeat after shuffling, rather than before, to prevent separate\n",
    "  # epochs from blending together.\n",
    "  dataset = dataset.repeat(num_epochs)\n",
    "  dataset = dataset.batch(batch_size)\n",
    "  return dataset"
   ]
  },
  {
   "cell_type": "code",
   "execution_count": 35,
   "id": "6289b3ab",
   "metadata": {},
   "outputs": [],
   "source": [
    "# Pass a numpy array by using DataFrame.values\n",
    "training_dataset = input_fn(features=train_x.values,\n",
    "                    labels=train_y,\n",
    "                    shuffle=True,\n",
    "                    num_epochs=NUM_EPOCHS,\n",
    "                    batch_size=BATCH_SIZE)"
   ]
  },
  {
   "cell_type": "code",
   "execution_count": 85,
   "id": "8d39f9fb",
   "metadata": {},
   "outputs": [],
   "source": [
    "def create_keras_model(input_dim, learning_rate):\n",
    "  \"\"\"Creates Keras Model for Binary Classification.\n",
    "\n",
    "  Args:\n",
    "    input_dim: How many features the input has\n",
    "    learning_rate: Learning rate for training\n",
    "\n",
    "  Returns:\n",
    "    The compiled Keras model (still needs to be trained)\n",
    "  \"\"\"\n",
    "  Dense = tf.keras.layers.Dense\n",
    "  model = tf.keras.Sequential(\n",
    "    [\n",
    "        Dense(13, activation=tf.nn.relu, kernel_initializer='normal',\n",
    "                input_shape=(input_dim,)),\n",
    "        Dense(8, activation=tf.nn.relu, kernel_initializer='normal',\n",
    "                input_shape=(input_dim,)),\n",
    "        Dense(4, activation=tf.nn.relu, kernel_initializer='normal',\n",
    "                input_shape=(input_dim,)),\n",
    "        Dense(1, kernel_initializer='normal')\n",
    "    ])\n",
    "\n",
    "  # Custom Optimizer:\n",
    "  # https://www.tensorflow.org/api_docs/python/tf/train/RMSPropOptimizer\n",
    "  #optimizer = tf.keras.optimizers.Ftrl(\n",
    "     # lr=learning_rate)\n",
    "\n",
    "  lr_schedule = tf.keras.optimizers.schedules.ExponentialDecay(\n",
    "      initial_learning_rate=.1,\n",
    "      decay_steps=50,\n",
    "      decay_rate=0.97)\n",
    "\n",
    "  # Compile Keras model\n",
    "  model.compile(\n",
    "      loss=\"mean_absolute_error\", optimizer=tf.keras.optimizers.Adam(learning_rate=lr_schedule))\n",
    "\n",
    "  return model"
   ]
  },
  {
   "cell_type": "code",
   "execution_count": 86,
   "id": "f8940dcc",
   "metadata": {},
   "outputs": [
    {
     "data": {
      "text/plain": [
       "array([[-1.1604081 ,  2.8064632 ,  4.199026  , -0.20359468, -2.8983045 ,\n",
       "         0.13054544,  2.2654932 , -0.4293134 , -0.37467915, -0.32370767,\n",
       "        -0.42275685, -0.42320913, -0.43534166]], dtype=float32)"
      ]
     },
     "execution_count": 86,
     "metadata": {},
     "output_type": "execute_result"
    }
   ],
   "source": [
    "train_x.head(1).values"
   ]
  },
  {
   "cell_type": "code",
   "execution_count": 87,
   "id": "90c88ecd",
   "metadata": {},
   "outputs": [
    {
     "name": "stdout",
     "output_type": "stream",
     "text": [
      "Number of features: 13\n",
      "Number of examples: 354902\n"
     ]
    }
   ],
   "source": [
    "num_train_examples, input_dim = train_x.shape\n",
    "print('Number of features: {}'.format(input_dim))\n",
    "print('Number of examples: {}'.format(num_train_examples))\n",
    "\n",
    "keras_model = create_keras_model(\n",
    "    input_dim=input_dim,\n",
    "    learning_rate=LEARNING_RATE)"
   ]
  },
  {
   "cell_type": "code",
   "execution_count": null,
   "id": "c8fa42b5",
   "metadata": {},
   "outputs": [],
   "source": []
  },
  {
   "cell_type": "code",
   "execution_count": 88,
   "id": "b37c6e54",
   "metadata": {},
   "outputs": [
    {
     "name": "stdout",
     "output_type": "stream",
     "text": [
      "Epoch 1/20\n",
      "500/500 [==============================] - 2s 3ms/step - loss: 540.9328\n",
      "Epoch 2/20\n",
      "500/500 [==============================] - 2s 3ms/step - loss: 414.6214\n",
      "Epoch 3/20\n",
      "500/500 [==============================] - 2s 3ms/step - loss: 399.5412\n",
      "Epoch 4/20\n",
      "500/500 [==============================] - 1s 3ms/step - loss: 401.8909\n",
      "Epoch 5/20\n",
      "500/500 [==============================] - 2s 3ms/step - loss: 397.7583\n",
      "Epoch 6/20\n",
      "500/500 [==============================] - 1s 3ms/step - loss: 388.0793\n",
      "Epoch 7/20\n",
      "500/500 [==============================] - 2s 3ms/step - loss: 397.9095\n",
      "Epoch 8/20\n",
      "500/500 [==============================] - 2s 3ms/step - loss: 378.0913\n",
      "Epoch 9/20\n",
      "500/500 [==============================] - 1s 3ms/step - loss: 389.0878\n",
      "Epoch 10/20\n",
      "500/500 [==============================] - 1s 3ms/step - loss: 388.9218\n",
      "Epoch 11/20\n",
      "500/500 [==============================] - 2s 3ms/step - loss: 385.8056\n",
      "Epoch 12/20\n",
      "500/500 [==============================] - 1s 3ms/step - loss: 379.0505\n",
      "Epoch 13/20\n",
      "500/500 [==============================] - 1s 3ms/step - loss: 377.7136\n",
      "Epoch 14/20\n",
      "500/500 [==============================] - 1s 3ms/step - loss: 364.3644\n",
      "Epoch 15/20\n",
      "500/500 [==============================] - 1s 3ms/step - loss: 378.1342\n",
      "Epoch 16/20\n",
      "500/500 [==============================] - 1s 3ms/step - loss: 381.4914\n",
      "Epoch 17/20\n",
      "500/500 [==============================] - 1s 3ms/step - loss: 373.1414\n",
      "Epoch 18/20\n",
      "500/500 [==============================] - 1s 3ms/step - loss: 373.8465\n",
      "Epoch 19/20\n",
      "175/500 [=========>....................] - ETA: 0s - loss: 379.3281"
     ]
    },
    {
     "ename": "KeyboardInterrupt",
     "evalue": "",
     "output_type": "error",
     "traceback": [
      "\u001b[0;31m---------------------------------------------------------------------------\u001b[0m",
      "\u001b[0;31mKeyboardInterrupt\u001b[0m                         Traceback (most recent call last)",
      "\u001b[0;32m<ipython-input-88-85c4b1215b3b>\u001b[0m in \u001b[0;36m<module>\u001b[0;34m\u001b[0m\n\u001b[1;32m      2\u001b[0m                           \u001b[0mepochs\u001b[0m\u001b[0;34m=\u001b[0m\u001b[0mNUM_EPOCHS\u001b[0m\u001b[0;34m,\u001b[0m\u001b[0;34m\u001b[0m\u001b[0;34m\u001b[0m\u001b[0m\n\u001b[1;32m      3\u001b[0m                           \u001b[0msteps_per_epoch\u001b[0m\u001b[0;34m=\u001b[0m\u001b[0;36m500\u001b[0m\u001b[0;34m,\u001b[0m\u001b[0;34m\u001b[0m\u001b[0;34m\u001b[0m\u001b[0m\n\u001b[0;32m----> 4\u001b[0;31m                           verbose=1)\n\u001b[0m",
      "\u001b[0;32m/opt/conda/lib/python3.7/site-packages/tensorflow/python/keras/engine/training.py\u001b[0m in \u001b[0;36mfit\u001b[0;34m(self, x, y, batch_size, epochs, verbose, callbacks, validation_split, validation_data, shuffle, class_weight, sample_weight, initial_epoch, steps_per_epoch, validation_steps, validation_batch_size, validation_freq, max_queue_size, workers, use_multiprocessing)\u001b[0m\n\u001b[1;32m   1105\u001b[0m               \u001b[0mcallbacks\u001b[0m\u001b[0;34m.\u001b[0m\u001b[0mon_train_batch_end\u001b[0m\u001b[0;34m(\u001b[0m\u001b[0mend_step\u001b[0m\u001b[0;34m,\u001b[0m \u001b[0mlogs\u001b[0m\u001b[0;34m)\u001b[0m\u001b[0;34m\u001b[0m\u001b[0;34m\u001b[0m\u001b[0m\n\u001b[1;32m   1106\u001b[0m               \u001b[0;32mif\u001b[0m \u001b[0mself\u001b[0m\u001b[0;34m.\u001b[0m\u001b[0mstop_training\u001b[0m\u001b[0;34m:\u001b[0m\u001b[0;34m\u001b[0m\u001b[0;34m\u001b[0m\u001b[0m\n\u001b[0;32m-> 1107\u001b[0;31m                 \u001b[0;32mbreak\u001b[0m\u001b[0;34m\u001b[0m\u001b[0;34m\u001b[0m\u001b[0m\n\u001b[0m\u001b[1;32m   1108\u001b[0m \u001b[0;34m\u001b[0m\u001b[0m\n\u001b[1;32m   1109\u001b[0m         \u001b[0;32mif\u001b[0m \u001b[0mlogs\u001b[0m \u001b[0;32mis\u001b[0m \u001b[0;32mNone\u001b[0m\u001b[0;34m:\u001b[0m\u001b[0;34m\u001b[0m\u001b[0;34m\u001b[0m\u001b[0m\n",
      "\u001b[0;31mKeyboardInterrupt\u001b[0m: "
     ]
    }
   ],
   "source": [
    "history = keras_model.fit(training_dataset,\n",
    "                          epochs=NUM_EPOCHS,\n",
    "                          steps_per_epoch=500,\n",
    "                          verbose=1)"
   ]
  },
  {
   "cell_type": "code",
   "execution_count": 80,
   "id": "c452adcd",
   "metadata": {},
   "outputs": [
    {
     "name": "stdout",
     "output_type": "stream",
     "text": [
      "Model: \"sequential_6\"\n",
      "_________________________________________________________________\n",
      "Layer (type)                 Output Shape              Param #   \n",
      "=================================================================\n",
      "dense_16 (Dense)             (None, 13)                182       \n",
      "_________________________________________________________________\n",
      "dense_17 (Dense)             (None, 8)                 112       \n",
      "_________________________________________________________________\n",
      "dense_18 (Dense)             (None, 4)                 36        \n",
      "_________________________________________________________________\n",
      "dense_19 (Dense)             (None, 1)                 5         \n",
      "=================================================================\n",
      "Total params: 335\n",
      "Trainable params: 335\n",
      "Non-trainable params: 0\n",
      "_________________________________________________________________\n"
     ]
    }
   ],
   "source": [
    "keras_model.summary()"
   ]
  },
  {
   "cell_type": "code",
   "execution_count": 70,
   "id": "e6d64497",
   "metadata": {},
   "outputs": [
    {
     "name": "stdout",
     "output_type": "stream",
     "text": [
      "11091/11091 [==============================] - 21s 2ms/step - loss: 373.4281\n"
     ]
    }
   ],
   "source": [
    "mae = round(keras_model.evaluate(train_x,train_y),0)"
   ]
  },
  {
   "cell_type": "code",
   "execution_count": 72,
   "id": "2fc4f8c3",
   "metadata": {},
   "outputs": [],
   "source": [
    "mae = int(mae)"
   ]
  },
  {
   "cell_type": "code",
   "execution_count": 73,
   "id": "15a258d0",
   "metadata": {},
   "outputs": [
    {
     "data": {
      "text/plain": [
       "373"
      ]
     },
     "execution_count": 73,
     "metadata": {},
     "output_type": "execute_result"
    }
   ],
   "source": [
    "mae"
   ]
  },
  {
   "cell_type": "code",
   "execution_count": 84,
   "id": "3d7fbbd3",
   "metadata": {},
   "outputs": [],
   "source": [
    "import json\n",
    "with open('my_model/model_metrics.json', 'w') as json_file:\n",
    "    mae_dict = {'curr_mae':mae}\n",
    "    json.dump(mae_dict, json_file)"
   ]
  },
  {
   "cell_type": "code",
   "execution_count": null,
   "id": "56e548c2",
   "metadata": {},
   "outputs": [],
   "source": [
    "CATEGORICAL_COLUMNS+NUMERIC_COLUMNS"
   ]
  },
  {
   "cell_type": "code",
   "execution_count": null,
   "id": "5dfdec7e",
   "metadata": {},
   "outputs": [],
   "source": [
    "xt_ordered = x_train[CATEGORICAL_COLUMNS+NUMERIC_COLUMNS]"
   ]
  },
  {
   "cell_type": "code",
   "execution_count": null,
   "id": "96b167f7",
   "metadata": {},
   "outputs": [],
   "source": [
    "train_y[:10]"
   ]
  },
  {
   "cell_type": "code",
   "execution_count": null,
   "id": "534d3642",
   "metadata": {},
   "outputs": [],
   "source": [
    "xt_ordered.head(1).T.to_dict()[0]"
   ]
  },
  {
   "cell_type": "code",
   "execution_count": null,
   "id": "b3d5aaf6",
   "metadata": {},
   "outputs": [],
   "source": [
    "import json\n",
    "\n",
    "with open('prediction_input.json', 'w') as json_file:\n",
    "  for row in train_x.head(10).values.tolist():\n",
    "    json.dump(row, json_file)\n",
    "    json_file.write('\\n')"
   ]
  },
  {
   "cell_type": "code",
   "execution_count": null,
   "id": "f305c1c8",
   "metadata": {},
   "outputs": [],
   "source": [
    "import json\n",
    "\n",
    "jdict = {}\n",
    "#with open('prediction_input.json', 'w') as json_file:\n",
    "inst_ls = []\n",
    "ct = 1\n",
    "#inst_ls.append(xt_ordered.head(1).T.to_dict()[0])\n",
    "#with open('prediction_input.json', 'w') as json_file:\n",
    "    #for row in xt_ordered.head(1).values.tolist():\n",
    "    #   json.dump(row, json_file)\n",
    "    #    json_file.write('\\n')\n",
    "    \n",
    "         #inst_ls.append(row)\n",
    "\n",
    "#inst_ls.append(xt_ordered.head(1).T.to_dict()[0])#,\"key\":ct})    \n",
    "inst_ls = [-0.1721081 ,  0.06131365, -0.01878417,  0.84623253, -2.8942175 ,\n",
    "         0.27650514,  2.262631  , -0.4293633 , -0.37099934, -0.31818122,\n",
    "        -0.42654246, -0.4253335 , -0.43786868]\n",
    "    #ct+=1\n",
    "    #json.dump(row, json_file)\n",
    "    #json_file.write('\\n')\n",
    "    \n",
    "jdict = {'instances': inst_ls}\n",
    "\n",
    "with open('prediction_input.json', 'w') as json_file:\n",
    "  json.dump(jdict, json_file)"
   ]
  },
  {
   "cell_type": "code",
   "execution_count": null,
   "id": "9f641367",
   "metadata": {},
   "outputs": [],
   "source": [
    "jdict"
   ]
  },
  {
   "cell_type": "code",
   "execution_count": null,
   "id": "e9982d58",
   "metadata": {},
   "outputs": [],
   "source": [
    "xt_ordered.head(1).T.to_dict()[0]"
   ]
  },
  {
   "cell_type": "code",
   "execution_count": null,
   "id": "8c0995d3",
   "metadata": {},
   "outputs": [],
   "source": [
    "xt_ordered.head(1).values"
   ]
  },
  {
   "cell_type": "code",
   "execution_count": null,
   "id": "ab23c90d",
   "metadata": {},
   "outputs": [],
   "source": [
    "feature_spec = tf.feature_column.make_parse_example_spec(feature_columns)\n",
    "print(feature_spec)\n",
    "serving_input_receiver_fn = tf.estimator.export.build_parsing_serving_input_receiver_fn(feature_spec)"
   ]
  },
  {
   "cell_type": "code",
   "execution_count": null,
   "id": "79f88636",
   "metadata": {},
   "outputs": [],
   "source": [
    "tf.saved_model.load(\"gs://taxi-mlops-demo-kubeflowpipelines-default/mlops-demo/model/1620678644/saved_model.pb\")"
   ]
  },
  {
   "cell_type": "code",
   "execution_count": null,
   "id": "d7d3a50b",
   "metadata": {},
   "outputs": [],
   "source": [
    "xt_ordered.head(1).values.tolist()[0]"
   ]
  },
  {
   "cell_type": "code",
   "execution_count": null,
   "id": "5da08e32",
   "metadata": {},
   "outputs": [],
   "source": [
    "jdict"
   ]
  },
  {
   "cell_type": "code",
   "execution_count": null,
   "id": "c790292b",
   "metadata": {},
   "outputs": [],
   "source": [
    "xt_ordered.head(1).T.to_dict()[0]"
   ]
  },
  {
   "cell_type": "code",
   "execution_count": null,
   "id": "7d651691",
   "metadata": {},
   "outputs": [],
   "source": [
    "jdict"
   ]
  },
  {
   "cell_type": "code",
   "execution_count": null,
   "id": "f5398799",
   "metadata": {},
   "outputs": [],
   "source": [
    "## Train the model\n",
    "linear_est = tf.estimator.LinearRegressor(feature_columns=feature_columns)\n",
    "linear_est.train(train_input_fn)\n",
    "#result = linear_est.evaluate(eval_input_fn)\n",
    "##remove null values, the error is related to that."
   ]
  },
  {
   "cell_type": "code",
   "execution_count": null,
   "id": "4e377d92",
   "metadata": {},
   "outputs": [],
   "source": [
    "inputFn = tf.estimator.export.build_parsing_serving_input_receiver_fn(tf.feature_column.make_parse_example_spec(feature_columns))\n",
    "\n",
    "modelPath = linear_est.export_saved_model('md', inputFn)"
   ]
  },
  {
   "cell_type": "code",
   "execution_count": null,
   "id": "e11e303c",
   "metadata": {},
   "outputs": [],
   "source": [
    "importedModel = tf.saved_model.load('md/1620831681')"
   ]
  },
  {
   "cell_type": "code",
   "execution_count": null,
   "id": "dec0368c",
   "metadata": {},
   "outputs": [],
   "source": [
    "importedModel.__dict__.keys()"
   ]
  },
  {
   "cell_type": "code",
   "execution_count": null,
   "id": "4a94b9c3",
   "metadata": {},
   "outputs": [],
   "source": [
    "importedModel.variables"
   ]
  },
  {
   "cell_type": "code",
   "execution_count": null,
   "id": "610e04d1",
   "metadata": {},
   "outputs": [],
   "source": []
  }
 ],
 "metadata": {
  "environment": {
   "name": "tf2-gpu.2-4.m69",
   "type": "gcloud",
   "uri": "gcr.io/deeplearning-platform-release/tf2-gpu.2-4:m69"
  },
  "kernelspec": {
   "display_name": "Python [conda env:root] *",
   "language": "python",
   "name": "conda-root-py"
  },
  "language_info": {
   "codemirror_mode": {
    "name": "ipython",
    "version": 3
   },
   "file_extension": ".py",
   "mimetype": "text/x-python",
   "name": "python",
   "nbconvert_exporter": "python",
   "pygments_lexer": "ipython3",
   "version": "3.7.10"
  }
 },
 "nbformat": 4,
 "nbformat_minor": 5
}
